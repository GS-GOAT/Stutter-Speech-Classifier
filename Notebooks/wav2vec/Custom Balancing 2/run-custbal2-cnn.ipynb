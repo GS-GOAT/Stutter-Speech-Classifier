{
 "cells": [
  {
   "cell_type": "code",
   "execution_count": null,
   "metadata": {
    "execution": {
     "iopub.execute_input": "2025-07-25T08:16:28.382785Z",
     "iopub.status.busy": "2025-07-25T08:16:28.382400Z",
     "iopub.status.idle": "2025-07-25T08:16:58.280917Z",
     "shell.execute_reply": "2025-07-25T08:16:58.277545Z",
     "shell.execute_reply.started": "2025-07-25T08:16:28.382725Z"
    },
    "trusted": true
   },
   "outputs": [
    {
     "name": "stderr",
     "output_type": "stream",
     "text": [
      "WARNING: Logging before InitGoogle() is written to STDERR\n",
      "E0000 00:00:1753431396.138184      10 common_lib.cc:612] Could not set metric server port: INVALID_ARGUMENT: Could not find SliceBuilder port 8471 in any of the 0 ports provided in `tpu_process_addresses`=\"local\"\n",
      "=== Source Location Trace: === \n",
      "learning/45eac/tfrc/runtime/common_lib.cc:230\n"
     ]
    }
   ],
   "source": [
    "import pandas as pd\n",
    "import numpy as np\n",
    "import tensorflow as tf\n",
    "import matplotlib.pyplot as plt\n",
    "from pathlib import Path\n",
    "import os\n",
    "\n",
    "from sklearn.metrics import classification_report\n",
    "import tensorflow.keras.backend as K\n",
    "\n",
    "from tensorflow.keras import layers"
   ]
  },
  {
   "cell_type": "code",
   "execution_count": null,
   "metadata": {
    "execution": {
     "iopub.execute_input": "2025-07-25T10:02:45.185721Z",
     "iopub.status.busy": "2025-07-25T10:02:45.185363Z",
     "iopub.status.idle": "2025-07-25T10:02:45.200092Z",
     "shell.execute_reply": "2025-07-25T10:02:45.194726Z",
     "shell.execute_reply.started": "2025-07-25T10:02:45.185692Z"
    },
    "trusted": true
   },
   "outputs": [],
   "source": [
    "# Config \n",
    "INPUT_DIR = Path(\"/kaggle/working/output_wav2vec_custom_augmented\")\n",
    "OUTPUT_DIR = Path(\"./output_cnn_class_tpu\")\n",
    "OUTPUT_DIR.mkdir(exist_ok=True)\n",
    "\n",
    "MAX_SEQ_LEN = 150\n",
    "EMBEDDING_DIM = 768\n",
    "LABEL_COLS = ['Prolongation', 'Block', 'SoundRep', 'WordRep', 'Interjection']\n",
    "NUM_CLASSES = len(LABEL_COLS)\n",
    "\n",
    "BATCH_SIZE_PER_REPLICA = 16\n",
    "EPOCHS = 400\n",
    "LEARNING_RATE = 1e-4\n",
    "THRESHOLD = 0.5\n",
    "\n",
    "TRAIN_DATA_PATH = INPUT_DIR / \"train_data.npz\"\n",
    "VAL_DATA_PATH = INPUT_DIR / \"val_data.npz\"\n",
    "TEST_DATA_PATH = INPUT_DIR / \"test_data.npz\"\n",
    "OUTPUT_DIR = Path(\"./\")\n",
    "BEST_MODEL_PATH = OUTPUT_DIR / \"best_cnn_model.keras\"\n"
   ]
  },
  {
   "cell_type": "code",
   "execution_count": null,
   "metadata": {
    "execution": {
     "iopub.execute_input": "2025-07-25T10:02:55.340797Z",
     "iopub.status.busy": "2025-07-25T10:02:55.340490Z",
     "iopub.status.idle": "2025-07-25T10:03:01.356619Z",
     "shell.execute_reply": "2025-07-25T10:03:01.350694Z",
     "shell.execute_reply.started": "2025-07-25T10:02:55.340770Z"
    },
    "trusted": true
   },
   "outputs": [
    {
     "name": "stdout",
     "output_type": "stream",
     "text": [
      "--- Initializing TPU Strategy ---\n",
      "INFO:tensorflow:Deallocate tpu buffers before initializing tpu system.\n"
     ]
    },
    {
     "name": "stderr",
     "output_type": "stream",
     "text": [
      "INFO:tensorflow:Deallocate tpu buffers before initializing tpu system.\n"
     ]
    },
    {
     "name": "stdout",
     "output_type": "stream",
     "text": [
      "WARNING:tensorflow:TPU system local has already been initialized. Reinitializing the TPU can cause previously created variables on TPU to be lost.\n"
     ]
    },
    {
     "name": "stderr",
     "output_type": "stream",
     "text": [
      "WARNING:tensorflow:TPU system local has already been initialized. Reinitializing the TPU can cause previously created variables on TPU to be lost.\n"
     ]
    },
    {
     "name": "stdout",
     "output_type": "stream",
     "text": [
      "INFO:tensorflow:Initializing the TPU system: local\n"
     ]
    },
    {
     "name": "stderr",
     "output_type": "stream",
     "text": [
      "INFO:tensorflow:Initializing the TPU system: local\n"
     ]
    },
    {
     "name": "stdout",
     "output_type": "stream",
     "text": [
      "INFO:tensorflow:Finished initializing TPU system.\n"
     ]
    },
    {
     "name": "stderr",
     "output_type": "stream",
     "text": [
      "INFO:tensorflow:Finished initializing TPU system.\n"
     ]
    },
    {
     "name": "stdout",
     "output_type": "stream",
     "text": [
      "INFO:tensorflow:Found TPU system:\n"
     ]
    },
    {
     "name": "stderr",
     "output_type": "stream",
     "text": [
      "INFO:tensorflow:Found TPU system:\n"
     ]
    },
    {
     "name": "stdout",
     "output_type": "stream",
     "text": [
      "INFO:tensorflow:*** Num TPU Cores: 8\n"
     ]
    },
    {
     "name": "stderr",
     "output_type": "stream",
     "text": [
      "INFO:tensorflow:*** Num TPU Cores: 8\n"
     ]
    },
    {
     "name": "stdout",
     "output_type": "stream",
     "text": [
      "INFO:tensorflow:*** Num TPU Workers: 1\n"
     ]
    },
    {
     "name": "stderr",
     "output_type": "stream",
     "text": [
      "INFO:tensorflow:*** Num TPU Workers: 1\n"
     ]
    },
    {
     "name": "stdout",
     "output_type": "stream",
     "text": [
      "INFO:tensorflow:*** Num TPU Cores Per Worker: 8\n"
     ]
    },
    {
     "name": "stderr",
     "output_type": "stream",
     "text": [
      "INFO:tensorflow:*** Num TPU Cores Per Worker: 8\n"
     ]
    },
    {
     "name": "stdout",
     "output_type": "stream",
     "text": [
      "INFO:tensorflow:*** Available Device: _DeviceAttributes(/job:localhost/replica:0/task:0/device:CPU:0, CPU, 0, 0)\n"
     ]
    },
    {
     "name": "stderr",
     "output_type": "stream",
     "text": [
      "INFO:tensorflow:*** Available Device: _DeviceAttributes(/job:localhost/replica:0/task:0/device:CPU:0, CPU, 0, 0)\n"
     ]
    },
    {
     "name": "stdout",
     "output_type": "stream",
     "text": [
      "INFO:tensorflow:*** Available Device: _DeviceAttributes(/job:localhost/replica:0/task:0/device:TPU:0, TPU, 0, 0)\n"
     ]
    },
    {
     "name": "stderr",
     "output_type": "stream",
     "text": [
      "INFO:tensorflow:*** Available Device: _DeviceAttributes(/job:localhost/replica:0/task:0/device:TPU:0, TPU, 0, 0)\n"
     ]
    },
    {
     "name": "stdout",
     "output_type": "stream",
     "text": [
      "INFO:tensorflow:*** Available Device: _DeviceAttributes(/job:localhost/replica:0/task:0/device:TPU:1, TPU, 0, 0)\n"
     ]
    },
    {
     "name": "stderr",
     "output_type": "stream",
     "text": [
      "INFO:tensorflow:*** Available Device: _DeviceAttributes(/job:localhost/replica:0/task:0/device:TPU:1, TPU, 0, 0)\n"
     ]
    },
    {
     "name": "stdout",
     "output_type": "stream",
     "text": [
      "INFO:tensorflow:*** Available Device: _DeviceAttributes(/job:localhost/replica:0/task:0/device:TPU:2, TPU, 0, 0)\n"
     ]
    },
    {
     "name": "stderr",
     "output_type": "stream",
     "text": [
      "INFO:tensorflow:*** Available Device: _DeviceAttributes(/job:localhost/replica:0/task:0/device:TPU:2, TPU, 0, 0)\n"
     ]
    },
    {
     "name": "stdout",
     "output_type": "stream",
     "text": [
      "INFO:tensorflow:*** Available Device: _DeviceAttributes(/job:localhost/replica:0/task:0/device:TPU:3, TPU, 0, 0)\n"
     ]
    },
    {
     "name": "stderr",
     "output_type": "stream",
     "text": [
      "INFO:tensorflow:*** Available Device: _DeviceAttributes(/job:localhost/replica:0/task:0/device:TPU:3, TPU, 0, 0)\n"
     ]
    },
    {
     "name": "stdout",
     "output_type": "stream",
     "text": [
      "INFO:tensorflow:*** Available Device: _DeviceAttributes(/job:localhost/replica:0/task:0/device:TPU:4, TPU, 0, 0)\n"
     ]
    },
    {
     "name": "stderr",
     "output_type": "stream",
     "text": [
      "INFO:tensorflow:*** Available Device: _DeviceAttributes(/job:localhost/replica:0/task:0/device:TPU:4, TPU, 0, 0)\n"
     ]
    },
    {
     "name": "stdout",
     "output_type": "stream",
     "text": [
      "INFO:tensorflow:*** Available Device: _DeviceAttributes(/job:localhost/replica:0/task:0/device:TPU:5, TPU, 0, 0)\n"
     ]
    },
    {
     "name": "stderr",
     "output_type": "stream",
     "text": [
      "INFO:tensorflow:*** Available Device: _DeviceAttributes(/job:localhost/replica:0/task:0/device:TPU:5, TPU, 0, 0)\n"
     ]
    },
    {
     "name": "stdout",
     "output_type": "stream",
     "text": [
      "INFO:tensorflow:*** Available Device: _DeviceAttributes(/job:localhost/replica:0/task:0/device:TPU:6, TPU, 0, 0)\n"
     ]
    },
    {
     "name": "stderr",
     "output_type": "stream",
     "text": [
      "INFO:tensorflow:*** Available Device: _DeviceAttributes(/job:localhost/replica:0/task:0/device:TPU:6, TPU, 0, 0)\n"
     ]
    },
    {
     "name": "stdout",
     "output_type": "stream",
     "text": [
      "INFO:tensorflow:*** Available Device: _DeviceAttributes(/job:localhost/replica:0/task:0/device:TPU:7, TPU, 0, 0)\n"
     ]
    },
    {
     "name": "stderr",
     "output_type": "stream",
     "text": [
      "INFO:tensorflow:*** Available Device: _DeviceAttributes(/job:localhost/replica:0/task:0/device:TPU:7, TPU, 0, 0)\n"
     ]
    },
    {
     "name": "stdout",
     "output_type": "stream",
     "text": [
      "INFO:tensorflow:*** Available Device: _DeviceAttributes(/job:localhost/replica:0/task:0/device:TPU_SYSTEM:0, TPU_SYSTEM, 0, 0)\n"
     ]
    },
    {
     "name": "stderr",
     "output_type": "stream",
     "text": [
      "INFO:tensorflow:*** Available Device: _DeviceAttributes(/job:localhost/replica:0/task:0/device:TPU_SYSTEM:0, TPU_SYSTEM, 0, 0)\n"
     ]
    },
    {
     "name": "stdout",
     "output_type": "stream",
     "text": [
      "TPU successfully initialized. Found TPU:  \n",
      "Global batch size set to: 128\n",
      "Number of replicas: 8\n"
     ]
    }
   ],
   "source": [
    "print(\"--- Initializing TPU Strategy ---\")\n",
    "\n",
    "try:\n",
    "    tpu = tf.distribute.cluster_resolver.TPUClusterResolver.connect(tpu='local')\n",
    "    # tf.config.experimental_connect_to_cluster(tpu)\n",
    "    # tf.tpu.experimental.initialize_tpu_system(tpu)\n",
    "    strategy = tf.distribute.TPUStrategy(tpu)\n",
    "    \n",
    "    print('TPU successfully initialized. Found TPU: ', tpu.master())\n",
    "    BATCH_SIZE = BATCH_SIZE_PER_REPLICA * strategy.num_replicas_in_sync\n",
    "    print(f\"Global batch size set to: {BATCH_SIZE}\")\n",
    "    print(\"Number of replicas:\", strategy.num_replicas_in_sync)\n",
    "\n",
    "except Exception as e:\n",
    "    print(f\"TPU initialization failed, this is the error: {e}\")\n",
    "    print(\"Falling back to default strategy (CPU/GPU).\")\n",
    "    strategy = tf.distribute.get_strategy()\n",
    "    BATCH_SIZE = BATCH_SIZE_PER_REPLICA\n"
   ]
  },
  {
   "cell_type": "code",
   "execution_count": null,
   "metadata": {
    "execution": {
     "iopub.execute_input": "2025-07-25T08:17:06.764499Z",
     "iopub.status.busy": "2025-07-25T08:17:06.764264Z",
     "iopub.status.idle": "2025-07-25T08:19:00.430711Z",
     "shell.execute_reply": "2025-07-25T08:19:00.426082Z",
     "shell.execute_reply.started": "2025-07-25T08:17:06.764474Z"
    },
    "trusted": true
   },
   "outputs": [
    {
     "name": "stdout",
     "output_type": "stream",
     "text": [
      "\n",
      "Loading all compressed features\n",
      "All compressed data loaded successfully.\n",
      "X_train shape: (33945, 150, 768)\n",
      "y_train shape: (33945, 6)\n"
     ]
    }
   ],
   "source": [
    "print(\"\\nLoading all compressed features\")\n",
    "\n",
    "train_data = np.load(TRAIN_DATA_PATH)\n",
    "val_data = np.load(VAL_DATA_PATH)\n",
    "test_data = np.load(TEST_DATA_PATH)\n",
    "\n",
    "# Access the arrays by the keys we used when saving ('x' and 'y')\n",
    "X_train, y_train = train_data['x'], train_data['y']\n",
    "X_val, y_val = val_data['x'], val_data['y']\n",
    "X_test, y_test = test_data['x'], test_data['y']\n",
    "\n",
    "\n",
    "print(\"All compressed data loaded successfully.\")\n",
    "print(f\"X_train shape: {X_train.shape}\")\n",
    "print(f\"y_train shape: {y_train.shape}\")\n"
   ]
  },
  {
   "cell_type": "code",
   "execution_count": null,
   "metadata": {
    "execution": {
     "iopub.execute_input": "2025-07-25T08:19:00.432642Z",
     "iopub.status.busy": "2025-07-25T08:19:00.432430Z",
     "iopub.status.idle": "2025-07-25T08:19:05.435857Z",
     "shell.execute_reply": "2025-07-25T08:19:05.431292Z",
     "shell.execute_reply.started": "2025-07-25T08:19:00.432619Z"
    },
    "trusted": true
   },
   "outputs": [
    {
     "name": "stdout",
     "output_type": "stream",
     "text": [
      "Data loaded and modified successfully.\n",
      "New X_train shape: (29783, 150, 768)\n"
     ]
    }
   ],
   "source": [
    "# Remove the last column ('NoStutter') from the labels\n",
    "y_train = y_train[:, :-1]\n",
    "y_val = y_val[:, :-1]\n",
    "y_test = y_test[:, :-1]\n",
    "\n",
    "# Filter out samples that now have NO labels\n",
    "train_indices = np.where(y_train.sum(axis=1) > 0)[0]\n",
    "val_indices = np.where(y_val.sum(axis=1) > 0)[0]\n",
    "test_indices = np.where(y_test.sum(axis=1) > 0)[0]\n",
    "\n",
    "X_train, y_train = X_train[train_indices], y_train[train_indices]\n",
    "X_val, y_val = X_val[val_indices], y_val[val_indices]\n",
    "X_test, y_test = X_test[test_indices], y_test[test_indices]\n",
    "\n",
    "print(\"Data loaded and modified successfully.\")\n",
    "print(f\"New X_train shape: {X_train.shape}\")\n"
   ]
  },
  {
   "cell_type": "code",
   "execution_count": null,
   "metadata": {
    "execution": {
     "iopub.execute_input": "2025-07-25T08:19:05.437760Z",
     "iopub.status.busy": "2025-07-25T08:19:05.437550Z",
     "iopub.status.idle": "2025-07-25T08:19:05.448905Z",
     "shell.execute_reply": "2025-07-25T08:19:05.444529Z",
     "shell.execute_reply.started": "2025-07-25T08:19:05.437738Z"
    },
    "trusted": true
   },
   "outputs": [
    {
     "name": "stdout",
     "output_type": "stream",
     "text": [
      "\n",
      " Verifying final training set distribution after augmentation\n",
      "Final distribution of labels in the training set (including augmented samples):\n",
      "Block           10848\n",
      "Interjection    10824\n",
      "Prolongation    10800\n",
      "SoundRep        10576\n",
      "WordRep         10569\n",
      "dtype: int64\n"
     ]
    }
   ],
   "source": [
    "print(\"\\n Verifying final training set distribution after augmentation\")\n",
    "\n",
    "final_train_labels_df = pd.DataFrame(y_train, columns=LABEL_COLS)\n",
    "\n",
    "print(\"Final distribution of labels in the training set (including augmented samples):\")\n",
    "print(final_train_labels_df.sum().sort_values(ascending=False))\n"
   ]
  },
  {
   "cell_type": "code",
   "execution_count": null,
   "metadata": {
    "execution": {
     "iopub.execute_input": "2025-07-25T10:22:09.844071Z",
     "iopub.status.busy": "2025-07-25T10:22:09.843735Z"
    },
    "trusted": true
   },
   "outputs": [
    {
     "name": "stdout",
     "output_type": "stream",
     "text": [
      "\n",
      "Building tf.data pipeline\n"
     ]
    }
   ],
   "source": [
    "print(\"\\nBuilding tf.data pipeline\")\n",
    "\n",
    "def prepare_dataset(X, y, shuffle=False):\n",
    "    ds = tf.data.Dataset.from_tensor_slices((X, y))\n",
    "    ds = ds.cache()\n",
    "    if shuffle:\n",
    "        ds = ds.shuffle(buffer_size=2048)\n",
    "    ds = ds.batch(BATCH_SIZE)\n",
    "    ds = ds.prefetch(tf.data.AUTOTUNE)\n",
    "    return ds\n",
    "\n",
    "train_dataset = prepare_dataset(X_train, y_train, shuffle=True)\n",
    "val_dataset = prepare_dataset(X_val, y_val)\n",
    "test_dataset = prepare_dataset(X_test, y_test)\n",
    "print(\"Datasets created successfully.\")\n"
   ]
  },
  {
   "cell_type": "code",
   "execution_count": null,
   "metadata": {
    "execution": {
     "iopub.execute_input": "2025-07-25T10:03:08.832098Z",
     "iopub.status.busy": "2025-07-25T10:03:08.831771Z",
     "iopub.status.idle": "2025-07-25T10:03:10.035434Z",
     "shell.execute_reply": "2025-07-25T10:03:10.029917Z",
     "shell.execute_reply.started": "2025-07-25T10:03:08.832071Z"
    },
    "trusted": true
   },
   "outputs": [
    {
     "name": "stdout",
     "output_type": "stream",
     "text": [
      "\n",
      "--- Building 1D CNN Model inside TPU Strategy Scope... ---\n"
     ]
    },
    {
     "data": {
      "text/html": [
       "<pre style=\"white-space:pre;overflow-x:auto;line-height:normal;font-family:Menlo,'DejaVu Sans Mono',consolas,'Courier New',monospace\"><span style=\"font-weight: bold\">Model: \"functional_3\"</span>\n",
       "</pre>\n"
      ],
      "text/plain": [
       "\u001b[1mModel: \"functional_3\"\u001b[0m\n"
      ]
     },
     "metadata": {},
     "output_type": "display_data"
    },
    {
     "data": {
      "text/html": [
       "<pre style=\"white-space:pre;overflow-x:auto;line-height:normal;font-family:Menlo,'DejaVu Sans Mono',consolas,'Courier New',monospace\">┏━━━━━━━━━━━━━━━━━━━━━━━━━━━━━━━━━┳━━━━━━━━━━━━━━━━━━━━━━━━┳━━━━━━━━━━━━━━━┓\n",
       "┃<span style=\"font-weight: bold\"> Layer (type)                    </span>┃<span style=\"font-weight: bold\"> Output Shape           </span>┃<span style=\"font-weight: bold\">       Param # </span>┃\n",
       "┡━━━━━━━━━━━━━━━━━━━━━━━━━━━━━━━━━╇━━━━━━━━━━━━━━━━━━━━━━━━╇━━━━━━━━━━━━━━━┩\n",
       "│ input_layer_3 (<span style=\"color: #0087ff; text-decoration-color: #0087ff\">InputLayer</span>)      │ (<span style=\"color: #00d7ff; text-decoration-color: #00d7ff\">None</span>, <span style=\"color: #00af00; text-decoration-color: #00af00\">150</span>, <span style=\"color: #00af00; text-decoration-color: #00af00\">768</span>)       │             <span style=\"color: #00af00; text-decoration-color: #00af00\">0</span> │\n",
       "├─────────────────────────────────┼────────────────────────┼───────────────┤\n",
       "│ conv1d_12 (<span style=\"color: #0087ff; text-decoration-color: #0087ff\">Conv1D</span>)              │ (<span style=\"color: #00d7ff; text-decoration-color: #00d7ff\">None</span>, <span style=\"color: #00af00; text-decoration-color: #00af00\">150</span>, <span style=\"color: #00af00; text-decoration-color: #00af00\">128</span>)       │       <span style=\"color: #00af00; text-decoration-color: #00af00\">295,040</span> │\n",
       "├─────────────────────────────────┼────────────────────────┼───────────────┤\n",
       "│ batch_normalization_6           │ (<span style=\"color: #00d7ff; text-decoration-color: #00d7ff\">None</span>, <span style=\"color: #00af00; text-decoration-color: #00af00\">150</span>, <span style=\"color: #00af00; text-decoration-color: #00af00\">128</span>)       │           <span style=\"color: #00af00; text-decoration-color: #00af00\">512</span> │\n",
       "│ (<span style=\"color: #0087ff; text-decoration-color: #0087ff\">BatchNormalization</span>)            │                        │               │\n",
       "├─────────────────────────────────┼────────────────────────┼───────────────┤\n",
       "│ max_pooling1d (<span style=\"color: #0087ff; text-decoration-color: #0087ff\">MaxPooling1D</span>)    │ (<span style=\"color: #00d7ff; text-decoration-color: #00d7ff\">None</span>, <span style=\"color: #00af00; text-decoration-color: #00af00\">75</span>, <span style=\"color: #00af00; text-decoration-color: #00af00\">128</span>)        │             <span style=\"color: #00af00; text-decoration-color: #00af00\">0</span> │\n",
       "├─────────────────────────────────┼────────────────────────┼───────────────┤\n",
       "│ conv1d_13 (<span style=\"color: #0087ff; text-decoration-color: #0087ff\">Conv1D</span>)              │ (<span style=\"color: #00d7ff; text-decoration-color: #00d7ff\">None</span>, <span style=\"color: #00af00; text-decoration-color: #00af00\">75</span>, <span style=\"color: #00af00; text-decoration-color: #00af00\">256</span>)        │        <span style=\"color: #00af00; text-decoration-color: #00af00\">98,560</span> │\n",
       "├─────────────────────────────────┼────────────────────────┼───────────────┤\n",
       "│ batch_normalization_7           │ (<span style=\"color: #00d7ff; text-decoration-color: #00d7ff\">None</span>, <span style=\"color: #00af00; text-decoration-color: #00af00\">75</span>, <span style=\"color: #00af00; text-decoration-color: #00af00\">256</span>)        │         <span style=\"color: #00af00; text-decoration-color: #00af00\">1,024</span> │\n",
       "│ (<span style=\"color: #0087ff; text-decoration-color: #0087ff\">BatchNormalization</span>)            │                        │               │\n",
       "├─────────────────────────────────┼────────────────────────┼───────────────┤\n",
       "│ global_average_pooling1d_3      │ (<span style=\"color: #00d7ff; text-decoration-color: #00d7ff\">None</span>, <span style=\"color: #00af00; text-decoration-color: #00af00\">256</span>)            │             <span style=\"color: #00af00; text-decoration-color: #00af00\">0</span> │\n",
       "│ (<span style=\"color: #0087ff; text-decoration-color: #0087ff\">GlobalAveragePooling1D</span>)        │                        │               │\n",
       "├─────────────────────────────────┼────────────────────────┼───────────────┤\n",
       "│ dense_18 (<span style=\"color: #0087ff; text-decoration-color: #0087ff\">Dense</span>)                │ (<span style=\"color: #00d7ff; text-decoration-color: #00d7ff\">None</span>, <span style=\"color: #00af00; text-decoration-color: #00af00\">128</span>)            │        <span style=\"color: #00af00; text-decoration-color: #00af00\">32,896</span> │\n",
       "├─────────────────────────────────┼────────────────────────┼───────────────┤\n",
       "│ dropout_27 (<span style=\"color: #0087ff; text-decoration-color: #0087ff\">Dropout</span>)            │ (<span style=\"color: #00d7ff; text-decoration-color: #00d7ff\">None</span>, <span style=\"color: #00af00; text-decoration-color: #00af00\">128</span>)            │             <span style=\"color: #00af00; text-decoration-color: #00af00\">0</span> │\n",
       "├─────────────────────────────────┼────────────────────────┼───────────────┤\n",
       "│ dense_19 (<span style=\"color: #0087ff; text-decoration-color: #0087ff\">Dense</span>)                │ (<span style=\"color: #00d7ff; text-decoration-color: #00d7ff\">None</span>, <span style=\"color: #00af00; text-decoration-color: #00af00\">5</span>)              │           <span style=\"color: #00af00; text-decoration-color: #00af00\">645</span> │\n",
       "└─────────────────────────────────┴────────────────────────┴───────────────┘\n",
       "</pre>\n"
      ],
      "text/plain": [
       "┏━━━━━━━━━━━━━━━━━━━━━━━━━━━━━━━━━┳━━━━━━━━━━━━━━━━━━━━━━━━┳━━━━━━━━━━━━━━━┓\n",
       "┃\u001b[1m \u001b[0m\u001b[1mLayer (type)                   \u001b[0m\u001b[1m \u001b[0m┃\u001b[1m \u001b[0m\u001b[1mOutput Shape          \u001b[0m\u001b[1m \u001b[0m┃\u001b[1m \u001b[0m\u001b[1m      Param #\u001b[0m\u001b[1m \u001b[0m┃\n",
       "┡━━━━━━━━━━━━━━━━━━━━━━━━━━━━━━━━━╇━━━━━━━━━━━━━━━━━━━━━━━━╇━━━━━━━━━━━━━━━┩\n",
       "│ input_layer_3 (\u001b[38;5;33mInputLayer\u001b[0m)      │ (\u001b[38;5;45mNone\u001b[0m, \u001b[38;5;34m150\u001b[0m, \u001b[38;5;34m768\u001b[0m)       │             \u001b[38;5;34m0\u001b[0m │\n",
       "├─────────────────────────────────┼────────────────────────┼───────────────┤\n",
       "│ conv1d_12 (\u001b[38;5;33mConv1D\u001b[0m)              │ (\u001b[38;5;45mNone\u001b[0m, \u001b[38;5;34m150\u001b[0m, \u001b[38;5;34m128\u001b[0m)       │       \u001b[38;5;34m295,040\u001b[0m │\n",
       "├─────────────────────────────────┼────────────────────────┼───────────────┤\n",
       "│ batch_normalization_6           │ (\u001b[38;5;45mNone\u001b[0m, \u001b[38;5;34m150\u001b[0m, \u001b[38;5;34m128\u001b[0m)       │           \u001b[38;5;34m512\u001b[0m │\n",
       "│ (\u001b[38;5;33mBatchNormalization\u001b[0m)            │                        │               │\n",
       "├─────────────────────────────────┼────────────────────────┼───────────────┤\n",
       "│ max_pooling1d (\u001b[38;5;33mMaxPooling1D\u001b[0m)    │ (\u001b[38;5;45mNone\u001b[0m, \u001b[38;5;34m75\u001b[0m, \u001b[38;5;34m128\u001b[0m)        │             \u001b[38;5;34m0\u001b[0m │\n",
       "├─────────────────────────────────┼────────────────────────┼───────────────┤\n",
       "│ conv1d_13 (\u001b[38;5;33mConv1D\u001b[0m)              │ (\u001b[38;5;45mNone\u001b[0m, \u001b[38;5;34m75\u001b[0m, \u001b[38;5;34m256\u001b[0m)        │        \u001b[38;5;34m98,560\u001b[0m │\n",
       "├─────────────────────────────────┼────────────────────────┼───────────────┤\n",
       "│ batch_normalization_7           │ (\u001b[38;5;45mNone\u001b[0m, \u001b[38;5;34m75\u001b[0m, \u001b[38;5;34m256\u001b[0m)        │         \u001b[38;5;34m1,024\u001b[0m │\n",
       "│ (\u001b[38;5;33mBatchNormalization\u001b[0m)            │                        │               │\n",
       "├─────────────────────────────────┼────────────────────────┼───────────────┤\n",
       "│ global_average_pooling1d_3      │ (\u001b[38;5;45mNone\u001b[0m, \u001b[38;5;34m256\u001b[0m)            │             \u001b[38;5;34m0\u001b[0m │\n",
       "│ (\u001b[38;5;33mGlobalAveragePooling1D\u001b[0m)        │                        │               │\n",
       "├─────────────────────────────────┼────────────────────────┼───────────────┤\n",
       "│ dense_18 (\u001b[38;5;33mDense\u001b[0m)                │ (\u001b[38;5;45mNone\u001b[0m, \u001b[38;5;34m128\u001b[0m)            │        \u001b[38;5;34m32,896\u001b[0m │\n",
       "├─────────────────────────────────┼────────────────────────┼───────────────┤\n",
       "│ dropout_27 (\u001b[38;5;33mDropout\u001b[0m)            │ (\u001b[38;5;45mNone\u001b[0m, \u001b[38;5;34m128\u001b[0m)            │             \u001b[38;5;34m0\u001b[0m │\n",
       "├─────────────────────────────────┼────────────────────────┼───────────────┤\n",
       "│ dense_19 (\u001b[38;5;33mDense\u001b[0m)                │ (\u001b[38;5;45mNone\u001b[0m, \u001b[38;5;34m5\u001b[0m)              │           \u001b[38;5;34m645\u001b[0m │\n",
       "└─────────────────────────────────┴────────────────────────┴───────────────┘\n"
      ]
     },
     "metadata": {},
     "output_type": "display_data"
    },
    {
     "data": {
      "text/html": [
       "<pre style=\"white-space:pre;overflow-x:auto;line-height:normal;font-family:Menlo,'DejaVu Sans Mono',consolas,'Courier New',monospace\"><span style=\"font-weight: bold\"> Total params: </span><span style=\"color: #00af00; text-decoration-color: #00af00\">428,677</span> (1.64 MB)\n",
       "</pre>\n"
      ],
      "text/plain": [
       "\u001b[1m Total params: \u001b[0m\u001b[38;5;34m428,677\u001b[0m (1.64 MB)\n"
      ]
     },
     "metadata": {},
     "output_type": "display_data"
    },
    {
     "data": {
      "text/html": [
       "<pre style=\"white-space:pre;overflow-x:auto;line-height:normal;font-family:Menlo,'DejaVu Sans Mono',consolas,'Courier New',monospace\"><span style=\"font-weight: bold\"> Trainable params: </span><span style=\"color: #00af00; text-decoration-color: #00af00\">427,909</span> (1.63 MB)\n",
       "</pre>\n"
      ],
      "text/plain": [
       "\u001b[1m Trainable params: \u001b[0m\u001b[38;5;34m427,909\u001b[0m (1.63 MB)\n"
      ]
     },
     "metadata": {},
     "output_type": "display_data"
    },
    {
     "data": {
      "text/html": [
       "<pre style=\"white-space:pre;overflow-x:auto;line-height:normal;font-family:Menlo,'DejaVu Sans Mono',consolas,'Courier New',monospace\"><span style=\"font-weight: bold\"> Non-trainable params: </span><span style=\"color: #00af00; text-decoration-color: #00af00\">768</span> (3.00 KB)\n",
       "</pre>\n"
      ],
      "text/plain": [
       "\u001b[1m Non-trainable params: \u001b[0m\u001b[38;5;34m768\u001b[0m (3.00 KB)\n"
      ]
     },
     "metadata": {},
     "output_type": "display_data"
    },
    {
     "name": "stdout",
     "output_type": "stream",
     "text": [
      "LEARNING RATE: 0.0001\n",
      "BATCH SIZE: 128\n"
     ]
    }
   ],
   "source": [
    "\n",
    "with strategy.scope():\n",
    "    print(\"\\n--- Building 1D CNN Model inside TPU Strategy Scope... ---\")\n",
    "\n",
    "    def build_cnn_classifier(input_shape, num_classes):\n",
    "        inputs = tf.keras.layers.Input(shape=input_shape)\n",
    "\n",
    "        x = tf.keras.layers.Conv1D(filters=128, kernel_size=3, padding=\"same\", activation=\"relu\")(inputs)\n",
    "        x = tf.keras.layers.BatchNormalization()(x)\n",
    "        x = tf.keras.layers.MaxPooling1D(pool_size=2)(x)\n",
    "\n",
    "        x = tf.keras.layers.Conv1D(filters=256, kernel_size=3, padding=\"same\", activation=\"relu\")(x)\n",
    "        x = tf.keras.layers.BatchNormalization()(x)\n",
    "\n",
    "        x = tf.keras.layers.GlobalAveragePooling1D()(x)\n",
    "\n",
    "        x = tf.keras.layers.Dense(128, activation='relu')(x)\n",
    "        x = tf.keras.layers.Dropout(0.5)(x)\n",
    "        outputs = tf.keras.layers.Dense(num_classes, activation='sigmoid')(x)\n",
    "        \n",
    "        model = tf.keras.Model(inputs=inputs, outputs=outputs)\n",
    "        \n",
    "        optimizer = tf.keras.optimizers.Adam(learning_rate=LEARNING_RATE, clipnorm=1.0)\n",
    "        model.compile(\n",
    "            optimizer=optimizer,\n",
    "            loss='binary_crossentropy',\n",
    "            metrics=[\n",
    "                'accuracy',\n",
    "                tf.keras.metrics.Precision(name='precision'),\n",
    "                tf.keras.metrics.Recall(name='recall'),\n",
    "                tf.keras.metrics.AUC(name='auc', multi_label=True)\n",
    "            ]\n",
    "        )\n",
    "        return model\n",
    "\n",
    "    model = build_cnn_classifier(input_shape=(MAX_SEQ_LEN, EMBEDDING_DIM), num_classes=NUM_CLASSES)\n",
    "\n",
    "model.summary()\n",
    "\n",
    "checkpoint = tf.keras.callbacks.ModelCheckpoint(BEST_MODEL_PATH, monitor='val_auc', mode='max', save_best_only=True, verbose=1)\n",
    "early_stopping = tf.keras.callbacks.EarlyStopping(monitor='val_auc', mode='max', patience=10, restore_best_weights=True)\n",
    "print(f\"LEARNING RATE: {LEARNING_RATE}\")\n",
    "print(f\"BATCH SIZE: {BATCH_SIZE}\")\n"
   ]
  },
  {
   "cell_type": "code",
   "execution_count": 22,
   "metadata": {
    "execution": {
     "iopub.execute_input": "2025-07-25T10:03:15.836272Z",
     "iopub.status.busy": "2025-07-25T10:03:15.835931Z",
     "iopub.status.idle": "2025-07-25T10:21:11.118155Z",
     "shell.execute_reply": "2025-07-25T10:21:11.111669Z",
     "shell.execute_reply.started": "2025-07-25T10:03:15.836246Z"
    },
    "trusted": true
   },
   "outputs": [
    {
     "name": "stdout",
     "output_type": "stream",
     "text": [
      "\n",
      "Starting Training on TPU\n",
      "Epoch 1/400\n"
     ]
    },
    {
     "name": "stderr",
     "output_type": "stream",
     "text": [
      "I0000 00:00:1753437838.030684      10 encapsulate_tpu_computations_pass.cc:266] Subgraph fingerprint:11507296476718487572\n",
      "I0000 00:00:1753437838.791269     981 tpu_compilation_cache_interface.cc:442] TPU host compilation cache miss: cache_key(2375217419428416861), session_name()\n",
      "I0000 00:00:1753437841.212043     981 tpu_compile_op_common.cc:245] Compilation of 2375217419428416861 with session name  took 2.420681853s and succeeded\n",
      "I0000 00:00:1753437841.222976     981 tpu_compilation_cache_interface.cc:476] TPU host compilation cache: compilation complete for cache_key(2375217419428416861), session_name(), subgraph_key(std::string(property.function_name) = \"cluster_one_step_on_data_11507296476718487572\", property.function_library_fingerprint = 16055599253559987419, property.mlir_module_fingerprint = 0, property.num_replicas = 8, topology.chip_bounds().x = 2, topology.chip_bounds().y = 2, topology.chip_bounds().z = 1, topology.wrap().x = false, topology.wrap().y = false, topology.wrap().z = false, std::string(property.shapes_prefix) = \"16,150,768,;16,5,;\", property.guaranteed_constants_size = 0, embedding_partitions_fingerprint = \"1688352644216761960\")\n",
      "I0000 00:00:1753437841.223015     981 tpu_compilation_cache_interface.cc:542] After adding entry for key 2375217419428416861 with session_name  cache is 11 entries (406944312 bytes),  marked for eviction 0 entries (0 bytes).\n"
     ]
    },
    {
     "name": "stdout",
     "output_type": "stream",
     "text": [
      "\u001b[1m232/233\u001b[0m \u001b[32m━━━━━━━━━━━━━━━━━━━\u001b[0m\u001b[37m━\u001b[0m \u001b[1m0s\u001b[0m 33ms/step - accuracy: 0.2724 - auc: 0.5989 - loss: 0.6598 - precision: 0.4458 - recall: 0.4662"
     ]
    },
    {
     "name": "stderr",
     "output_type": "stream",
     "text": [
      "I0000 00:00:1753437848.788128    1026 tpu_compilation_cache_interface.cc:442] TPU host compilation cache miss: cache_key(17153715300439531031), session_name()\n",
      "I0000 00:00:1753437851.677534    1026 tpu_compile_op_common.cc:245] Compilation of 17153715300439531031 with session name  took 2.889351118s and succeeded\n",
      "I0000 00:00:1753437851.690411    1026 tpu_compilation_cache_interface.cc:476] TPU host compilation cache: compilation complete for cache_key(17153715300439531031), session_name(), subgraph_key(std::string(property.function_name) = \"cluster_one_step_on_data_11507296476718487572\", property.function_library_fingerprint = 16055599253559987419, property.mlir_module_fingerprint = 0, property.num_replicas = 8, topology.chip_bounds().x = 2, topology.chip_bounds().y = 2, topology.chip_bounds().z = 1, topology.wrap().x = false, topology.wrap().y = false, topology.wrap().z = false, std::string(property.shapes_prefix) = \"11,150,768,;11,5,;\", property.guaranteed_constants_size = 0, embedding_partitions_fingerprint = \"1688352644216761960\")\n",
      "I0000 00:00:1753437851.690445    1026 tpu_compilation_cache_interface.cc:542] After adding entry for key 17153715300439531031 with session_name  cache is 12 entries (421717998 bytes),  marked for eviction 0 entries (0 bytes).\n"
     ]
    },
    {
     "name": "stdout",
     "output_type": "stream",
     "text": [
      "\u001b[1m233/233\u001b[0m \u001b[32m━━━━━━━━━━━━━━━━━━━━\u001b[0m\u001b[37m\u001b[0m \u001b[1m0s\u001b[0m 45ms/step - accuracy: 0.2725 - auc: 0.5990 - loss: 0.6597 - precision: 0.4460 - recall: 0.4660"
     ]
    },
    {
     "name": "stderr",
     "output_type": "stream",
     "text": [
      "I0000 00:00:1753437868.161495      10 encapsulate_tpu_computations_pass.cc:266] Subgraph fingerprint:15438416418290553771\n",
      "I0000 00:00:1753437868.577969     990 tpu_compilation_cache_interface.cc:442] TPU host compilation cache miss: cache_key(17294739640873851018), session_name()\n",
      "I0000 00:00:1753437869.374547     990 tpu_compile_op_common.cc:245] Compilation of 17294739640873851018 with session name  took 796.531384ms and succeeded\n",
      "I0000 00:00:1753437869.377478     990 tpu_compilation_cache_interface.cc:476] TPU host compilation cache: compilation complete for cache_key(17294739640873851018), session_name(), subgraph_key(std::string(property.function_name) = \"cluster_one_step_on_data_15438416418290553771\", property.function_library_fingerprint = 18094291852475846732, property.mlir_module_fingerprint = 0, property.num_replicas = 8, topology.chip_bounds().x = 2, topology.chip_bounds().y = 2, topology.chip_bounds().z = 1, topology.wrap().x = false, topology.wrap().y = false, topology.wrap().z = false, std::string(property.shapes_prefix) = \"16,150,768,;16,5,;\", property.guaranteed_constants_size = 0, embedding_partitions_fingerprint = \"1688352644216761960\")\n",
      "I0000 00:00:1753437869.377508     990 tpu_compilation_cache_interface.cc:542] After adding entry for key 17294739640873851018 with session_name  cache is 13 entries (425763096 bytes),  marked for eviction 0 entries (0 bytes).\n"
     ]
    },
    {
     "name": "stdout",
     "output_type": "stream",
     "text": [
      "\n",
      "Epoch 1: val_auc improved from -inf to 0.68049, saving model to best_cnn_model.keras\n",
      "\u001b[1m233/233\u001b[0m \u001b[32m━━━━━━━━━━━━━━━━━━━━\u001b[0m\u001b[37m\u001b[0m \u001b[1m47s\u001b[0m 126ms/step - accuracy: 0.2726 - auc: 0.5992 - loss: 0.6596 - precision: 0.4462 - recall: 0.4658 - val_accuracy: 0.1767 - val_auc: 0.6805 - val_loss: 0.6755 - val_precision: 0.4528 - val_recall: 0.3712\n",
      "Epoch 2/400\n",
      "\u001b[1m232/233\u001b[0m \u001b[32m━━━━━━━━━━━━━━━━━━━\u001b[0m\u001b[37m━\u001b[0m \u001b[1m0s\u001b[0m 32ms/step - accuracy: 0.3383 - auc: 0.6842 - loss: 0.6045 - precision: 0.5665 - recall: 0.4051\n",
      "Epoch 2: val_auc improved from 0.68049 to 0.70039, saving model to best_cnn_model.keras\n",
      "\u001b[1m233/233\u001b[0m \u001b[32m━━━━━━━━━━━━━━━━━━━━\u001b[0m\u001b[37m\u001b[0m \u001b[1m37s\u001b[0m 102ms/step - accuracy: 0.3383 - auc: 0.6843 - loss: 0.6044 - precision: 0.5667 - recall: 0.4052 - val_accuracy: 0.1782 - val_auc: 0.7004 - val_loss: 0.6612 - val_precision: 0.5058 - val_recall: 0.4187\n",
      "Epoch 3/400\n",
      "\u001b[1m231/233\u001b[0m \u001b[32m━━━━━━━━━━━━━━━━━━━\u001b[0m\u001b[37m━\u001b[0m \u001b[1m0s\u001b[0m 33ms/step - accuracy: 0.3551 - auc: 0.6974 - loss: 0.6002 - precision: 0.5946 - recall: 0.4046\n",
      "Epoch 3: val_auc improved from 0.70039 to 0.70877, saving model to best_cnn_model.keras\n",
      "\u001b[1m233/233\u001b[0m \u001b[32m━━━━━━━━━━━━━━━━━━━━\u001b[0m\u001b[37m\u001b[0m \u001b[1m37s\u001b[0m 102ms/step - accuracy: 0.3553 - auc: 0.6976 - loss: 0.5999 - precision: 0.5949 - recall: 0.4049 - val_accuracy: 0.2003 - val_auc: 0.7088 - val_loss: 0.6367 - val_precision: 0.5562 - val_recall: 0.4944\n",
      "Epoch 4/400\n",
      "\u001b[1m231/233\u001b[0m \u001b[32m━━━━━━━━━━━━━━━━━━━\u001b[0m\u001b[37m━\u001b[0m \u001b[1m0s\u001b[0m 33ms/step - accuracy: 0.3785 - auc: 0.7302 - loss: 0.5739 - precision: 0.6259 - recall: 0.4318\n",
      "Epoch 4: val_auc improved from 0.70877 to 0.71964, saving model to best_cnn_model.keras\n",
      "\u001b[1m233/233\u001b[0m \u001b[32m━━━━━━━━━━━━━━━━━━━━\u001b[0m\u001b[37m\u001b[0m \u001b[1m37s\u001b[0m 105ms/step - accuracy: 0.3785 - auc: 0.7302 - loss: 0.5738 - precision: 0.6260 - recall: 0.4319 - val_accuracy: 0.2224 - val_auc: 0.7196 - val_loss: 0.6461 - val_precision: 0.5610 - val_recall: 0.4219\n",
      "Epoch 5/400\n",
      "\u001b[1m232/233\u001b[0m \u001b[32m━━━━━━━━━━━━━━━━━━━\u001b[0m\u001b[37m━\u001b[0m \u001b[1m0s\u001b[0m 33ms/step - accuracy: 0.3624 - auc: 0.7314 - loss: 0.5737 - precision: 0.6239 - recall: 0.4288\n",
      "Epoch 5: val_auc did not improve from 0.71964\n",
      "\u001b[1m233/233\u001b[0m \u001b[32m━━━━━━━━━━━━━━━━━━━━\u001b[0m\u001b[37m\u001b[0m \u001b[1m37s\u001b[0m 102ms/step - accuracy: 0.3626 - auc: 0.7315 - loss: 0.5736 - precision: 0.6241 - recall: 0.4289 - val_accuracy: 0.2161 - val_auc: 0.7195 - val_loss: 0.6111 - val_precision: 0.5899 - val_recall: 0.4597\n",
      "Epoch 6/400\n",
      "\u001b[1m231/233\u001b[0m \u001b[32m━━━━━━━━━━━━━━━━━━━\u001b[0m\u001b[37m━\u001b[0m \u001b[1m0s\u001b[0m 33ms/step - accuracy: 0.3809 - auc: 0.7494 - loss: 0.5584 - precision: 0.6608 - recall: 0.4513\n",
      "Epoch 6: val_auc improved from 0.71964 to 0.72784, saving model to best_cnn_model.keras\n",
      "\u001b[1m233/233\u001b[0m \u001b[32m━━━━━━━━━━━━━━━━━━━━\u001b[0m\u001b[37m\u001b[0m \u001b[1m37s\u001b[0m 102ms/step - accuracy: 0.3809 - auc: 0.7494 - loss: 0.5583 - precision: 0.6609 - recall: 0.4514 - val_accuracy: 0.2634 - val_auc: 0.7278 - val_loss: 0.6215 - val_precision: 0.5844 - val_recall: 0.4654\n",
      "Epoch 7/400\n",
      "\u001b[1m231/233\u001b[0m \u001b[32m━━━━━━━━━━━━━━━━━━━\u001b[0m\u001b[37m━\u001b[0m \u001b[1m0s\u001b[0m 32ms/step - accuracy: 0.3863 - auc: 0.7456 - loss: 0.5636 - precision: 0.6639 - recall: 0.4400\n",
      "Epoch 7: val_auc improved from 0.72784 to 0.73216, saving model to best_cnn_model.keras\n",
      "\u001b[1m233/233\u001b[0m \u001b[32m━━━━━━━━━━━━━━━━━━━━\u001b[0m\u001b[37m\u001b[0m \u001b[1m37s\u001b[0m 101ms/step - accuracy: 0.3864 - auc: 0.7458 - loss: 0.5633 - precision: 0.6641 - recall: 0.4402 - val_accuracy: 0.2697 - val_auc: 0.7322 - val_loss: 0.6131 - val_precision: 0.6010 - val_recall: 0.4050\n",
      "Epoch 8/400\n",
      "\u001b[1m232/233\u001b[0m \u001b[32m━━━━━━━━━━━━━━━━━━━\u001b[0m\u001b[37m━\u001b[0m \u001b[1m0s\u001b[0m 32ms/step - accuracy: 0.3903 - auc: 0.7519 - loss: 0.5557 - precision: 0.6542 - recall: 0.4548\n",
      "Epoch 8: val_auc improved from 0.73216 to 0.73305, saving model to best_cnn_model.keras\n",
      "\u001b[1m233/233\u001b[0m \u001b[32m━━━━━━━━━━━━━━━━━━━━\u001b[0m\u001b[37m\u001b[0m \u001b[1m37s\u001b[0m 101ms/step - accuracy: 0.3904 - auc: 0.7520 - loss: 0.5556 - precision: 0.6544 - recall: 0.4550 - val_accuracy: 0.2571 - val_auc: 0.7330 - val_loss: 0.5944 - val_precision: 0.6229 - val_recall: 0.4549\n",
      "Epoch 9/400\n",
      "\u001b[1m231/233\u001b[0m \u001b[32m━━━━━━━━━━━━━━━━━━━\u001b[0m\u001b[37m━\u001b[0m \u001b[1m0s\u001b[0m 32ms/step - accuracy: 0.4116 - auc: 0.7588 - loss: 0.5476 - precision: 0.6705 - recall: 0.4676\n",
      "Epoch 9: val_auc improved from 0.73305 to 0.73460, saving model to best_cnn_model.keras\n",
      "\u001b[1m233/233\u001b[0m \u001b[32m━━━━━━━━━━━━━━━━━━━━\u001b[0m\u001b[37m\u001b[0m \u001b[1m37s\u001b[0m 102ms/step - accuracy: 0.4115 - auc: 0.7589 - loss: 0.5474 - precision: 0.6707 - recall: 0.4677 - val_accuracy: 0.2603 - val_auc: 0.7346 - val_loss: 0.6337 - val_precision: 0.5753 - val_recall: 0.4646\n",
      "Epoch 10/400\n",
      "\u001b[1m231/233\u001b[0m \u001b[32m━━━━━━━━━━━━━━━━━━━\u001b[0m\u001b[37m━\u001b[0m \u001b[1m0s\u001b[0m 32ms/step - accuracy: 0.4115 - auc: 0.7710 - loss: 0.5355 - precision: 0.6823 - recall: 0.4836\n",
      "Epoch 10: val_auc did not improve from 0.73460\n",
      "\u001b[1m233/233\u001b[0m \u001b[32m━━━━━━━━━━━━━━━━━━━━\u001b[0m\u001b[37m\u001b[0m \u001b[1m37s\u001b[0m 105ms/step - accuracy: 0.4117 - auc: 0.7711 - loss: 0.5353 - precision: 0.6825 - recall: 0.4838 - val_accuracy: 0.2492 - val_auc: 0.7327 - val_loss: 0.6443 - val_precision: 0.5663 - val_recall: 0.4541\n",
      "Epoch 11/400\n",
      "\u001b[1m233/233\u001b[0m \u001b[32m━━━━━━━━━━━━━━━━━━━━\u001b[0m\u001b[37m\u001b[0m \u001b[1m0s\u001b[0m 33ms/step - accuracy: 0.4120 - auc: 0.7801 - loss: 0.5326 - precision: 0.6857 - recall: 0.4925\n",
      "Epoch 11: val_auc did not improve from 0.73460\n",
      "\u001b[1m233/233\u001b[0m \u001b[32m━━━━━━━━━━━━━━━━━━━━\u001b[0m\u001b[37m\u001b[0m \u001b[1m37s\u001b[0m 102ms/step - accuracy: 0.4120 - auc: 0.7801 - loss: 0.5325 - precision: 0.6857 - recall: 0.4925 - val_accuracy: 0.2019 - val_auc: 0.7255 - val_loss: 0.7099 - val_precision: 0.5264 - val_recall: 0.3937\n",
      "Epoch 12/400\n",
      "\u001b[1m231/233\u001b[0m \u001b[32m━━━━━━━━━━━━━━━━━━━\u001b[0m\u001b[37m━\u001b[0m \u001b[1m0s\u001b[0m 33ms/step - accuracy: 0.4239 - auc: 0.7747 - loss: 0.5342 - precision: 0.6882 - recall: 0.4921\n",
      "Epoch 12: val_auc improved from 0.73460 to 0.73956, saving model to best_cnn_model.keras\n",
      "\u001b[1m233/233\u001b[0m \u001b[32m━━━━━━━━━━━━━━━━━━━━\u001b[0m\u001b[37m\u001b[0m \u001b[1m37s\u001b[0m 102ms/step - accuracy: 0.4239 - auc: 0.7749 - loss: 0.5340 - precision: 0.6884 - recall: 0.4922 - val_accuracy: 0.2508 - val_auc: 0.7396 - val_loss: 0.6237 - val_precision: 0.5876 - val_recall: 0.4750\n",
      "Epoch 13/400\n",
      "\u001b[1m231/233\u001b[0m \u001b[32m━━━━━━━━━━━━━━━━━━━\u001b[0m\u001b[37m━\u001b[0m \u001b[1m0s\u001b[0m 32ms/step - accuracy: 0.4102 - auc: 0.7890 - loss: 0.5225 - precision: 0.6844 - recall: 0.4972\n",
      "Epoch 13: val_auc improved from 0.73956 to 0.73974, saving model to best_cnn_model.keras\n",
      "\u001b[1m233/233\u001b[0m \u001b[32m━━━━━━━━━━━━━━━━━━━━\u001b[0m\u001b[37m\u001b[0m \u001b[1m37s\u001b[0m 102ms/step - accuracy: 0.4104 - auc: 0.7890 - loss: 0.5224 - precision: 0.6846 - recall: 0.4973 - val_accuracy: 0.3675 - val_auc: 0.7397 - val_loss: 0.5822 - val_precision: 0.6617 - val_recall: 0.4678\n",
      "Epoch 14/400\n",
      "\u001b[1m231/233\u001b[0m \u001b[32m━━━━━━━━━━━━━━━━━━━\u001b[0m\u001b[37m━\u001b[0m \u001b[1m0s\u001b[0m 33ms/step - accuracy: 0.4147 - auc: 0.7894 - loss: 0.5211 - precision: 0.7000 - recall: 0.5114\n",
      "Epoch 14: val_auc improved from 0.73974 to 0.74321, saving model to best_cnn_model.keras\n",
      "\u001b[1m233/233\u001b[0m \u001b[32m━━━━━━━━━━━━━━━━━━━━\u001b[0m\u001b[37m\u001b[0m \u001b[1m37s\u001b[0m 102ms/step - accuracy: 0.4149 - auc: 0.7895 - loss: 0.5210 - precision: 0.7001 - recall: 0.5116 - val_accuracy: 0.3123 - val_auc: 0.7432 - val_loss: 0.5967 - val_precision: 0.6411 - val_recall: 0.4300\n",
      "Epoch 15/400\n",
      "\u001b[1m232/233\u001b[0m \u001b[32m━━━━━━━━━━━━━━━━━━━\u001b[0m\u001b[37m━\u001b[0m \u001b[1m0s\u001b[0m 32ms/step - accuracy: 0.4211 - auc: 0.7965 - loss: 0.5131 - precision: 0.7055 - recall: 0.5298\n",
      "Epoch 15: val_auc did not improve from 0.74321\n",
      "\u001b[1m233/233\u001b[0m \u001b[32m━━━━━━━━━━━━━━━━━━━━\u001b[0m\u001b[37m\u001b[0m \u001b[1m37s\u001b[0m 102ms/step - accuracy: 0.4212 - auc: 0.7965 - loss: 0.5130 - precision: 0.7056 - recall: 0.5299 - val_accuracy: 0.2413 - val_auc: 0.7281 - val_loss: 0.6681 - val_precision: 0.5738 - val_recall: 0.3849\n",
      "Epoch 16/400\n",
      "\u001b[1m232/233\u001b[0m \u001b[32m━━━━━━━━━━━━━━━━━━━\u001b[0m\u001b[37m━\u001b[0m \u001b[1m0s\u001b[0m 33ms/step - accuracy: 0.4254 - auc: 0.7985 - loss: 0.5102 - precision: 0.7179 - recall: 0.5403\n",
      "Epoch 16: val_auc did not improve from 0.74321\n",
      "\u001b[1m233/233\u001b[0m \u001b[32m━━━━━━━━━━━━━━━━━━━━\u001b[0m\u001b[37m\u001b[0m \u001b[1m38s\u001b[0m 102ms/step - accuracy: 0.4255 - auc: 0.7986 - loss: 0.5100 - precision: 0.7180 - recall: 0.5403 - val_accuracy: 0.2902 - val_auc: 0.7330 - val_loss: 0.6122 - val_precision: 0.6049 - val_recall: 0.4340\n",
      "Epoch 17/400\n",
      "\u001b[1m232/233\u001b[0m \u001b[32m━━━━━━━━━━━━━━━━━━━\u001b[0m\u001b[37m━\u001b[0m \u001b[1m0s\u001b[0m 33ms/step - accuracy: 0.4305 - auc: 0.8052 - loss: 0.5073 - precision: 0.7195 - recall: 0.5212\n",
      "Epoch 17: val_auc improved from 0.74321 to 0.74433, saving model to best_cnn_model.keras\n",
      "\u001b[1m233/233\u001b[0m \u001b[32m━━━━━━━━━━━━━━━━━━━━\u001b[0m\u001b[37m\u001b[0m \u001b[1m37s\u001b[0m 102ms/step - accuracy: 0.4306 - auc: 0.8052 - loss: 0.5072 - precision: 0.7195 - recall: 0.5213 - val_accuracy: 0.3107 - val_auc: 0.7443 - val_loss: 0.5757 - val_precision: 0.6536 - val_recall: 0.4694\n",
      "Epoch 18/400\n",
      "\u001b[1m232/233\u001b[0m \u001b[32m━━━━━━━━━━━━━━━━━━━\u001b[0m\u001b[37m━\u001b[0m \u001b[1m0s\u001b[0m 32ms/step - accuracy: 0.4292 - auc: 0.8050 - loss: 0.5055 - precision: 0.7152 - recall: 0.5373\n",
      "Epoch 18: val_auc improved from 0.74433 to 0.74908, saving model to best_cnn_model.keras\n",
      "\u001b[1m233/233\u001b[0m \u001b[32m━━━━━━━━━━━━━━━━━━━━\u001b[0m\u001b[37m\u001b[0m \u001b[1m37s\u001b[0m 102ms/step - accuracy: 0.4294 - auc: 0.8051 - loss: 0.5054 - precision: 0.7153 - recall: 0.5374 - val_accuracy: 0.3233 - val_auc: 0.7491 - val_loss: 0.5721 - val_precision: 0.6458 - val_recall: 0.4992\n",
      "Epoch 19/400\n",
      "\u001b[1m231/233\u001b[0m \u001b[32m━━━━━━━━━━━━━━━━━━━\u001b[0m\u001b[37m━\u001b[0m \u001b[1m0s\u001b[0m 33ms/step - accuracy: 0.4306 - auc: 0.8128 - loss: 0.4955 - precision: 0.7130 - recall: 0.5397\n",
      "Epoch 19: val_auc did not improve from 0.74908\n",
      "\u001b[1m233/233\u001b[0m \u001b[32m━━━━━━━━━━━━━━━━━━━━\u001b[0m\u001b[37m\u001b[0m \u001b[1m37s\u001b[0m 102ms/step - accuracy: 0.4310 - auc: 0.8130 - loss: 0.4953 - precision: 0.7132 - recall: 0.5399 - val_accuracy: 0.3344 - val_auc: 0.7387 - val_loss: 0.5841 - val_precision: 0.6453 - val_recall: 0.4452\n",
      "Epoch 20/400\n",
      "\u001b[1m232/233\u001b[0m \u001b[32m━━━━━━━━━━━━━━━━━━━\u001b[0m\u001b[37m━\u001b[0m \u001b[1m0s\u001b[0m 32ms/step - accuracy: 0.4486 - auc: 0.8305 - loss: 0.4753 - precision: 0.7435 - recall: 0.5678\n",
      "Epoch 20: val_auc did not improve from 0.74908\n",
      "\u001b[1m233/233\u001b[0m \u001b[32m━━━━━━━━━━━━━━━━━━━━\u001b[0m\u001b[37m\u001b[0m \u001b[1m37s\u001b[0m 102ms/step - accuracy: 0.4487 - auc: 0.8305 - loss: 0.4753 - precision: 0.7435 - recall: 0.5678 - val_accuracy: 0.3502 - val_auc: 0.7341 - val_loss: 0.5787 - val_precision: 0.6400 - val_recall: 0.5483\n",
      "Epoch 21/400\n",
      "\u001b[1m231/233\u001b[0m \u001b[32m━━━━━━━━━━━━━━━━━━━\u001b[0m\u001b[37m━\u001b[0m \u001b[1m0s\u001b[0m 33ms/step - accuracy: 0.4545 - auc: 0.8160 - loss: 0.4894 - precision: 0.7229 - recall: 0.5535\n",
      "Epoch 21: val_auc did not improve from 0.74908\n",
      "\u001b[1m233/233\u001b[0m \u001b[32m━━━━━━━━━━━━━━━━━━━━\u001b[0m\u001b[37m\u001b[0m \u001b[1m37s\u001b[0m 101ms/step - accuracy: 0.4547 - auc: 0.8161 - loss: 0.4892 - precision: 0.7231 - recall: 0.5538 - val_accuracy: 0.2918 - val_auc: 0.7383 - val_loss: 0.5853 - val_precision: 0.6451 - val_recall: 0.4581\n",
      "Epoch 22/400\n",
      "\u001b[1m231/233\u001b[0m \u001b[32m━━━━━━━━━━━━━━━━━━━\u001b[0m\u001b[37m━\u001b[0m \u001b[1m0s\u001b[0m 33ms/step - accuracy: 0.4569 - auc: 0.8302 - loss: 0.4797 - precision: 0.7332 - recall: 0.5721\n",
      "Epoch 22: val_auc did not improve from 0.74908\n",
      "\u001b[1m233/233\u001b[0m \u001b[32m━━━━━━━━━━━━━━━━━━━━\u001b[0m\u001b[37m\u001b[0m \u001b[1m37s\u001b[0m 101ms/step - accuracy: 0.4569 - auc: 0.8302 - loss: 0.4796 - precision: 0.7333 - recall: 0.5722 - val_accuracy: 0.2808 - val_auc: 0.7410 - val_loss: 0.6201 - val_precision: 0.5994 - val_recall: 0.4831\n",
      "Epoch 23/400\n",
      "\u001b[1m231/233\u001b[0m \u001b[32m━━━━━━━━━━━━━━━━━━━\u001b[0m\u001b[37m━\u001b[0m \u001b[1m0s\u001b[0m 33ms/step - accuracy: 0.4696 - auc: 0.8297 - loss: 0.4734 - precision: 0.7197 - recall: 0.5780\n",
      "Epoch 23: val_auc did not improve from 0.74908\n",
      "\u001b[1m233/233\u001b[0m \u001b[32m━━━━━━━━━━━━━━━━━━━━\u001b[0m\u001b[37m\u001b[0m \u001b[1m37s\u001b[0m 102ms/step - accuracy: 0.4696 - auc: 0.8297 - loss: 0.4733 - precision: 0.7199 - recall: 0.5780 - val_accuracy: 0.3407 - val_auc: 0.7334 - val_loss: 0.6219 - val_precision: 0.5906 - val_recall: 0.4750\n",
      "Epoch 24/400\n",
      "\u001b[1m231/233\u001b[0m \u001b[32m━━━━━━━━━━━━━━━━━━━\u001b[0m\u001b[37m━\u001b[0m \u001b[1m0s\u001b[0m 33ms/step - accuracy: 0.4587 - auc: 0.8329 - loss: 0.4710 - precision: 0.7288 - recall: 0.5761\n",
      "Epoch 24: val_auc did not improve from 0.74908\n",
      "\u001b[1m233/233\u001b[0m \u001b[32m━━━━━━━━━━━━━━━━━━━━\u001b[0m\u001b[37m\u001b[0m \u001b[1m37s\u001b[0m 102ms/step - accuracy: 0.4587 - auc: 0.8329 - loss: 0.4709 - precision: 0.7290 - recall: 0.5763 - val_accuracy: 0.3297 - val_auc: 0.7417 - val_loss: 0.5775 - val_precision: 0.7122 - val_recall: 0.4324\n",
      "Epoch 25/400\n",
      "\u001b[1m232/233\u001b[0m \u001b[32m━━━━━━━━━━━━━━━━━━━\u001b[0m\u001b[37m━\u001b[0m \u001b[1m0s\u001b[0m 33ms/step - accuracy: 0.4589 - auc: 0.8337 - loss: 0.4750 - precision: 0.7451 - recall: 0.5741\n",
      "Epoch 25: val_auc did not improve from 0.74908\n",
      "\u001b[1m233/233\u001b[0m \u001b[32m━━━━━━━━━━━━━━━━━━━━\u001b[0m\u001b[37m\u001b[0m \u001b[1m37s\u001b[0m 101ms/step - accuracy: 0.4590 - auc: 0.8338 - loss: 0.4749 - precision: 0.7451 - recall: 0.5743 - val_accuracy: 0.3202 - val_auc: 0.7399 - val_loss: 0.5686 - val_precision: 0.6458 - val_recall: 0.5225\n",
      "Epoch 26/400\n",
      "\u001b[1m231/233\u001b[0m \u001b[32m━━━━━━━━━━━━━━━━━━━\u001b[0m\u001b[37m━\u001b[0m \u001b[1m0s\u001b[0m 32ms/step - accuracy: 0.4475 - auc: 0.8284 - loss: 0.4803 - precision: 0.7354 - recall: 0.5729\n",
      "Epoch 26: val_auc did not improve from 0.74908\n",
      "\u001b[1m233/233\u001b[0m \u001b[32m━━━━━━━━━━━━━━━━━━━━\u001b[0m\u001b[37m\u001b[0m \u001b[1m37s\u001b[0m 102ms/step - accuracy: 0.4478 - auc: 0.8286 - loss: 0.4800 - precision: 0.7356 - recall: 0.5732 - val_accuracy: 0.2603 - val_auc: 0.7380 - val_loss: 0.6363 - val_precision: 0.5769 - val_recall: 0.5105\n",
      "Epoch 27/400\n",
      "\u001b[1m231/233\u001b[0m \u001b[32m━━━━━━━━━━━━━━━━━━━\u001b[0m\u001b[37m━\u001b[0m \u001b[1m0s\u001b[0m 33ms/step - accuracy: 0.4843 - auc: 0.8528 - loss: 0.4485 - precision: 0.7651 - recall: 0.6109\n",
      "Epoch 27: val_auc did not improve from 0.74908\n",
      "\u001b[1m233/233\u001b[0m \u001b[32m━━━━━━━━━━━━━━━━━━━━\u001b[0m\u001b[37m\u001b[0m \u001b[1m38s\u001b[0m 105ms/step - accuracy: 0.4843 - auc: 0.8528 - loss: 0.4485 - precision: 0.7651 - recall: 0.6109 - val_accuracy: 0.3249 - val_auc: 0.7354 - val_loss: 0.5869 - val_precision: 0.6252 - val_recall: 0.5427\n",
      "Epoch 28/400\n",
      "\u001b[1m232/233\u001b[0m \u001b[32m━━━━━━━━━━━━━━━━━━━\u001b[0m\u001b[37m━\u001b[0m \u001b[1m0s\u001b[0m 33ms/step - accuracy: 0.4660 - auc: 0.8446 - loss: 0.4630 - precision: 0.7508 - recall: 0.5915\n",
      "Epoch 28: val_auc did not improve from 0.74908\n",
      "\u001b[1m233/233\u001b[0m \u001b[32m━━━━━━━━━━━━━━━━━━━━\u001b[0m\u001b[37m\u001b[0m \u001b[1m37s\u001b[0m 102ms/step - accuracy: 0.4662 - auc: 0.8447 - loss: 0.4628 - precision: 0.7509 - recall: 0.5917 - val_accuracy: 0.2618 - val_auc: 0.7305 - val_loss: 0.7034 - val_precision: 0.5900 - val_recall: 0.3720\n"
     ]
    }
   ],
   "source": [
    "print(\"\\nStarting Training on TPU\")\n",
    "history = model.fit(\n",
    "    train_dataset,\n",
    "    epochs=EPOCHS,\n",
    "    validation_data=val_dataset,\n",
    "    callbacks=[checkpoint, early_stopping]\n",
    ")"
   ]
  },
  {
   "cell_type": "code",
   "execution_count": null,
   "metadata": {
    "execution": {
     "iopub.execute_input": "2025-07-25T10:21:11.122181Z",
     "iopub.status.busy": "2025-07-25T10:21:11.121842Z",
     "iopub.status.idle": "2025-07-25T10:21:27.722912Z",
     "shell.execute_reply": "2025-07-25T10:21:27.718355Z",
     "shell.execute_reply.started": "2025-07-25T10:21:11.122150Z"
    },
    "trusted": true
   },
   "outputs": [
    {
     "name": "stdout",
     "output_type": "stream",
     "text": [
      "\n",
      "--- Evaluating Model on the Test Set ---\n"
     ]
    },
    {
     "name": "stderr",
     "output_type": "stream",
     "text": [
      "I0000 00:00:1753438877.920632      10 encapsulate_tpu_computations_pass.cc:266] Subgraph fingerprint:3547500655100514906\n",
      "E0000 00:00:1753438877.932075      10 meta_optimizer.cc:966] model_pruner failed: INVALID_ARGUMENT: Graph does not contain terminal node functional_3_1/batch_normalization_6_1/Cast/ReadVariableOp.\n",
      "I0000 00:00:1753438877.980623    1013 tpu_compilation_cache_interface.cc:442] TPU host compilation cache miss: cache_key(652731131681445757), session_name()\n",
      "I0000 00:00:1753438878.236644    1013 tpu_compile_op_common.cc:245] Compilation of 652731131681445757 with session name  took 255.946558ms and succeeded\n",
      "I0000 00:00:1753438878.238099    1013 tpu_compilation_cache_interface.cc:476] TPU host compilation cache: compilation complete for cache_key(652731131681445757), session_name(), subgraph_key(std::string(property.function_name) = \"cluster_one_step_on_data_distributed_3547500655100514906\", property.function_library_fingerprint = 10857609729014403383, property.mlir_module_fingerprint = 0, property.num_replicas = 8, topology.chip_bounds().x = 2, topology.chip_bounds().y = 2, topology.chip_bounds().z = 1, topology.wrap().x = false, topology.wrap().y = false, topology.wrap().z = false, std::string(property.shapes_prefix) = \"\", property.guaranteed_constants_size = 0, embedding_partitions_fingerprint = \"1688352644216761960\")\n",
      "I0000 00:00:1753438878.238127    1013 tpu_compilation_cache_interface.cc:542] After adding entry for key 652731131681445757 with session_name  cache is 14 entries (426558399 bytes),  marked for eviction 0 entries (0 bytes).\n"
     ]
    },
    {
     "name": "stdout",
     "output_type": "stream",
     "text": [
      "\u001b[1m54/55\u001b[0m \u001b[32m━━━━━━━━━━━━━━━━━━━\u001b[0m\u001b[37m━\u001b[0m \u001b[1m0s\u001b[0m 82ms/step"
     ]
    },
    {
     "name": "stderr",
     "output_type": "stream",
     "text": [
      "I0000 00:00:1753438883.089991      10 encapsulate_tpu_computations_pass.cc:266] Subgraph fingerprint:327644504857647645\n",
      "I0000 00:00:1753438883.223394    1031 tpu_compilation_cache_interface.cc:442] TPU host compilation cache miss: cache_key(3483495641445147356), session_name()\n",
      "I0000 00:00:1753438883.722775    1031 tpu_compile_op_common.cc:245] Compilation of 3483495641445147356 with session name  took 499.326987ms and succeeded\n",
      "I0000 00:00:1753438883.724324    1031 tpu_compilation_cache_interface.cc:476] TPU host compilation cache: compilation complete for cache_key(3483495641445147356), session_name(), subgraph_key(std::string(property.function_name) = \"cluster_one_step_on_data_distributed_327644504857647645\", property.function_library_fingerprint = 16847009011194349072, property.mlir_module_fingerprint = 0, property.num_replicas = 8, topology.chip_bounds().x = 2, topology.chip_bounds().y = 2, topology.chip_bounds().z = 1, topology.wrap().x = false, topology.wrap().y = false, topology.wrap().z = false, std::string(property.shapes_prefix) = \"5,150,768,;5,5,;\", property.guaranteed_constants_size = 0, embedding_partitions_fingerprint = \"1688352644216761960\")\n",
      "I0000 00:00:1753438883.724351    1031 tpu_compilation_cache_interface.cc:542] After adding entry for key 3483495641445147356 with session_name  cache is 15 entries (427392484 bytes),  marked for eviction 0 entries (0 bytes).\n"
     ]
    },
    {
     "name": "stdout",
     "output_type": "stream",
     "text": [
      "\u001b[1m55/55\u001b[0m \u001b[32m━━━━━━━━━━━━━━━━━━━━\u001b[0m\u001b[37m\u001b[0m \u001b[1m13s\u001b[0m 164ms/step\n",
      "\n",
      "--- Classification Report (5 Stuttering Classes) ---\n",
      "              precision    recall  f1-score   support\n",
      "\n",
      "Prolongation       0.55      0.68      0.61      2613\n",
      "       Block       0.69      0.25      0.37      3501\n",
      "    SoundRep       0.56      0.53      0.55      1891\n",
      "     WordRep       0.66      0.26      0.37      1742\n",
      "Interjection       0.89      0.57      0.70      3344\n",
      "\n",
      "   micro avg       0.66      0.46      0.54     13091\n",
      "   macro avg       0.67      0.46      0.52     13091\n",
      "weighted avg       0.69      0.46      0.53     13091\n",
      " samples avg       0.58      0.47      0.49     13091\n",
      "\n",
      "\n",
      "--- Generating plots for model training history... ---\n"
     ]
    },
    {
     "data": {
      "image/png": "[encoded data removed]",
      "text/plain": [
       "<Figure size 1800x700 with 2 Axes>"
      ]
     },
     "metadata": {},
     "output_type": "display_data"
    }
   ],
   "source": [
    "\n",
    "from sklearn.metrics import multilabel_confusion_matrix, precision_recall_curve, average_precision_score\n",
    "import itertools\n",
    "\n",
    "print(\"\\n--- Evaluating Model on the Test Set ---\")\n",
    "y_pred_probs = model.predict(test_dataset)\n",
    "y_pred_binary = (y_pred_probs > THRESHOLD).astype(int)\n",
    "\n",
    "num_predictions = len(y_pred_binary)\n",
    "y_test_eval = y_test[:num_predictions]\n",
    "\n",
    "print(\"\\n--- Classification Report (5 Stuttering Classes) ---\")\n",
    "report = classification_report(y_test_eval, y_pred_binary, target_names=LABEL_COLS, zero_division=0)\n",
    "print(report)\n",
    "with open(OUTPUT_DIR / \"classification_report.txt\", \"w\") as f:\n",
    "    f.write(report)\n",
    "\n",
    "print(\"\\n--- Generating plots for model training history... ---\")\n",
    "history_dict = history.history\n",
    "fig, (ax1, ax2) = plt.subplots(1, 2, figsize=(18, 7))\n",
    "fig.suptitle('Classifier Training History', fontsize=16)\n",
    "ax1.plot(history_dict['loss'], 'o-', label='Train Loss')\n",
    "ax1.plot(history_dict['val_loss'], 'o-', label='Validation Loss')\n",
    "ax1.set_title('Binary Crossentropy Loss'); ax1.set_xlabel('Epoch'); ax1.set_ylabel('Loss'); ax1.legend(); ax1.grid(True)\n",
    "ax2.plot(history_dict['val_auc'], 'o-', label='Validation AUC')\n",
    "ax2.set_title('Validation AUC'); ax2.set_xlabel('Epoch'); ax2.set_ylabel('AUC'); ax2.legend(); ax2.grid(True)\n",
    "plt.savefig(OUTPUT_DIR / \"training_history.png\")\n",
    "plt.show()"
   ]
  }
 ],
 "metadata": {
  "kaggle": {
   "accelerator": "tpu1vmV38",
   "dataSources": [
    {
     "datasetId": 2285103,
     "sourceId": 3839191,
     "sourceType": "datasetVersion"
    }
   ],
   "dockerImageVersionId": 31091,
   "isGpuEnabled": false,
   "isInternetEnabled": true,
   "language": "python",
   "sourceType": "notebook"
  },
  "kernelspec": {
   "display_name": "Python 3",
   "language": "python",
   "name": "python3"
  },
  "language_info": {
   "codemirror_mode": {
    "name": "ipython",
    "version": 3
   },
   "file_extension": ".py",
   "mimetype": "text/x-python",
   "name": "python",
   "nbconvert_exporter": "python",
   "pygments_lexer": "ipython3",
   "version": "3.10.18"
  }
 },
 "nbformat": 4,
 "nbformat_minor": 4
}
