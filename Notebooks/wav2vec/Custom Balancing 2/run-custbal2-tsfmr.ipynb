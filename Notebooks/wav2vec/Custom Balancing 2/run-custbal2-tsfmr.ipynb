{
 "cells": [
  {
   "cell_type": "code",
   "execution_count": null,
   "metadata": {
    "execution": {
     "iopub.execute_input": "2025-07-25T08:16:28.382785Z",
     "iopub.status.busy": "2025-07-25T08:16:28.382400Z",
     "iopub.status.idle": "2025-07-25T08:16:58.280917Z",
     "shell.execute_reply": "2025-07-25T08:16:58.277545Z",
     "shell.execute_reply.started": "2025-07-25T08:16:28.382725Z"
    },
    "trusted": true
   },
   "outputs": [
    {
     "name": "stderr",
     "output_type": "stream",
     "text": [
      "WARNING: Logging before InitGoogle() is written to STDERR\n",
      "E0000 00:00:1753431396.138184      10 common_lib.cc:612] Could not set metric server port: INVALID_ARGUMENT: Could not find SliceBuilder port 8471 in any of the 0 ports provided in `tpu_process_addresses`=\"local\"\n",
      "=== Source Location Trace: === \n",
      "learning/45eac/tfrc/runtime/common_lib.cc:230\n"
     ]
    }
   ],
   "source": [
    "import pandas as pd\n",
    "import numpy as np\n",
    "import tensorflow as tf\n",
    "import matplotlib.pyplot as plt\n",
    "from pathlib import Path\n",
    "import os\n",
    "\n",
    "from sklearn.metrics import classification_report\n",
    "import tensorflow.keras.backend as K\n",
    "\n",
    "from tensorflow.keras import layers"
   ]
  },
  {
   "cell_type": "code",
   "execution_count": null,
   "metadata": {
    "execution": {
     "iopub.execute_input": "2025-07-25T10:36:19.577951Z",
     "iopub.status.busy": "2025-07-25T10:36:19.577570Z",
     "iopub.status.idle": "2025-07-25T10:36:19.590680Z",
     "shell.execute_reply": "2025-07-25T10:36:19.585038Z",
     "shell.execute_reply.started": "2025-07-25T10:36:19.577920Z"
    },
    "trusted": true
   },
   "outputs": [],
   "source": [
    "# Config \n",
    "INPUT_DIR = Path(\"/kaggle/working/output_wav2vec_custom_augmented\")\n",
    "OUTPUT_DIR = Path(\"./output_tfmr_class_tpu\")\n",
    "OUTPUT_DIR.mkdir(exist_ok=True)\n",
    "\n",
    "MAX_SEQ_LEN = 150\n",
    "EMBEDDING_DIM = 768\n",
    "LABEL_COLS = ['Prolongation', 'Block', 'SoundRep', 'WordRep', 'Interjection']\n",
    "NUM_CLASSES = len(LABEL_COLS)\n",
    "\n",
    "BATCH_SIZE_PER_REPLICA = 16\n",
    "EPOCHS = 400\n",
    "LEARNING_RATE = 1e-5\n",
    "THRESHOLD = 0.5\n",
    "\n",
    "TRAIN_DATA_PATH = INPUT_DIR / \"train_data.npz\"\n",
    "VAL_DATA_PATH = INPUT_DIR / \"val_data.npz\"\n",
    "TEST_DATA_PATH = INPUT_DIR / \"test_data.npz\"\n",
    "OUTPUT_DIR = Path(\"./\")\n",
    "BEST_MODEL_PATH = OUTPUT_DIR / \"best_tfmr_model.keras\"\n"
   ]
  },
  {
   "cell_type": "code",
   "execution_count": null,
   "metadata": {
    "execution": {
     "iopub.execute_input": "2025-07-25T10:02:55.340797Z",
     "iopub.status.busy": "2025-07-25T10:02:55.340490Z",
     "iopub.status.idle": "2025-07-25T10:03:01.356619Z",
     "shell.execute_reply": "2025-07-25T10:03:01.350694Z",
     "shell.execute_reply.started": "2025-07-25T10:02:55.340770Z"
    },
    "trusted": true
   },
   "outputs": [
    {
     "name": "stdout",
     "output_type": "stream",
     "text": [
      "--- Initializing TPU Strategy ---\n",
      "INFO:tensorflow:Deallocate tpu buffers before initializing tpu system.\n"
     ]
    },
    {
     "name": "stderr",
     "output_type": "stream",
     "text": [
      "INFO:tensorflow:Deallocate tpu buffers before initializing tpu system.\n"
     ]
    },
    {
     "name": "stdout",
     "output_type": "stream",
     "text": [
      "WARNING:tensorflow:TPU system local has already been initialized. Reinitializing the TPU can cause previously created variables on TPU to be lost.\n"
     ]
    },
    {
     "name": "stderr",
     "output_type": "stream",
     "text": [
      "WARNING:tensorflow:TPU system local has already been initialized. Reinitializing the TPU can cause previously created variables on TPU to be lost.\n"
     ]
    },
    {
     "name": "stdout",
     "output_type": "stream",
     "text": [
      "INFO:tensorflow:Initializing the TPU system: local\n"
     ]
    },
    {
     "name": "stderr",
     "output_type": "stream",
     "text": [
      "INFO:tensorflow:Initializing the TPU system: local\n"
     ]
    },
    {
     "name": "stdout",
     "output_type": "stream",
     "text": [
      "INFO:tensorflow:Finished initializing TPU system.\n"
     ]
    },
    {
     "name": "stderr",
     "output_type": "stream",
     "text": [
      "INFO:tensorflow:Finished initializing TPU system.\n"
     ]
    },
    {
     "name": "stdout",
     "output_type": "stream",
     "text": [
      "INFO:tensorflow:Found TPU system:\n"
     ]
    },
    {
     "name": "stderr",
     "output_type": "stream",
     "text": [
      "INFO:tensorflow:Found TPU system:\n"
     ]
    },
    {
     "name": "stdout",
     "output_type": "stream",
     "text": [
      "INFO:tensorflow:*** Num TPU Cores: 8\n"
     ]
    },
    {
     "name": "stderr",
     "output_type": "stream",
     "text": [
      "INFO:tensorflow:*** Num TPU Cores: 8\n"
     ]
    },
    {
     "name": "stdout",
     "output_type": "stream",
     "text": [
      "INFO:tensorflow:*** Num TPU Workers: 1\n"
     ]
    },
    {
     "name": "stderr",
     "output_type": "stream",
     "text": [
      "INFO:tensorflow:*** Num TPU Workers: 1\n"
     ]
    },
    {
     "name": "stdout",
     "output_type": "stream",
     "text": [
      "INFO:tensorflow:*** Num TPU Cores Per Worker: 8\n"
     ]
    },
    {
     "name": "stderr",
     "output_type": "stream",
     "text": [
      "INFO:tensorflow:*** Num TPU Cores Per Worker: 8\n"
     ]
    },
    {
     "name": "stdout",
     "output_type": "stream",
     "text": [
      "INFO:tensorflow:*** Available Device: _DeviceAttributes(/job:localhost/replica:0/task:0/device:CPU:0, CPU, 0, 0)\n"
     ]
    },
    {
     "name": "stderr",
     "output_type": "stream",
     "text": [
      "INFO:tensorflow:*** Available Device: _DeviceAttributes(/job:localhost/replica:0/task:0/device:CPU:0, CPU, 0, 0)\n"
     ]
    },
    {
     "name": "stdout",
     "output_type": "stream",
     "text": [
      "INFO:tensorflow:*** Available Device: _DeviceAttributes(/job:localhost/replica:0/task:0/device:TPU:0, TPU, 0, 0)\n"
     ]
    },
    {
     "name": "stderr",
     "output_type": "stream",
     "text": [
      "INFO:tensorflow:*** Available Device: _DeviceAttributes(/job:localhost/replica:0/task:0/device:TPU:0, TPU, 0, 0)\n"
     ]
    },
    {
     "name": "stdout",
     "output_type": "stream",
     "text": [
      "INFO:tensorflow:*** Available Device: _DeviceAttributes(/job:localhost/replica:0/task:0/device:TPU:1, TPU, 0, 0)\n"
     ]
    },
    {
     "name": "stderr",
     "output_type": "stream",
     "text": [
      "INFO:tensorflow:*** Available Device: _DeviceAttributes(/job:localhost/replica:0/task:0/device:TPU:1, TPU, 0, 0)\n"
     ]
    },
    {
     "name": "stdout",
     "output_type": "stream",
     "text": [
      "INFO:tensorflow:*** Available Device: _DeviceAttributes(/job:localhost/replica:0/task:0/device:TPU:2, TPU, 0, 0)\n"
     ]
    },
    {
     "name": "stderr",
     "output_type": "stream",
     "text": [
      "INFO:tensorflow:*** Available Device: _DeviceAttributes(/job:localhost/replica:0/task:0/device:TPU:2, TPU, 0, 0)\n"
     ]
    },
    {
     "name": "stdout",
     "output_type": "stream",
     "text": [
      "INFO:tensorflow:*** Available Device: _DeviceAttributes(/job:localhost/replica:0/task:0/device:TPU:3, TPU, 0, 0)\n"
     ]
    },
    {
     "name": "stderr",
     "output_type": "stream",
     "text": [
      "INFO:tensorflow:*** Available Device: _DeviceAttributes(/job:localhost/replica:0/task:0/device:TPU:3, TPU, 0, 0)\n"
     ]
    },
    {
     "name": "stdout",
     "output_type": "stream",
     "text": [
      "INFO:tensorflow:*** Available Device: _DeviceAttributes(/job:localhost/replica:0/task:0/device:TPU:4, TPU, 0, 0)\n"
     ]
    },
    {
     "name": "stderr",
     "output_type": "stream",
     "text": [
      "INFO:tensorflow:*** Available Device: _DeviceAttributes(/job:localhost/replica:0/task:0/device:TPU:4, TPU, 0, 0)\n"
     ]
    },
    {
     "name": "stdout",
     "output_type": "stream",
     "text": [
      "INFO:tensorflow:*** Available Device: _DeviceAttributes(/job:localhost/replica:0/task:0/device:TPU:5, TPU, 0, 0)\n"
     ]
    },
    {
     "name": "stderr",
     "output_type": "stream",
     "text": [
      "INFO:tensorflow:*** Available Device: _DeviceAttributes(/job:localhost/replica:0/task:0/device:TPU:5, TPU, 0, 0)\n"
     ]
    },
    {
     "name": "stdout",
     "output_type": "stream",
     "text": [
      "INFO:tensorflow:*** Available Device: _DeviceAttributes(/job:localhost/replica:0/task:0/device:TPU:6, TPU, 0, 0)\n"
     ]
    },
    {
     "name": "stderr",
     "output_type": "stream",
     "text": [
      "INFO:tensorflow:*** Available Device: _DeviceAttributes(/job:localhost/replica:0/task:0/device:TPU:6, TPU, 0, 0)\n"
     ]
    },
    {
     "name": "stdout",
     "output_type": "stream",
     "text": [
      "INFO:tensorflow:*** Available Device: _DeviceAttributes(/job:localhost/replica:0/task:0/device:TPU:7, TPU, 0, 0)\n"
     ]
    },
    {
     "name": "stderr",
     "output_type": "stream",
     "text": [
      "INFO:tensorflow:*** Available Device: _DeviceAttributes(/job:localhost/replica:0/task:0/device:TPU:7, TPU, 0, 0)\n"
     ]
    },
    {
     "name": "stdout",
     "output_type": "stream",
     "text": [
      "INFO:tensorflow:*** Available Device: _DeviceAttributes(/job:localhost/replica:0/task:0/device:TPU_SYSTEM:0, TPU_SYSTEM, 0, 0)\n"
     ]
    },
    {
     "name": "stderr",
     "output_type": "stream",
     "text": [
      "INFO:tensorflow:*** Available Device: _DeviceAttributes(/job:localhost/replica:0/task:0/device:TPU_SYSTEM:0, TPU_SYSTEM, 0, 0)\n"
     ]
    },
    {
     "name": "stdout",
     "output_type": "stream",
     "text": [
      "TPU successfully initialized. Found TPU:  \n",
      "Global batch size set to: 128\n",
      "Number of replicas: 8\n"
     ]
    }
   ],
   "source": [
    "print(\"--- Initializing TPU Strategy ---\")\n",
    "\n",
    "try:\n",
    "    tpu = tf.distribute.cluster_resolver.TPUClusterResolver.connect(tpu='local')\n",
    "    # tf.config.experimental_connect_to_cluster(tpu)\n",
    "    # tf.tpu.experimental.initialize_tpu_system(tpu)\n",
    "    strategy = tf.distribute.TPUStrategy(tpu)\n",
    "    \n",
    "    print('TPU successfully initialized. Found TPU: ', tpu.master())\n",
    "    BATCH_SIZE = BATCH_SIZE_PER_REPLICA * strategy.num_replicas_in_sync\n",
    "    print(f\"Global batch size set to: {BATCH_SIZE}\")\n",
    "    print(\"Number of replicas:\", strategy.num_replicas_in_sync)\n",
    "\n",
    "except Exception as e:\n",
    "    print(f\"TPU initialization failed, this is the error: {e}\")\n",
    "    print(\"Falling back to default strategy (CPU/GPU).\")\n",
    "    strategy = tf.distribute.get_strategy()\n",
    "    BATCH_SIZE = BATCH_SIZE_PER_REPLICA\n"
   ]
  },
  {
   "cell_type": "code",
   "execution_count": null,
   "metadata": {
    "execution": {
     "iopub.execute_input": "2025-07-25T08:17:06.764499Z",
     "iopub.status.busy": "2025-07-25T08:17:06.764264Z",
     "iopub.status.idle": "2025-07-25T08:19:00.430711Z",
     "shell.execute_reply": "2025-07-25T08:19:00.426082Z",
     "shell.execute_reply.started": "2025-07-25T08:17:06.764474Z"
    },
    "trusted": true
   },
   "outputs": [
    {
     "name": "stdout",
     "output_type": "stream",
     "text": [
      "\n",
      "Loading all compressed features\n",
      "All compressed data loaded successfully.\n",
      "X_train shape: (33945, 150, 768)\n",
      "y_train shape: (33945, 6)\n"
     ]
    }
   ],
   "source": [
    "print(\"\\nLoading all compressed features\")\n",
    "\n",
    "train_data = np.load(TRAIN_DATA_PATH)\n",
    "val_data = np.load(VAL_DATA_PATH)\n",
    "test_data = np.load(TEST_DATA_PATH)\n",
    "\n",
    "# Access the arrays by the keys we used when saving ('x' and 'y')\n",
    "X_train, y_train = train_data['x'], train_data['y']\n",
    "X_val, y_val = val_data['x'], val_data['y']\n",
    "X_test, y_test = test_data['x'], test_data['y']\n",
    "\n",
    "\n",
    "print(\"All compressed data loaded successfully.\")\n",
    "print(f\"X_train shape: {X_train.shape}\")\n",
    "print(f\"y_train shape: {y_train.shape}\")\n"
   ]
  },
  {
   "cell_type": "code",
   "execution_count": null,
   "metadata": {
    "execution": {
     "iopub.execute_input": "2025-07-25T08:19:00.432642Z",
     "iopub.status.busy": "2025-07-25T08:19:00.432430Z",
     "iopub.status.idle": "2025-07-25T08:19:05.435857Z",
     "shell.execute_reply": "2025-07-25T08:19:05.431292Z",
     "shell.execute_reply.started": "2025-07-25T08:19:00.432619Z"
    },
    "trusted": true
   },
   "outputs": [
    {
     "name": "stdout",
     "output_type": "stream",
     "text": [
      "Data loaded and modified successfully.\n",
      "New X_train shape: (29783, 150, 768)\n"
     ]
    }
   ],
   "source": [
    "# Remove the last column ('NoStutter') from the labels\n",
    "y_train = y_train[:, :-1]\n",
    "y_val = y_val[:, :-1]\n",
    "y_test = y_test[:, :-1]\n",
    "\n",
    "# Filter out samples that now have NO labels\n",
    "train_indices = np.where(y_train.sum(axis=1) > 0)[0]\n",
    "val_indices = np.where(y_val.sum(axis=1) > 0)[0]\n",
    "test_indices = np.where(y_test.sum(axis=1) > 0)[0]\n",
    "\n",
    "X_train, y_train = X_train[train_indices], y_train[train_indices]\n",
    "X_val, y_val = X_val[val_indices], y_val[val_indices]\n",
    "X_test, y_test = X_test[test_indices], y_test[test_indices]\n",
    "\n",
    "print(\"Data loaded and modified successfully.\")\n",
    "print(f\"New X_train shape: {X_train.shape}\")\n"
   ]
  },
  {
   "cell_type": "code",
   "execution_count": null,
   "metadata": {
    "execution": {
     "iopub.execute_input": "2025-07-25T08:19:05.437760Z",
     "iopub.status.busy": "2025-07-25T08:19:05.437550Z",
     "iopub.status.idle": "2025-07-25T08:19:05.448905Z",
     "shell.execute_reply": "2025-07-25T08:19:05.444529Z",
     "shell.execute_reply.started": "2025-07-25T08:19:05.437738Z"
    },
    "trusted": true
   },
   "outputs": [
    {
     "name": "stdout",
     "output_type": "stream",
     "text": [
      "\n",
      " Verifying final training set distribution after augmentation\n",
      "Final distribution of labels in the training set (including augmented samples):\n",
      "Block           10848\n",
      "Interjection    10824\n",
      "Prolongation    10800\n",
      "SoundRep        10576\n",
      "WordRep         10569\n",
      "dtype: int64\n"
     ]
    }
   ],
   "source": [
    "print(\"\\n Verifying final training set distribution after augmentation\")\n",
    "\n",
    "final_train_labels_df = pd.DataFrame(y_train, columns=LABEL_COLS)\n",
    "\n",
    "print(\"Final distribution of labels in the training set (including augmented samples):\")\n",
    "print(final_train_labels_df.sum().sort_values(ascending=False))\n"
   ]
  },
  {
   "cell_type": "code",
   "execution_count": null,
   "metadata": {
    "execution": {
     "iopub.execute_input": "2025-07-25T10:36:36.323713Z",
     "iopub.status.busy": "2025-07-25T10:36:36.323392Z",
     "iopub.status.idle": "2025-07-25T10:36:57.957404Z",
     "shell.execute_reply": "2025-07-25T10:36:57.952870Z",
     "shell.execute_reply.started": "2025-07-25T10:36:36.323686Z"
    },
    "trusted": true
   },
   "outputs": [
    {
     "name": "stdout",
     "output_type": "stream",
     "text": [
      "\n",
      "Building tf.data pipeline\n",
      "Datasets created successfully.\n"
     ]
    }
   ],
   "source": [
    "print(\"\\nBuilding tf.data pipeline\")\n",
    "\n",
    "def prepare_dataset(X, y, shuffle=False, drop_remainder = False):\n",
    "    ds = tf.data.Dataset.from_tensor_slices((X, y))\n",
    "    ds = ds.cache()\n",
    "    if shuffle:\n",
    "        ds = ds.shuffle(buffer_size=2048)\n",
    "    ds = ds.batch(BATCH_SIZE, drop_remainder=drop_remainder)\n",
    "    ds = ds.prefetch(tf.data.AUTOTUNE)\n",
    "    return ds\n",
    "\n",
    "train_dataset = prepare_dataset(X_train, y_train, shuffle=True, drop_remainder=True)\n",
    "val_dataset = prepare_dataset(X_val, y_val, shuffle=False, drop_remainder=True)\n",
    "test_dataset = prepare_dataset(X_test, y_test, shuffle=False, drop_remainder=True)\n",
    "print(\"Datasets created successfully.\")\n"
   ]
  },
  {
   "cell_type": "code",
   "execution_count": null,
   "metadata": {
    "trusted": true
   },
   "outputs": [],
   "source": [
    "with strategy.scope():\n",
    "    print(\"\\nBuilding Transformer Model\")\n",
    "    # Transformer Encoder Block \n",
    "    def transformer_encoder(x, num_heads=4, ff_dim=128, dropout=0.1):\n",
    "        # Attention and Normalization\n",
    "        x_attn = layers.LayerNormalization(epsilon=1e-6)(x)\n",
    "        x_attn = layers.MultiHeadAttention(num_heads=num_heads, key_dim=EMBEDDING_DIM // num_heads)(x_attn, x_attn)\n",
    "        x_attn = layers.Dropout(dropout)(x_attn)\n",
    "        x = x + x_attn # Residual connection\n",
    "\n",
    "        # Feed Forward Network\n",
    "        x_ff = layers.LayerNormalization(epsilon=1e-6)(x)\n",
    "        x_ff = layers.Dense(ff_dim, activation=\"relu\")(x_ff)\n",
    "        x_ff = layers.Dropout(dropout)(x_ff)\n",
    "        x_ff = layers.Dense(EMBEDDING_DIM)(x_ff)\n",
    "        x = x + x_ff # Residual connection\n",
    "        \n",
    "        return x\n",
    "\n",
    "    def build_transformer_classifier(input_shape, num_classes):\n",
    "        inputs = layers.Input(shape=input_shape)\n",
    "        x = inputs\n",
    "        \n",
    "        # Applies Transformer encoder blocks\n",
    "        x = transformer_encoder(x, num_heads=4, ff_dim=256)\n",
    "        # x = transformer_encoder(x, num_heads=4, ff_dim=256)\n",
    "        \n",
    "        # Pool the sequence to a single vector\n",
    "        x = layers.GlobalAveragePooling1D()(x)\n",
    "        \n",
    "        # Classifier head\n",
    "        x = layers.Dense(128, activation='relu')(x)\n",
    "        x = layers.Dropout(0.5)(x)\n",
    "        outputs = layers.Dense(num_classes, activation='sigmoid')(x)\n",
    "        \n",
    "        model = tf.keras.Model(inputs=inputs, outputs=outputs)\n",
    "        \n",
    "        optimizer = tf.keras.optimizers.Adam(learning_rate=LEARNING_RATE, clipnorm=1.0)\n",
    "        model.compile(\n",
    "            optimizer=optimizer,\n",
    "            loss='binary_crossentropy',\n",
    "            metrics=['accuracy', tf.keras.metrics.Precision(name='precision'), tf.keras.metrics.Recall(name='recall'), tf.keras.metrics.AUC(name='auc', multi_label=True)]\n",
    "        )\n",
    "        return model\n",
    "\n",
    "    model = build_transformer_classifier(input_shape=(MAX_SEQ_LEN, EMBEDDING_DIM), num_classes=NUM_CLASSES)\n",
    "\n",
    "model.summary()\n",
    "\n",
    "checkpoint = tf.keras.callbacks.ModelCheckpoint(BEST_MODEL_PATH, monitor='val_auc', mode='max', save_best_only=True, verbose=1)\n",
    "early_stopping = tf.keras.callbacks.EarlyStopping(monitor='val_auc', mode='max', patience=10, restore_best_weights=True)\n",
    "\n",
    "print(f\"LEARNING RATE: {LEARNING_RATE}\")\n",
    "print(f\"BATCH SIZE: {BATCH_SIZE}\")"
   ]
  },
  {
   "cell_type": "code",
   "execution_count": 36,
   "metadata": {
    "execution": {
     "iopub.execute_input": "2025-07-25T10:37:02.571018Z",
     "iopub.status.busy": "2025-07-25T10:37:02.570675Z",
     "iopub.status.idle": "2025-07-25T10:57:38.546413Z",
     "shell.execute_reply": "2025-07-25T10:57:38.538990Z",
     "shell.execute_reply.started": "2025-07-25T10:37:02.570990Z"
    },
    "trusted": true
   },
   "outputs": [
    {
     "name": "stdout",
     "output_type": "stream",
     "text": [
      "\n",
      "Starting Training on TPU\n",
      "Epoch 1/400\n"
     ]
    },
    {
     "name": "stderr",
     "output_type": "stream",
     "text": [
      "I0000 00:00:1753439871.663719      10 encapsulate_tpu_computations_pass.cc:266] Subgraph fingerprint:5797479858960827497\n",
      "I0000 00:00:1753439872.812111    1003 tpu_compilation_cache_interface.cc:442] TPU host compilation cache miss: cache_key(18410379085679345843), session_name()\n",
      "I0000 00:00:1753439884.237917    1003 tpu_compile_op_common.cc:245] Compilation of 18410379085679345843 with session name  took 11.425759281s and succeeded\n",
      "I0000 00:00:1753439884.282578    1003 tpu_compilation_cache_interface.cc:476] TPU host compilation cache: compilation complete for cache_key(18410379085679345843), session_name(), subgraph_key(std::string(property.function_name) = \"cluster_one_step_on_data_5797479858960827497\", property.function_library_fingerprint = 15286815899787463751, property.mlir_module_fingerprint = 0, property.num_replicas = 8, topology.chip_bounds().x = 2, topology.chip_bounds().y = 2, topology.chip_bounds().z = 1, topology.wrap().x = false, topology.wrap().y = false, topology.wrap().z = false, std::string(property.shapes_prefix) = \"\", property.guaranteed_constants_size = 0, embedding_partitions_fingerprint = \"1688352644216761960\")\n",
      "I0000 00:00:1753439884.282621    1003 tpu_compilation_cache_interface.cc:542] After adding entry for key 18410379085679345843 with session_name  cache is 21 entries (533791604 bytes),  marked for eviction 0 entries (0 bytes).\n"
     ]
    },
    {
     "name": "stdout",
     "output_type": "stream",
     "text": [
      "\u001b[1m231/232\u001b[0m \u001b[32m━━━━━━━━━━━━━━━━━━━\u001b[0m\u001b[37m━\u001b[0m \u001b[1m0s\u001b[0m 26ms/step - accuracy: 0.2600 - auc: 0.5672 - loss: 0.6829 - precision: 0.4598 - recall: 0.2402"
     ]
    },
    {
     "name": "stderr",
     "output_type": "stream",
     "text": [
      "I0000 00:00:1753439906.553347      10 encapsulate_tpu_computations_pass.cc:266] Subgraph fingerprint:92340764193293131\n",
      "I0000 00:00:1753439906.774296     958 tpu_compilation_cache_interface.cc:442] TPU host compilation cache miss: cache_key(2400632065753270583), session_name()\n",
      "I0000 00:00:1753439908.872304     958 tpu_compile_op_common.cc:245] Compilation of 2400632065753270583 with session name  took 2.097956044s and succeeded\n",
      "I0000 00:00:1753439908.877475     958 tpu_compilation_cache_interface.cc:476] TPU host compilation cache: compilation complete for cache_key(2400632065753270583), session_name(), subgraph_key(std::string(property.function_name) = \"cluster_one_step_on_data_92340764193293131\", property.function_library_fingerprint = 5396656436964965006, property.mlir_module_fingerprint = 0, property.num_replicas = 8, topology.chip_bounds().x = 2, topology.chip_bounds().y = 2, topology.chip_bounds().z = 1, topology.wrap().x = false, topology.wrap().y = false, topology.wrap().z = false, std::string(property.shapes_prefix) = \"\", property.guaranteed_constants_size = 0, embedding_partitions_fingerprint = \"1688352644216761960\")\n",
      "I0000 00:00:1753439908.877504     958 tpu_compilation_cache_interface.cc:542] After adding entry for key 2400632065753270583 with session_name  cache is 22 entries (541772073 bytes),  marked for eviction 0 entries (0 bytes).\n"
     ]
    },
    {
     "name": "stdout",
     "output_type": "stream",
     "text": [
      "\n",
      "Epoch 1: val_auc improved from -inf to 0.65441, saving model to best_tfmr_model.keras\n",
      "\u001b[1m232/232\u001b[0m \u001b[32m━━━━━━━━━━━━━━━━━━━━\u001b[0m\u001b[37m\u001b[0m \u001b[1m59s\u001b[0m 114ms/step - accuracy: 0.2599 - auc: 0.5674 - loss: 0.6826 - precision: 0.4601 - recall: 0.2397 - val_accuracy: 0.1719 - val_auc: 0.6544 - val_loss: 0.6498 - val_precision: 0.6047 - val_recall: 0.1516\n",
      "Epoch 2/400\n",
      "\u001b[1m231/232\u001b[0m \u001b[32m━━━━━━━━━━━━━━━━━━━\u001b[0m\u001b[37m━\u001b[0m \u001b[1m0s\u001b[0m 24ms/step - accuracy: 0.2829 - auc: 0.6282 - loss: 0.6250 - precision: 0.5674 - recall: 0.2440\n",
      "Epoch 2: val_auc improved from 0.65441 to 0.67954, saving model to best_tfmr_model.keras\n",
      "\u001b[1m232/232\u001b[0m \u001b[32m━━━━━━━━━━━━━━━━━━━━\u001b[0m\u001b[37m\u001b[0m \u001b[1m36s\u001b[0m 96ms/step - accuracy: 0.2829 - auc: 0.6284 - loss: 0.6250 - precision: 0.5674 - recall: 0.2441 - val_accuracy: 0.1543 - val_auc: 0.6795 - val_loss: 0.6478 - val_precision: 0.5169 - val_recall: 0.2725\n",
      "Epoch 3/400\n",
      "\u001b[1m231/232\u001b[0m \u001b[32m━━━━━━━━━━━━━━━━━━━\u001b[0m\u001b[37m━\u001b[0m \u001b[1m0s\u001b[0m 25ms/step - accuracy: 0.3064 - auc: 0.6576 - loss: 0.6124 - precision: 0.5914 - recall: 0.2946\n",
      "Epoch 3: val_auc improved from 0.67954 to 0.68945, saving model to best_tfmr_model.keras\n",
      "\u001b[1m232/232\u001b[0m \u001b[32m━━━━━━━━━━━━━━━━━━━━\u001b[0m\u001b[37m\u001b[0m \u001b[1m36s\u001b[0m 97ms/step - accuracy: 0.3064 - auc: 0.6577 - loss: 0.6123 - precision: 0.5915 - recall: 0.2947 - val_accuracy: 0.1855 - val_auc: 0.6894 - val_loss: 0.6117 - val_precision: 0.5983 - val_recall: 0.3499\n",
      "Epoch 4/400\n",
      "\u001b[1m230/232\u001b[0m \u001b[32m━━━━━━━━━━━━━━━━━━━\u001b[0m\u001b[37m━\u001b[0m \u001b[1m0s\u001b[0m 24ms/step - accuracy: 0.3105 - auc: 0.6797 - loss: 0.5975 - precision: 0.6132 - recall: 0.3434\n",
      "Epoch 4: val_auc improved from 0.68945 to 0.69946, saving model to best_tfmr_model.keras\n",
      "\u001b[1m232/232\u001b[0m \u001b[32m━━━━━━━━━━━━━━━━━━━━\u001b[0m\u001b[37m\u001b[0m \u001b[1m36s\u001b[0m 97ms/step - accuracy: 0.3106 - auc: 0.6799 - loss: 0.5975 - precision: 0.6133 - recall: 0.3435 - val_accuracy: 0.2070 - val_auc: 0.6995 - val_loss: 0.6080 - val_precision: 0.5939 - val_recall: 0.3449\n",
      "Epoch 5/400\n",
      "\u001b[1m232/232\u001b[0m \u001b[32m━━━━━━━━━━━━━━━━━━━━\u001b[0m\u001b[37m\u001b[0m \u001b[1m0s\u001b[0m 24ms/step - accuracy: 0.3326 - auc: 0.6840 - loss: 0.5965 - precision: 0.6096 - recall: 0.3441\n",
      "Epoch 5: val_auc improved from 0.69946 to 0.70352, saving model to best_tfmr_model.keras\n",
      "\u001b[1m232/232\u001b[0m \u001b[32m━━━━━━━━━━━━━━━━━━━━\u001b[0m\u001b[37m\u001b[0m \u001b[1m36s\u001b[0m 97ms/step - accuracy: 0.3327 - auc: 0.6841 - loss: 0.5964 - precision: 0.6096 - recall: 0.3442 - val_accuracy: 0.1816 - val_auc: 0.7035 - val_loss: 0.6320 - val_precision: 0.5476 - val_recall: 0.3707\n",
      "Epoch 6/400\n",
      "\u001b[1m231/232\u001b[0m \u001b[32m━━━━━━━━━━━━━━━━━━━\u001b[0m\u001b[37m━\u001b[0m \u001b[1m0s\u001b[0m 24ms/step - accuracy: 0.3584 - auc: 0.7074 - loss: 0.5824 - precision: 0.6487 - recall: 0.3937\n",
      "Epoch 6: val_auc improved from 0.70352 to 0.70513, saving model to best_tfmr_model.keras\n",
      "\u001b[1m232/232\u001b[0m \u001b[32m━━━━━━━━━━━━━━━━━━━━\u001b[0m\u001b[37m\u001b[0m \u001b[1m36s\u001b[0m 95ms/step - accuracy: 0.3583 - auc: 0.7074 - loss: 0.5824 - precision: 0.6485 - recall: 0.3937 - val_accuracy: 0.1895 - val_auc: 0.7051 - val_loss: 0.6244 - val_precision: 0.5662 - val_recall: 0.3647\n",
      "Epoch 7/400\n",
      "\u001b[1m231/232\u001b[0m \u001b[32m━━━━━━━━━━━━━━━━━━━\u001b[0m\u001b[37m━\u001b[0m \u001b[1m0s\u001b[0m 25ms/step - accuracy: 0.3478 - auc: 0.7009 - loss: 0.5855 - precision: 0.6251 - recall: 0.3981\n",
      "Epoch 7: val_auc improved from 0.70513 to 0.71007, saving model to best_tfmr_model.keras\n",
      "\u001b[1m232/232\u001b[0m \u001b[32m━━━━━━━━━━━━━━━━━━━━\u001b[0m\u001b[37m\u001b[0m \u001b[1m37s\u001b[0m 103ms/step - accuracy: 0.3479 - auc: 0.7011 - loss: 0.5855 - precision: 0.6252 - recall: 0.3981 - val_accuracy: 0.2207 - val_auc: 0.7101 - val_loss: 0.6045 - val_precision: 0.6103 - val_recall: 0.3647\n",
      "Epoch 8/400\n",
      "\u001b[1m230/232\u001b[0m \u001b[32m━━━━━━━━━━━━━━━━━━━\u001b[0m\u001b[37m━\u001b[0m \u001b[1m0s\u001b[0m 24ms/step - accuracy: 0.3479 - auc: 0.6981 - loss: 0.5872 - precision: 0.6236 - recall: 0.3958\n",
      "Epoch 8: val_auc did not improve from 0.71007\n",
      "\u001b[1m232/232\u001b[0m \u001b[32m━━━━━━━━━━━━━━━━━━━━\u001b[0m\u001b[37m\u001b[0m \u001b[1m35s\u001b[0m 95ms/step - accuracy: 0.3480 - auc: 0.6983 - loss: 0.5870 - precision: 0.6238 - recall: 0.3959 - val_accuracy: 0.2090 - val_auc: 0.7096 - val_loss: 0.6150 - val_precision: 0.5916 - val_recall: 0.3617\n",
      "Epoch 9/400\n",
      "\u001b[1m232/232\u001b[0m \u001b[32m━━━━━━━━━━━━━━━━━━━━\u001b[0m\u001b[37m\u001b[0m \u001b[1m0s\u001b[0m 24ms/step - accuracy: 0.3468 - auc: 0.7088 - loss: 0.5805 - precision: 0.6335 - recall: 0.4101\n",
      "Epoch 9: val_auc improved from 0.71007 to 0.71435, saving model to best_tfmr_model.keras\n",
      "\u001b[1m232/232\u001b[0m \u001b[32m━━━━━━━━━━━━━━━━━━━━\u001b[0m\u001b[37m\u001b[0m \u001b[1m36s\u001b[0m 97ms/step - accuracy: 0.3469 - auc: 0.7089 - loss: 0.5804 - precision: 0.6336 - recall: 0.4102 - val_accuracy: 0.2148 - val_auc: 0.7143 - val_loss: 0.6036 - val_precision: 0.5913 - val_recall: 0.4172\n",
      "Epoch 10/400\n",
      "\u001b[1m231/232\u001b[0m \u001b[32m━━━━━━━━━━━━━━━━━━━\u001b[0m\u001b[37m━\u001b[0m \u001b[1m0s\u001b[0m 24ms/step - accuracy: 0.3784 - auc: 0.7324 - loss: 0.5642 - precision: 0.6753 - recall: 0.4258\n",
      "Epoch 10: val_auc improved from 0.71435 to 0.71613, saving model to best_tfmr_model.keras\n",
      "\u001b[1m232/232\u001b[0m \u001b[32m━━━━━━━━━━━━━━━━━━━━\u001b[0m\u001b[37m\u001b[0m \u001b[1m36s\u001b[0m 96ms/step - accuracy: 0.3783 - auc: 0.7324 - loss: 0.5642 - precision: 0.6752 - recall: 0.4258 - val_accuracy: 0.1953 - val_auc: 0.7161 - val_loss: 0.6297 - val_precision: 0.5640 - val_recall: 0.3974\n",
      "Epoch 11/400\n",
      "\u001b[1m230/232\u001b[0m \u001b[32m━━━━━━━━━━━━━━━━━━━\u001b[0m\u001b[37m━\u001b[0m \u001b[1m0s\u001b[0m 24ms/step - accuracy: 0.3621 - auc: 0.7239 - loss: 0.5699 - precision: 0.6482 - recall: 0.4294\n",
      "Epoch 11: val_auc improved from 0.71613 to 0.71826, saving model to best_tfmr_model.keras\n",
      "\u001b[1m232/232\u001b[0m \u001b[32m━━━━━━━━━━━━━━━━━━━━\u001b[0m\u001b[37m\u001b[0m \u001b[1m36s\u001b[0m 97ms/step - accuracy: 0.3622 - auc: 0.7241 - loss: 0.5698 - precision: 0.6483 - recall: 0.4295 - val_accuracy: 0.2539 - val_auc: 0.7183 - val_loss: 0.5996 - val_precision: 0.6219 - val_recall: 0.3994\n",
      "Epoch 12/400\n",
      "\u001b[1m230/232\u001b[0m \u001b[32m━━━━━━━━━━━━━━━━━━━\u001b[0m\u001b[37m━\u001b[0m \u001b[1m0s\u001b[0m 24ms/step - accuracy: 0.3671 - auc: 0.7394 - loss: 0.5622 - precision: 0.6618 - recall: 0.4304\n",
      "Epoch 12: val_auc improved from 0.71826 to 0.72020, saving model to best_tfmr_model.keras\n",
      "\u001b[1m232/232\u001b[0m \u001b[32m━━━━━━━━━━━━━━━━━━━━\u001b[0m\u001b[37m\u001b[0m \u001b[1m36s\u001b[0m 97ms/step - accuracy: 0.3672 - auc: 0.7395 - loss: 0.5621 - precision: 0.6619 - recall: 0.4306 - val_accuracy: 0.2129 - val_auc: 0.7202 - val_loss: 0.6260 - val_precision: 0.5748 - val_recall: 0.4113\n",
      "Epoch 13/400\n",
      "\u001b[1m230/232\u001b[0m \u001b[32m━━━━━━━━━━━━━━━━━━━\u001b[0m\u001b[37m━\u001b[0m \u001b[1m0s\u001b[0m 24ms/step - accuracy: 0.3635 - auc: 0.7287 - loss: 0.5672 - precision: 0.6512 - recall: 0.4303\n",
      "Epoch 13: val_auc improved from 0.72020 to 0.72958, saving model to best_tfmr_model.keras\n",
      "\u001b[1m232/232\u001b[0m \u001b[32m━━━━━━━━━━━━━━━━━━━━\u001b[0m\u001b[37m\u001b[0m \u001b[1m36s\u001b[0m 97ms/step - accuracy: 0.3638 - auc: 0.7289 - loss: 0.5670 - precision: 0.6514 - recall: 0.4305 - val_accuracy: 0.2734 - val_auc: 0.7296 - val_loss: 0.5871 - val_precision: 0.6238 - val_recall: 0.4470\n",
      "Epoch 14/400\n",
      "\u001b[1m232/232\u001b[0m \u001b[32m━━━━━━━━━━━━━━━━━━━━\u001b[0m\u001b[37m\u001b[0m \u001b[1m0s\u001b[0m 24ms/step - accuracy: 0.3913 - auc: 0.7436 - loss: 0.5569 - precision: 0.6799 - recall: 0.4521\n",
      "Epoch 14: val_auc did not improve from 0.72958\n",
      "\u001b[1m232/232\u001b[0m \u001b[32m━━━━━━━━━━━━━━━━━━━━\u001b[0m\u001b[37m\u001b[0m \u001b[1m36s\u001b[0m 98ms/step - accuracy: 0.3913 - auc: 0.7436 - loss: 0.5568 - precision: 0.6799 - recall: 0.4521 - val_accuracy: 0.2148 - val_auc: 0.7275 - val_loss: 0.6311 - val_precision: 0.5890 - val_recall: 0.4034\n",
      "Epoch 15/400\n",
      "\u001b[1m231/232\u001b[0m \u001b[32m━━━━━━━━━━━━━━━━━━━\u001b[0m\u001b[37m━\u001b[0m \u001b[1m0s\u001b[0m 24ms/step - accuracy: 0.3986 - auc: 0.7497 - loss: 0.5544 - precision: 0.6825 - recall: 0.4614\n",
      "Epoch 15: val_auc did not improve from 0.72958\n",
      "\u001b[1m232/232\u001b[0m \u001b[32m━━━━━━━━━━━━━━━━━━━━\u001b[0m\u001b[37m\u001b[0m \u001b[1m35s\u001b[0m 94ms/step - accuracy: 0.3986 - auc: 0.7497 - loss: 0.5543 - precision: 0.6825 - recall: 0.4615 - val_accuracy: 0.2617 - val_auc: 0.7281 - val_loss: 0.5972 - val_precision: 0.6268 - val_recall: 0.4410\n",
      "Epoch 16/400\n",
      "\u001b[1m231/232\u001b[0m \u001b[32m━━━━━━━━━━━━━━━━━━━\u001b[0m\u001b[37m━\u001b[0m \u001b[1m0s\u001b[0m 24ms/step - accuracy: 0.3689 - auc: 0.7460 - loss: 0.5534 - precision: 0.6629 - recall: 0.4592\n",
      "Epoch 16: val_auc improved from 0.72958 to 0.73267, saving model to best_tfmr_model.keras\n",
      "\u001b[1m232/232\u001b[0m \u001b[32m━━━━━━━━━━━━━━━━━━━━\u001b[0m\u001b[37m\u001b[0m \u001b[1m36s\u001b[0m 96ms/step - accuracy: 0.3691 - auc: 0.7462 - loss: 0.5533 - precision: 0.6630 - recall: 0.4593 - val_accuracy: 0.2617 - val_auc: 0.7327 - val_loss: 0.5767 - val_precision: 0.6529 - val_recall: 0.4549\n",
      "Epoch 17/400\n",
      "\u001b[1m230/232\u001b[0m \u001b[32m━━━━━━━━━━━━━━━━━━━\u001b[0m\u001b[37m━\u001b[0m \u001b[1m0s\u001b[0m 25ms/step - accuracy: 0.3840 - auc: 0.7465 - loss: 0.5490 - precision: 0.6641 - recall: 0.4654\n",
      "Epoch 17: val_auc did not improve from 0.73267\n",
      "\u001b[1m232/232\u001b[0m \u001b[32m━━━━━━━━━━━━━━━━━━━━\u001b[0m\u001b[37m\u001b[0m \u001b[1m36s\u001b[0m 96ms/step - accuracy: 0.3841 - auc: 0.7466 - loss: 0.5490 - precision: 0.6642 - recall: 0.4656 - val_accuracy: 0.2324 - val_auc: 0.7323 - val_loss: 0.6034 - val_precision: 0.6116 - val_recall: 0.4509\n",
      "Epoch 18/400\n",
      "\u001b[1m232/232\u001b[0m \u001b[32m━━━━━━━━━━━━━━━━━━━━\u001b[0m\u001b[37m\u001b[0m \u001b[1m0s\u001b[0m 24ms/step - accuracy: 0.3849 - auc: 0.7624 - loss: 0.5411 - precision: 0.6784 - recall: 0.4722\n",
      "Epoch 18: val_auc improved from 0.73267 to 0.73406, saving model to best_tfmr_model.keras\n",
      "\u001b[1m232/232\u001b[0m \u001b[32m━━━━━━━━━━━━━━━━━━━━\u001b[0m\u001b[37m\u001b[0m \u001b[1m36s\u001b[0m 96ms/step - accuracy: 0.3850 - auc: 0.7624 - loss: 0.5411 - precision: 0.6784 - recall: 0.4722 - val_accuracy: 0.2441 - val_auc: 0.7341 - val_loss: 0.6120 - val_precision: 0.6076 - val_recall: 0.4143\n",
      "Epoch 19/400\n",
      "\u001b[1m231/232\u001b[0m \u001b[32m━━━━━━━━━━━━━━━━━━━\u001b[0m\u001b[37m━\u001b[0m \u001b[1m0s\u001b[0m 25ms/step - accuracy: 0.3952 - auc: 0.7534 - loss: 0.5511 - precision: 0.6716 - recall: 0.4757\n",
      "Epoch 19: val_auc improved from 0.73406 to 0.73441, saving model to best_tfmr_model.keras\n",
      "\u001b[1m232/232\u001b[0m \u001b[32m━━━━━━━━━━━━━━━━━━━━\u001b[0m\u001b[37m\u001b[0m \u001b[1m36s\u001b[0m 98ms/step - accuracy: 0.3953 - auc: 0.7536 - loss: 0.5510 - precision: 0.6717 - recall: 0.4758 - val_accuracy: 0.2402 - val_auc: 0.7344 - val_loss: 0.5940 - val_precision: 0.6393 - val_recall: 0.4480\n",
      "Epoch 20/400\n",
      "\u001b[1m232/232\u001b[0m \u001b[32m━━━━━━━━━━━━━━━━━━━━\u001b[0m\u001b[37m\u001b[0m \u001b[1m0s\u001b[0m 24ms/step - accuracy: 0.4156 - auc: 0.7619 - loss: 0.5376 - precision: 0.6821 - recall: 0.4793\n",
      "Epoch 20: val_auc improved from 0.73441 to 0.73648, saving model to best_tfmr_model.keras\n",
      "\u001b[1m232/232\u001b[0m \u001b[32m━━━━━━━━━━━━━━━━━━━━\u001b[0m\u001b[37m\u001b[0m \u001b[1m36s\u001b[0m 96ms/step - accuracy: 0.4155 - auc: 0.7620 - loss: 0.5376 - precision: 0.6821 - recall: 0.4794 - val_accuracy: 0.2754 - val_auc: 0.7365 - val_loss: 0.5839 - val_precision: 0.6497 - val_recall: 0.4797\n",
      "Epoch 21/400\n",
      "\u001b[1m230/232\u001b[0m \u001b[32m━━━━━━━━━━━━━━━━━━━\u001b[0m\u001b[37m━\u001b[0m \u001b[1m0s\u001b[0m 24ms/step - accuracy: 0.3937 - auc: 0.7653 - loss: 0.5363 - precision: 0.6797 - recall: 0.4862\n",
      "Epoch 21: val_auc did not improve from 0.73648\n",
      "\u001b[1m232/232\u001b[0m \u001b[32m━━━━━━━━━━━━━━━━━━━━\u001b[0m\u001b[37m\u001b[0m \u001b[1m36s\u001b[0m 98ms/step - accuracy: 0.3938 - auc: 0.7654 - loss: 0.5362 - precision: 0.6799 - recall: 0.4863 - val_accuracy: 0.2598 - val_auc: 0.7357 - val_loss: 0.6022 - val_precision: 0.6255 - val_recall: 0.4718\n",
      "Epoch 22/400\n",
      "\u001b[1m232/232\u001b[0m \u001b[32m━━━━━━━━━━━━━━━━━━━━\u001b[0m\u001b[37m\u001b[0m \u001b[1m0s\u001b[0m 24ms/step - accuracy: 0.3995 - auc: 0.7676 - loss: 0.5358 - precision: 0.6825 - recall: 0.5007\n",
      "Epoch 22: val_auc improved from 0.73648 to 0.73860, saving model to best_tfmr_model.keras\n",
      "\u001b[1m232/232\u001b[0m \u001b[32m━━━━━━━━━━━━━━━━━━━━\u001b[0m\u001b[37m\u001b[0m \u001b[1m36s\u001b[0m 97ms/step - accuracy: 0.3995 - auc: 0.7676 - loss: 0.5358 - precision: 0.6825 - recall: 0.5007 - val_accuracy: 0.2715 - val_auc: 0.7386 - val_loss: 0.5885 - val_precision: 0.6544 - val_recall: 0.4599\n",
      "Epoch 23/400\n",
      "\u001b[1m231/232\u001b[0m \u001b[32m━━━━━━━━━━━━━━━━━━━\u001b[0m\u001b[37m━\u001b[0m \u001b[1m0s\u001b[0m 25ms/step - accuracy: 0.4013 - auc: 0.7635 - loss: 0.5353 - precision: 0.6589 - recall: 0.4791\n",
      "Epoch 23: val_auc improved from 0.73860 to 0.73951, saving model to best_tfmr_model.keras\n",
      "\u001b[1m232/232\u001b[0m \u001b[32m━━━━━━━━━━━━━━━━━━━━\u001b[0m\u001b[37m\u001b[0m \u001b[1m36s\u001b[0m 98ms/step - accuracy: 0.4014 - auc: 0.7636 - loss: 0.5352 - precision: 0.6592 - recall: 0.4793 - val_accuracy: 0.2480 - val_auc: 0.7395 - val_loss: 0.5825 - val_precision: 0.6431 - val_recall: 0.4965\n",
      "Epoch 24/400\n",
      "\u001b[1m231/232\u001b[0m \u001b[32m━━━━━━━━━━━━━━━━━━━\u001b[0m\u001b[37m━\u001b[0m \u001b[1m0s\u001b[0m 24ms/step - accuracy: 0.4209 - auc: 0.7766 - loss: 0.5283 - precision: 0.6891 - recall: 0.4982\n",
      "Epoch 24: val_auc did not improve from 0.73951\n",
      "\u001b[1m232/232\u001b[0m \u001b[32m━━━━━━━━━━━━━━━━━━━━\u001b[0m\u001b[37m\u001b[0m \u001b[1m35s\u001b[0m 95ms/step - accuracy: 0.4209 - auc: 0.7767 - loss: 0.5282 - precision: 0.6892 - recall: 0.4984 - val_accuracy: 0.2227 - val_auc: 0.7355 - val_loss: 0.6166 - val_precision: 0.6127 - val_recall: 0.4579\n",
      "Epoch 25/400\n",
      "\u001b[1m232/232\u001b[0m \u001b[32m━━━━━━━━━━━━━━━━━━━━\u001b[0m\u001b[37m\u001b[0m \u001b[1m0s\u001b[0m 24ms/step - accuracy: 0.3992 - auc: 0.7721 - loss: 0.5323 - precision: 0.6816 - recall: 0.5009\n",
      "Epoch 25: val_auc did not improve from 0.73951\n",
      "\u001b[1m232/232\u001b[0m \u001b[32m━━━━━━━━━━━━━━━━━━━━\u001b[0m\u001b[37m\u001b[0m \u001b[1m35s\u001b[0m 94ms/step - accuracy: 0.3993 - auc: 0.7722 - loss: 0.5323 - precision: 0.6816 - recall: 0.5010 - val_accuracy: 0.2695 - val_auc: 0.7354 - val_loss: 0.5891 - val_precision: 0.6452 - val_recall: 0.4975\n",
      "Epoch 26/400\n",
      "\u001b[1m232/232\u001b[0m \u001b[32m━━━━━━━━━━━━━━━━━━━━\u001b[0m\u001b[37m\u001b[0m \u001b[1m0s\u001b[0m 25ms/step - accuracy: 0.4121 - auc: 0.7781 - loss: 0.5227 - precision: 0.6891 - recall: 0.5139\n",
      "Epoch 26: val_auc did not improve from 0.73951\n",
      "\u001b[1m232/232\u001b[0m \u001b[32m━━━━━━━━━━━━━━━━━━━━\u001b[0m\u001b[37m\u001b[0m \u001b[1m35s\u001b[0m 95ms/step - accuracy: 0.4121 - auc: 0.7782 - loss: 0.5226 - precision: 0.6892 - recall: 0.5139 - val_accuracy: 0.2910 - val_auc: 0.7338 - val_loss: 0.5841 - val_precision: 0.6504 - val_recall: 0.4886\n",
      "Epoch 27/400\n",
      "\u001b[1m232/232\u001b[0m \u001b[32m━━━━━━━━━━━━━━━━━━━━\u001b[0m\u001b[37m\u001b[0m \u001b[1m0s\u001b[0m 24ms/step - accuracy: 0.4219 - auc: 0.7828 - loss: 0.5214 - precision: 0.6987 - recall: 0.5223\n",
      "Epoch 27: val_auc did not improve from 0.73951\n",
      "\u001b[1m232/232\u001b[0m \u001b[32m━━━━━━━━━━━━━━━━━━━━\u001b[0m\u001b[37m\u001b[0m \u001b[1m35s\u001b[0m 93ms/step - accuracy: 0.4219 - auc: 0.7828 - loss: 0.5213 - precision: 0.6988 - recall: 0.5224 - val_accuracy: 0.2461 - val_auc: 0.7301 - val_loss: 0.6161 - val_precision: 0.6163 - val_recall: 0.4569\n",
      "Epoch 28/400\n",
      "\u001b[1m232/232\u001b[0m \u001b[32m━━━━━━━━━━━━━━━━━━━━\u001b[0m\u001b[37m\u001b[0m \u001b[1m0s\u001b[0m 24ms/step - accuracy: 0.4085 - auc: 0.7779 - loss: 0.5277 - precision: 0.6944 - recall: 0.5174\n",
      "Epoch 28: val_auc did not improve from 0.73951\n",
      "\u001b[1m232/232\u001b[0m \u001b[32m━━━━━━━━━━━━━━━━━━━━\u001b[0m\u001b[37m\u001b[0m \u001b[1m36s\u001b[0m 98ms/step - accuracy: 0.4086 - auc: 0.7780 - loss: 0.5276 - precision: 0.6945 - recall: 0.5175 - val_accuracy: 0.2559 - val_auc: 0.7291 - val_loss: 0.6112 - val_precision: 0.6192 - val_recall: 0.4609\n",
      "Epoch 29/400\n",
      "\u001b[1m230/232\u001b[0m \u001b[32m━━━━━━━━━━━━━━━━━━━\u001b[0m\u001b[37m━\u001b[0m \u001b[1m0s\u001b[0m 24ms/step - accuracy: 0.4256 - auc: 0.7927 - loss: 0.5098 - precision: 0.6924 - recall: 0.5393\n",
      "Epoch 29: val_auc did not improve from 0.73951\n",
      "\u001b[1m232/232\u001b[0m \u001b[32m━━━━━━━━━━━━━━━━━━━━\u001b[0m\u001b[37m\u001b[0m \u001b[1m35s\u001b[0m 94ms/step - accuracy: 0.4257 - auc: 0.7928 - loss: 0.5097 - precision: 0.6926 - recall: 0.5394 - val_accuracy: 0.2910 - val_auc: 0.7332 - val_loss: 0.5818 - val_precision: 0.6591 - val_recall: 0.5154\n",
      "Epoch 30/400\n",
      "\u001b[1m230/232\u001b[0m \u001b[32m━━━━━━━━━━━━━━━━━━━\u001b[0m\u001b[37m━\u001b[0m \u001b[1m0s\u001b[0m 24ms/step - accuracy: 0.4493 - auc: 0.7942 - loss: 0.5072 - precision: 0.7036 - recall: 0.5329\n",
      "Epoch 30: val_auc did not improve from 0.73951\n",
      "\u001b[1m232/232\u001b[0m \u001b[32m━━━━━━━━━━━━━━━━━━━━\u001b[0m\u001b[37m\u001b[0m \u001b[1m35s\u001b[0m 94ms/step - accuracy: 0.4492 - auc: 0.7944 - loss: 0.5071 - precision: 0.7037 - recall: 0.5331 - val_accuracy: 0.2773 - val_auc: 0.7300 - val_loss: 0.5864 - val_precision: 0.6392 - val_recall: 0.5074\n",
      "Epoch 31/400\n",
      "\u001b[1m232/232\u001b[0m \u001b[32m━━━━━━━━━━━━━━━━━━━━\u001b[0m\u001b[37m\u001b[0m \u001b[1m0s\u001b[0m 24ms/step - accuracy: 0.4362 - auc: 0.7980 - loss: 0.5030 - precision: 0.6985 - recall: 0.5387\n",
      "Epoch 31: val_auc did not improve from 0.73951\n",
      "\u001b[1m232/232\u001b[0m \u001b[32m━━━━━━━━━━━━━━━━━━━━\u001b[0m\u001b[37m\u001b[0m \u001b[1m36s\u001b[0m 94ms/step - accuracy: 0.4362 - auc: 0.7980 - loss: 0.5030 - precision: 0.6986 - recall: 0.5387 - val_accuracy: 0.2461 - val_auc: 0.7259 - val_loss: 0.6202 - val_precision: 0.6228 - val_recall: 0.4648\n",
      "Epoch 32/400\n",
      "\u001b[1m232/232\u001b[0m \u001b[32m━━━━━━━━━━━━━━━━━━━━\u001b[0m\u001b[37m\u001b[0m \u001b[1m0s\u001b[0m 24ms/step - accuracy: 0.4254 - auc: 0.8013 - loss: 0.5027 - precision: 0.7081 - recall: 0.5482\n",
      "Epoch 32: val_auc did not improve from 0.73951\n",
      "\u001b[1m232/232\u001b[0m \u001b[32m━━━━━━━━━━━━━━━━━━━━\u001b[0m\u001b[37m\u001b[0m \u001b[1m35s\u001b[0m 95ms/step - accuracy: 0.4255 - auc: 0.8014 - loss: 0.5027 - precision: 0.7082 - recall: 0.5482 - val_accuracy: 0.2695 - val_auc: 0.7278 - val_loss: 0.5975 - val_precision: 0.6376 - val_recall: 0.5213\n",
      "Epoch 33/400\n",
      "\u001b[1m231/232\u001b[0m \u001b[32m━━━━━━━━━━━━━━━━━━━\u001b[0m\u001b[37m━\u001b[0m \u001b[1m0s\u001b[0m 24ms/step - accuracy: 0.4412 - auc: 0.8036 - loss: 0.4970 - precision: 0.7138 - recall: 0.5578\n",
      "Epoch 33: val_auc did not improve from 0.73951\n",
      "\u001b[1m232/232\u001b[0m \u001b[32m━━━━━━━━━━━━━━━━━━━━\u001b[0m\u001b[37m\u001b[0m \u001b[1m35s\u001b[0m 94ms/step - accuracy: 0.4413 - auc: 0.8037 - loss: 0.4969 - precision: 0.7139 - recall: 0.5578 - val_accuracy: 0.2637 - val_auc: 0.7263 - val_loss: 0.6223 - val_precision: 0.6205 - val_recall: 0.4797\n"
     ]
    }
   ],
   "source": [
    "print(\"\\nStarting Training on TPU\")\n",
    "history = model.fit(\n",
    "    train_dataset,\n",
    "    epochs=EPOCHS,\n",
    "    validation_data=val_dataset,\n",
    "    callbacks=[checkpoint, early_stopping]\n",
    ")"
   ]
  },
  {
   "cell_type": "code",
   "execution_count": null,
   "metadata": {
    "execution": {
     "iopub.execute_input": "2025-07-25T10:57:38.550019Z",
     "iopub.status.busy": "2025-07-25T10:57:38.549751Z",
     "iopub.status.idle": "2025-07-25T10:57:52.651671Z",
     "shell.execute_reply": "2025-07-25T10:57:52.646182Z",
     "shell.execute_reply.started": "2025-07-25T10:57:38.549993Z"
    },
    "trusted": true
   },
   "outputs": [
    {
     "name": "stdout",
     "output_type": "stream",
     "text": [
      "\n",
      "--- Evaluating Model on the Test Set ---\n"
     ]
    },
    {
     "name": "stderr",
     "output_type": "stream",
     "text": [
      "I0000 00:00:1753441065.549454      10 encapsulate_tpu_computations_pass.cc:266] Subgraph fingerprint:2747400145076919813\n",
      "E0000 00:00:1753441065.573451      10 meta_optimizer.cc:966] model_pruner failed: INVALID_ARGUMENT: Graph does not contain terminal node functional_7_1/dense_30_1/BiasAdd/ReadVariableOp.\n",
      "I0000 00:00:1753441065.648640    1015 tpu_compilation_cache_interface.cc:442] TPU host compilation cache miss: cache_key(1984847870621938588), session_name()\n",
      "I0000 00:00:1753441067.399415    1015 tpu_compile_op_common.cc:245] Compilation of 1984847870621938588 with session name  took 1.750714084s and succeeded\n",
      "I0000 00:00:1753441067.402866    1015 tpu_compilation_cache_interface.cc:476] TPU host compilation cache: compilation complete for cache_key(1984847870621938588), session_name(), subgraph_key(std::string(property.function_name) = \"cluster_one_step_on_data_distributed_2747400145076919813\", property.function_library_fingerprint = 7120798264050938388, property.mlir_module_fingerprint = 0, property.num_replicas = 8, topology.chip_bounds().x = 2, topology.chip_bounds().y = 2, topology.chip_bounds().z = 1, topology.wrap().x = false, topology.wrap().y = false, topology.wrap().z = false, std::string(property.shapes_prefix) = \"\", property.guaranteed_constants_size = 0, embedding_partitions_fingerprint = \"1688352644216761960\")\n",
      "I0000 00:00:1753441067.402894    1015 tpu_compilation_cache_interface.cc:542] After adding entry for key 1984847870621938588 with session_name  cache is 23 entries (547358005 bytes),  marked for eviction 0 entries (0 bytes).\n"
     ]
    },
    {
     "name": "stdout",
     "output_type": "stream",
     "text": [
      "\u001b[1m54/54\u001b[0m \u001b[32m━━━━━━━━━━━━━━━━━━━━\u001b[0m\u001b[37m\u001b[0m \u001b[1m10s\u001b[0m 84ms/step\n",
      "\n",
      "--- Classification Report (5 Stuttering Classes) ---\n",
      "              precision    recall  f1-score   support\n",
      "\n",
      "Prolongation       0.68      0.39      0.50      2608\n",
      "       Block       0.65      0.37      0.47      3474\n",
      "    SoundRep       0.60      0.47      0.53      1877\n",
      "     WordRep       0.51      0.52      0.51      1735\n",
      "Interjection       0.84      0.65      0.73      3333\n",
      "\n",
      "   micro avg       0.67      0.48      0.56     13027\n",
      "   macro avg       0.66      0.48      0.55     13027\n",
      "weighted avg       0.68      0.48      0.56     13027\n",
      " samples avg       0.61      0.50      0.51     13027\n",
      "\n",
      "\n",
      "--- Generating plots for model training history... ---\n"
     ]
    },
    {
     "data": {
      "image/png": "[encoded data removed]",
      "text/plain": [
       "<Figure size 1800x700 with 2 Axes>"
      ]
     },
     "metadata": {},
     "output_type": "display_data"
    }
   ],
   "source": [
    "from sklearn.metrics import multilabel_confusion_matrix, precision_recall_curve, average_precision_score\n",
    "import itertools\n",
    "\n",
    "print(\"\\n--- Evaluating Model on the Test Set ---\")\n",
    "y_pred_probs = model.predict(test_dataset)\n",
    "y_pred_binary = (y_pred_probs > THRESHOLD).astype(int)\n",
    "\n",
    "num_predictions = len(y_pred_binary)\n",
    "y_test_eval = y_test[:num_predictions]\n",
    "\n",
    "print(\"\\n--- Classification Report (5 Stuttering Classes) ---\")\n",
    "report = classification_report(y_test_eval, y_pred_binary, target_names=LABEL_COLS, zero_division=0)\n",
    "print(report)\n",
    "with open(OUTPUT_DIR / \"classification_report.txt\", \"w\") as f:\n",
    "    f.write(report)\n",
    "\n",
    "print(\"\\n--- Generating plots for model training history... ---\")\n",
    "history_dict = history.history\n",
    "fig, (ax1, ax2) = plt.subplots(1, 2, figsize=(18, 7))\n",
    "fig.suptitle('Classifier Training History', fontsize=16)\n",
    "ax1.plot(history_dict['loss'], 'o-', label='Train Loss')\n",
    "ax1.plot(history_dict['val_loss'], 'o-', label='Validation Loss')\n",
    "ax1.set_title('Binary Crossentropy Loss'); ax1.set_xlabel('Epoch'); ax1.set_ylabel('Loss'); ax1.legend(); ax1.grid(True)\n",
    "ax2.plot(history_dict['val_auc'], 'o-', label='Validation AUC')\n",
    "ax2.set_title('Validation AUC'); ax2.set_xlabel('Epoch'); ax2.set_ylabel('AUC'); ax2.legend(); ax2.grid(True)\n",
    "plt.savefig(OUTPUT_DIR / \"training_history.png\")\n",
    "plt.show()"
   ]
  }
 ],
 "metadata": {
  "kaggle": {
   "accelerator": "tpu1vmV38",
   "dataSources": [
    {
     "datasetId": 2285103,
     "sourceId": 3839191,
     "sourceType": "datasetVersion"
    }
   ],
   "dockerImageVersionId": 31091,
   "isGpuEnabled": false,
   "isInternetEnabled": true,
   "language": "python",
   "sourceType": "notebook"
  },
  "kernelspec": {
   "display_name": "Python 3",
   "language": "python",
   "name": "python3"
  },
  "language_info": {
   "codemirror_mode": {
    "name": "ipython",
    "version": 3
   },
   "file_extension": ".py",
   "mimetype": "text/x-python",
   "name": "python",
   "nbconvert_exporter": "python",
   "pygments_lexer": "ipython3",
   "version": "3.10.18"
  }
 },
 "nbformat": 4,
 "nbformat_minor": 4
}
