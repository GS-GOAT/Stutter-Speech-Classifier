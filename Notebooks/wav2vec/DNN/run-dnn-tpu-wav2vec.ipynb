{
 "cells": [
  {
   "cell_type": "code",
   "execution_count": null,
   "metadata": {
    "execution": {
     "iopub.execute_input": "2025-07-21T05:49:06.431626Z",
     "iopub.status.busy": "2025-07-21T05:49:06.431259Z",
     "iopub.status.idle": "2025-07-21T05:49:31.079165Z",
     "shell.execute_reply": "2025-07-21T05:49:31.071992Z",
     "shell.execute_reply.started": "2025-07-21T05:49:06.431604Z"
    },
    "trusted": true
   },
   "outputs": [
    {
     "name": "stderr",
     "output_type": "stream",
     "text": [
      "WARNING: Logging before InitGoogle() is written to STDERR\n",
      "E0000 00:00:1753076954.953206      10 common_lib.cc:612] Could not set metric server port: INVALID_ARGUMENT: Could not find SliceBuilder port 8471 in any of the 0 ports provided in `tpu_process_addresses`=\"local\"\n",
      "=== Source Location Trace: ===\n",
      "learning/45eac/tfrc/runtime/common_lib.cc:230\n"
     ]
    }
   ],
   "source": [
    "import numpy as np\n",
    "import tensorflow as tf\n",
    "import matplotlib.pyplot as plt\n",
    "from pathlib import Path\n",
    "import os\n",
    "\n",
    "from sklearn.metrics import classification_report\n",
    "import tensorflow.keras.backend as K\n",
    "from tensorflow.keras import layers"
   ]
  },
  {
   "cell_type": "code",
   "execution_count": null,
   "metadata": {
    "execution": {
     "iopub.execute_input": "2025-07-21T06:02:05.792779Z",
     "iopub.status.busy": "2025-07-21T06:02:05.792358Z",
     "iopub.status.idle": "2025-07-21T06:02:05.807469Z",
     "shell.execute_reply": "2025-07-21T06:02:05.800852Z",
     "shell.execute_reply.started": "2025-07-21T06:02:05.792748Z"
    },
    "trusted": true
   },
   "outputs": [],
   "source": [
    "#Config\n",
    "INPUT_DIR = Path(\"./output_wav2vec_precomputed_features\")\n",
    "OUTPUT_DIR = Path(\"./output_conformer_training_tpu\")\n",
    "OUTPUT_DIR.mkdir(exist_ok=True)\n",
    "\n",
    "MAX_SEQ_LEN = 150\n",
    "EMBEDDING_DIM = 768\n",
    "LABEL_COLS = ['Prolongation', 'Block', 'SoundRep', 'WordRep', 'Interjection', 'NoStutter']\n",
    "NUM_CLASSES = len(LABEL_COLS)\n",
    "\n",
    "BATCH_SIZE_PER_REPLICA = 16 # Batch size for each TPU core\n",
    "EPOCHS = 50\n",
    "LEARNING_RATE = 1e-4\n",
    "THRESHOLD = 0.5\n",
    "\n",
    "TRAIN_DATA_PATH = INPUT_DIR / \"train_data.npz\"\n",
    "VAL_DATA_PATH = INPUT_DIR / \"val_data.npz\"\n",
    "TEST_DATA_PATH = INPUT_DIR / \"test_data.npz\"\n",
    "OUTPUT_DIR = Path(\"./output_cnn_training_tpu\")\n",
    "BEST_MODEL_PATH = OUTPUT_DIR / \"best_cnn_model_tpu.keras\""
   ]
  },
  {
   "cell_type": "code",
   "execution_count": null,
   "metadata": {
    "execution": {
     "iopub.execute_input": "2025-07-21T05:49:31.095269Z",
     "iopub.status.busy": "2025-07-21T05:49:31.095001Z",
     "iopub.status.idle": "2025-07-21T05:49:39.405856Z",
     "shell.execute_reply": "2025-07-21T05:49:39.400713Z",
     "shell.execute_reply.started": "2025-07-21T05:49:31.095248Z"
    },
    "trusted": true
   },
   "outputs": [
    {
     "name": "stdout",
     "output_type": "stream",
     "text": [
      "--- Initializing TPU Strategy ---\n",
      "Found TPU:  \n",
      "INFO:tensorflow:Deallocate tpu buffers before initializing tpu system.\n",
      "INFO:tensorflow:Initializing the TPU system: local\n"
     ]
    },
    {
     "name": "stderr",
     "output_type": "stream",
     "text": [
      "WARNING: All log messages before absl::InitializeLog() is called are written to STDERR\n",
      "I0000 00:00:1753076975.315568      10 service.cc:148] XLA service 0x55badc8978d0 initialized for platform TPU (this does not guarantee that XLA will be used). Devices:\n",
      "I0000 00:00:1753076975.315615      10 service.cc:156]   StreamExecutor device (0): TPU, 2a886c8\n",
      "I0000 00:00:1753076975.315620      10 service.cc:156]   StreamExecutor device (1): TPU, 2a886c8\n",
      "I0000 00:00:1753076975.315623      10 service.cc:156]   StreamExecutor device (2): TPU, 2a886c8\n",
      "I0000 00:00:1753076975.315626      10 service.cc:156]   StreamExecutor device (3): TPU, 2a886c8\n",
      "I0000 00:00:1753076975.315628      10 service.cc:156]   StreamExecutor device (4): TPU, 2a886c8\n",
      "I0000 00:00:1753076975.315631      10 service.cc:156]   StreamExecutor device (5): TPU, 2a886c8\n",
      "I0000 00:00:1753076975.315634      10 service.cc:156]   StreamExecutor device (6): TPU, 2a886c8\n",
      "I0000 00:00:1753076975.315636      10 service.cc:156]   StreamExecutor device (7): TPU, 2a886c8\n"
     ]
    },
    {
     "name": "stdout",
     "output_type": "stream",
     "text": [
      "INFO:tensorflow:Finished initializing TPU system.\n",
      "INFO:tensorflow:Found TPU system:\n",
      "INFO:tensorflow:*** Num TPU Cores: 8\n",
      "INFO:tensorflow:*** Num TPU Workers: 1\n",
      "INFO:tensorflow:*** Num TPU Cores Per Worker: 8\n",
      "INFO:tensorflow:*** Available Device: _DeviceAttributes(/job:localhost/replica:0/task:0/device:CPU:0, CPU, 0, 0)\n",
      "INFO:tensorflow:*** Available Device: _DeviceAttributes(/job:localhost/replica:0/task:0/device:TPU:0, TPU, 0, 0)\n",
      "INFO:tensorflow:*** Available Device: _DeviceAttributes(/job:localhost/replica:0/task:0/device:TPU:1, TPU, 0, 0)\n",
      "INFO:tensorflow:*** Available Device: _DeviceAttributes(/job:localhost/replica:0/task:0/device:TPU:2, TPU, 0, 0)\n",
      "INFO:tensorflow:*** Available Device: _DeviceAttributes(/job:localhost/replica:0/task:0/device:TPU:3, TPU, 0, 0)\n",
      "INFO:tensorflow:*** Available Device: _DeviceAttributes(/job:localhost/replica:0/task:0/device:TPU:4, TPU, 0, 0)\n",
      "INFO:tensorflow:*** Available Device: _DeviceAttributes(/job:localhost/replica:0/task:0/device:TPU:5, TPU, 0, 0)\n",
      "INFO:tensorflow:*** Available Device: _DeviceAttributes(/job:localhost/replica:0/task:0/device:TPU:6, TPU, 0, 0)\n",
      "INFO:tensorflow:*** Available Device: _DeviceAttributes(/job:localhost/replica:0/task:0/device:TPU:7, TPU, 0, 0)\n",
      "INFO:tensorflow:*** Available Device: _DeviceAttributes(/job:localhost/replica:0/task:0/device:TPU_SYSTEM:0, TPU_SYSTEM, 0, 0)\n",
      "TPU successfully initialized.\n",
      "Global batch size set to: 128\n",
      "Number of replicas: 8\n"
     ]
    }
   ],
   "source": [
    "print(\"--- Initializing TPU Strategy ---\")\n",
    "\n",
    "try:\n",
    "    # We need to pass tpu='local' to tell the resolver where to look for tpu usage on kaggle.\n",
    "    tpu = tf.distribute.cluster_resolver.TPUClusterResolver(tpu='local')\n",
    "    print('Found TPU: ', tpu.master())\n",
    "    \n",
    "    tf.config.experimental_connect_to_cluster(tpu)\n",
    "    tf.tpu.experimental.initialize_tpu_system(tpu)\n",
    "    \n",
    "    strategy = tf.distribute.TPUStrategy(tpu)\n",
    "    \n",
    "    print(\"TPU successfully initialized.\")\n",
    "    BATCH_SIZE = BATCH_SIZE_PER_REPLICA * strategy.num_replicas_in_sync\n",
    "    print(f\"Global batch size set to: {BATCH_SIZE}\")\n",
    "    print(\"Number of replicas:\", strategy.num_replicas_in_sync)\n",
    "\n",
    "except Exception as e:\n",
    "    print(f\"TPU initialization failed, this is the error: {e}\")\n",
    "    print(\"Falling back to default strategy (CPU/GPU).\")\n",
    "    strategy = tf.distribute.get_strategy()\n",
    "    BATCH_SIZE = BATCH_SIZE_PER_REPLICA"
   ]
  },
  {
   "cell_type": "code",
   "execution_count": null,
   "metadata": {
    "execution": {
     "iopub.execute_input": "2025-07-21T06:02:11.437643Z",
     "iopub.status.busy": "2025-07-21T06:02:11.437314Z",
     "iopub.status.idle": "2025-07-21T06:03:58.620871Z",
     "shell.execute_reply": "2025-07-21T06:03:58.613140Z",
     "shell.execute_reply.started": "2025-07-21T06:02:11.437615Z"
    },
    "trusted": true
   },
   "outputs": [
    {
     "name": "stdout",
     "output_type": "stream",
     "text": [
      "\n",
      "--- Loading all compressed features into RAM... ---\n",
      "All compressed data loaded successfully.\n",
      "X_train shape: (30778, 150, 768)\n"
     ]
    }
   ],
   "source": [
    "print(\"\\n--- Loading all compressed features into RAM... ---\")\n",
    "\n",
    "# Load the compressed .npz files\n",
    "train_data = np.load(TRAIN_DATA_PATH)\n",
    "val_data = np.load(VAL_DATA_PATH)\n",
    "test_data = np.load(TEST_DATA_PATH)\n",
    "\n",
    "# Access the arrays by the keys we used when saving ('x' and 'y')\n",
    "X_train, y_train = train_data['x'], train_data['y']\n",
    "X_val, y_val = val_data['x'], val_data['y']\n",
    "X_test, y_test = test_data['x'], test_data['y']\n",
    "\n",
    "print(\"All compressed data loaded successfully.\")\n",
    "print(f\"X_train shape: {X_train.shape}\")"
   ]
  },
  {
   "cell_type": "code",
   "execution_count": null,
   "metadata": {
    "execution": {
     "iopub.execute_input": "2025-07-21T06:03:58.623209Z",
     "iopub.status.busy": "2025-07-21T06:03:58.622924Z",
     "iopub.status.idle": "2025-07-21T06:04:21.687000Z",
     "shell.execute_reply": "2025-07-21T06:04:21.680136Z",
     "shell.execute_reply.started": "2025-07-21T06:03:58.623183Z"
    },
    "trusted": true
   },
   "outputs": [
    {
     "name": "stdout",
     "output_type": "stream",
     "text": [
      "\n",
      "--- Building tf.data pipeline from in-memory arrays... ---\n",
      "Datasets created successfully.\n"
     ]
    }
   ],
   "source": [
    "print(\"\\n--- Building tf.data pipeline from in-memory arrays... ---\")\n",
    "\n",
    "def prepare_dataset(X, y, shuffle=False):\n",
    "    ds = tf.data.Dataset.from_tensor_slices((X, y))\n",
    "    if shuffle:\n",
    "        ds = ds.shuffle(buffer_size=2048)\n",
    "    ds = ds.batch(BATCH_SIZE)\n",
    "    ds = ds.prefetch(tf.data.AUTOTUNE)\n",
    "    return ds\n",
    "\n",
    "train_dataset = prepare_dataset(X_train, y_train, shuffle=True)\n",
    "val_dataset = prepare_dataset(X_val, y_val)\n",
    "test_dataset = prepare_dataset(X_test, y_test)\n",
    "print(\"Datasets created successfully.\")"
   ]
  },
  {
   "cell_type": "code",
   "execution_count": 19,
   "metadata": {
    "execution": {
     "iopub.execute_input": "2025-07-21T06:06:07.064434Z",
     "iopub.status.busy": "2025-07-21T06:06:07.064094Z",
     "iopub.status.idle": "2025-07-21T06:06:08.766793Z",
     "shell.execute_reply": "2025-07-21T06:06:08.761133Z",
     "shell.execute_reply.started": "2025-07-21T06:06:07.064397Z"
    },
    "trusted": true
   },
   "outputs": [
    {
     "data": {
      "text/plain": [
       "5230"
      ]
     },
     "execution_count": 19,
     "metadata": {},
     "output_type": "execute_result"
    }
   ],
   "source": [
    "import gc\n",
    "gc.collect()"
   ]
  },
  {
   "cell_type": "code",
   "execution_count": null,
   "metadata": {
    "execution": {
     "iopub.execute_input": "2025-07-21T06:08:08.289273Z",
     "iopub.status.busy": "2025-07-21T06:08:08.288762Z",
     "iopub.status.idle": "2025-07-21T06:08:08.741683Z",
     "shell.execute_reply": "2025-07-21T06:08:08.736686Z",
     "shell.execute_reply.started": "2025-07-21T06:08:08.289225Z"
    },
    "trusted": true
   },
   "outputs": [
    {
     "name": "stdout",
     "output_type": "stream",
     "text": [
      "\n",
      "--- Building DNN Model inside TPU Strategy Scope... ---\n"
     ]
    },
    {
     "data": {
      "text/html": [
       "<pre style=\"white-space:pre;overflow-x:auto;line-height:normal;font-family:Menlo,'DejaVu Sans Mono',consolas,'Courier New',monospace\"><span style=\"font-weight: bold\">Model: \"functional_3\"</span>\n",
       "</pre>\n"
      ],
      "text/plain": [
       "\u001b[1mModel: \"functional_3\"\u001b[0m\n"
      ]
     },
     "metadata": {},
     "output_type": "display_data"
    },
    {
     "data": {
      "text/html": [
       "<pre style=\"white-space:pre;overflow-x:auto;line-height:normal;font-family:Menlo,'DejaVu Sans Mono',consolas,'Courier New',monospace\">┏━━━━━━━━━━━━━━━━━━━━━━━━━━━━━━━━━┳━━━━━━━━━━━━━━━━━━━━━━━━┳━━━━━━━━━━━━━━━┓\n",
       "┃<span style=\"font-weight: bold\"> Layer (type)                    </span>┃<span style=\"font-weight: bold\"> Output Shape           </span>┃<span style=\"font-weight: bold\">       Param # </span>┃\n",
       "┡━━━━━━━━━━━━━━━━━━━━━━━━━━━━━━━━━╇━━━━━━━━━━━━━━━━━━━━━━━━╇━━━━━━━━━━━━━━━┩\n",
       "│ input_layer_3 (<span style=\"color: #0087ff; text-decoration-color: #0087ff\">InputLayer</span>)      │ (<span style=\"color: #00d7ff; text-decoration-color: #00d7ff\">None</span>, <span style=\"color: #00af00; text-decoration-color: #00af00\">150</span>, <span style=\"color: #00af00; text-decoration-color: #00af00\">768</span>)       │             <span style=\"color: #00af00; text-decoration-color: #00af00\">0</span> │\n",
       "├─────────────────────────────────┼────────────────────────┼───────────────┤\n",
       "│ global_average_pooling1d_3      │ (<span style=\"color: #00d7ff; text-decoration-color: #00d7ff\">None</span>, <span style=\"color: #00af00; text-decoration-color: #00af00\">768</span>)            │             <span style=\"color: #00af00; text-decoration-color: #00af00\">0</span> │\n",
       "│ (<span style=\"color: #0087ff; text-decoration-color: #0087ff\">GlobalAveragePooling1D</span>)        │                        │               │\n",
       "├─────────────────────────────────┼────────────────────────┼───────────────┤\n",
       "│ dense_12 (<span style=\"color: #0087ff; text-decoration-color: #0087ff\">Dense</span>)                │ (<span style=\"color: #00d7ff; text-decoration-color: #00d7ff\">None</span>, <span style=\"color: #00af00; text-decoration-color: #00af00\">256</span>)            │       <span style=\"color: #00af00; text-decoration-color: #00af00\">196,864</span> │\n",
       "├─────────────────────────────────┼────────────────────────┼───────────────┤\n",
       "│ dropout_13 (<span style=\"color: #0087ff; text-decoration-color: #0087ff\">Dropout</span>)            │ (<span style=\"color: #00d7ff; text-decoration-color: #00d7ff\">None</span>, <span style=\"color: #00af00; text-decoration-color: #00af00\">256</span>)            │             <span style=\"color: #00af00; text-decoration-color: #00af00\">0</span> │\n",
       "├─────────────────────────────────┼────────────────────────┼───────────────┤\n",
       "│ dense_13 (<span style=\"color: #0087ff; text-decoration-color: #0087ff\">Dense</span>)                │ (<span style=\"color: #00d7ff; text-decoration-color: #00d7ff\">None</span>, <span style=\"color: #00af00; text-decoration-color: #00af00\">128</span>)            │        <span style=\"color: #00af00; text-decoration-color: #00af00\">32,896</span> │\n",
       "├─────────────────────────────────┼────────────────────────┼───────────────┤\n",
       "│ dropout_14 (<span style=\"color: #0087ff; text-decoration-color: #0087ff\">Dropout</span>)            │ (<span style=\"color: #00d7ff; text-decoration-color: #00d7ff\">None</span>, <span style=\"color: #00af00; text-decoration-color: #00af00\">128</span>)            │             <span style=\"color: #00af00; text-decoration-color: #00af00\">0</span> │\n",
       "├─────────────────────────────────┼────────────────────────┼───────────────┤\n",
       "│ dense_14 (<span style=\"color: #0087ff; text-decoration-color: #0087ff\">Dense</span>)                │ (<span style=\"color: #00d7ff; text-decoration-color: #00d7ff\">None</span>, <span style=\"color: #00af00; text-decoration-color: #00af00\">6</span>)              │           <span style=\"color: #00af00; text-decoration-color: #00af00\">774</span> │\n",
       "└─────────────────────────────────┴────────────────────────┴───────────────┘\n",
       "</pre>\n"
      ],
      "text/plain": [
       "┏━━━━━━━━━━━━━━━━━━━━━━━━━━━━━━━━━┳━━━━━━━━━━━━━━━━━━━━━━━━┳━━━━━━━━━━━━━━━┓\n",
       "┃\u001b[1m \u001b[0m\u001b[1mLayer (type)                   \u001b[0m\u001b[1m \u001b[0m┃\u001b[1m \u001b[0m\u001b[1mOutput Shape          \u001b[0m\u001b[1m \u001b[0m┃\u001b[1m \u001b[0m\u001b[1m      Param #\u001b[0m\u001b[1m \u001b[0m┃\n",
       "┡━━━━━━━━━━━━━━━━━━━━━━━━━━━━━━━━━╇━━━━━━━━━━━━━━━━━━━━━━━━╇━━━━━━━━━━━━━━━┩\n",
       "│ input_layer_3 (\u001b[38;5;33mInputLayer\u001b[0m)      │ (\u001b[38;5;45mNone\u001b[0m, \u001b[38;5;34m150\u001b[0m, \u001b[38;5;34m768\u001b[0m)       │             \u001b[38;5;34m0\u001b[0m │\n",
       "├─────────────────────────────────┼────────────────────────┼───────────────┤\n",
       "│ global_average_pooling1d_3      │ (\u001b[38;5;45mNone\u001b[0m, \u001b[38;5;34m768\u001b[0m)            │             \u001b[38;5;34m0\u001b[0m │\n",
       "│ (\u001b[38;5;33mGlobalAveragePooling1D\u001b[0m)        │                        │               │\n",
       "├─────────────────────────────────┼────────────────────────┼───────────────┤\n",
       "│ dense_12 (\u001b[38;5;33mDense\u001b[0m)                │ (\u001b[38;5;45mNone\u001b[0m, \u001b[38;5;34m256\u001b[0m)            │       \u001b[38;5;34m196,864\u001b[0m │\n",
       "├─────────────────────────────────┼────────────────────────┼───────────────┤\n",
       "│ dropout_13 (\u001b[38;5;33mDropout\u001b[0m)            │ (\u001b[38;5;45mNone\u001b[0m, \u001b[38;5;34m256\u001b[0m)            │             \u001b[38;5;34m0\u001b[0m │\n",
       "├─────────────────────────────────┼────────────────────────┼───────────────┤\n",
       "│ dense_13 (\u001b[38;5;33mDense\u001b[0m)                │ (\u001b[38;5;45mNone\u001b[0m, \u001b[38;5;34m128\u001b[0m)            │        \u001b[38;5;34m32,896\u001b[0m │\n",
       "├─────────────────────────────────┼────────────────────────┼───────────────┤\n",
       "│ dropout_14 (\u001b[38;5;33mDropout\u001b[0m)            │ (\u001b[38;5;45mNone\u001b[0m, \u001b[38;5;34m128\u001b[0m)            │             \u001b[38;5;34m0\u001b[0m │\n",
       "├─────────────────────────────────┼────────────────────────┼───────────────┤\n",
       "│ dense_14 (\u001b[38;5;33mDense\u001b[0m)                │ (\u001b[38;5;45mNone\u001b[0m, \u001b[38;5;34m6\u001b[0m)              │           \u001b[38;5;34m774\u001b[0m │\n",
       "└─────────────────────────────────┴────────────────────────┴───────────────┘\n"
      ]
     },
     "metadata": {},
     "output_type": "display_data"
    },
    {
     "data": {
      "text/html": [
       "<pre style=\"white-space:pre;overflow-x:auto;line-height:normal;font-family:Menlo,'DejaVu Sans Mono',consolas,'Courier New',monospace\"><span style=\"font-weight: bold\"> Total params: </span><span style=\"color: #00af00; text-decoration-color: #00af00\">230,534</span> (900.52 KB)\n",
       "</pre>\n"
      ],
      "text/plain": [
       "\u001b[1m Total params: \u001b[0m\u001b[38;5;34m230,534\u001b[0m (900.52 KB)\n"
      ]
     },
     "metadata": {},
     "output_type": "display_data"
    },
    {
     "data": {
      "text/html": [
       "<pre style=\"white-space:pre;overflow-x:auto;line-height:normal;font-family:Menlo,'DejaVu Sans Mono',consolas,'Courier New',monospace\"><span style=\"font-weight: bold\"> Trainable params: </span><span style=\"color: #00af00; text-decoration-color: #00af00\">230,534</span> (900.52 KB)\n",
       "</pre>\n"
      ],
      "text/plain": [
       "\u001b[1m Trainable params: \u001b[0m\u001b[38;5;34m230,534\u001b[0m (900.52 KB)\n"
      ]
     },
     "metadata": {},
     "output_type": "display_data"
    },
    {
     "data": {
      "text/html": [
       "<pre style=\"white-space:pre;overflow-x:auto;line-height:normal;font-family:Menlo,'DejaVu Sans Mono',consolas,'Courier New',monospace\"><span style=\"font-weight: bold\"> Non-trainable params: </span><span style=\"color: #00af00; text-decoration-color: #00af00\">0</span> (0.00 B)\n",
       "</pre>\n"
      ],
      "text/plain": [
       "\u001b[1m Non-trainable params: \u001b[0m\u001b[38;5;34m0\u001b[0m (0.00 B)\n"
      ]
     },
     "metadata": {},
     "output_type": "display_data"
    }
   ],
   "source": [
    "\n",
    "with strategy.scope():\n",
    "    print(\"\\n--- Building DNN Model inside TPU Strategy Scope... ---\")\n",
    "    \n",
    "    # --- Simple DNN Classifier ---\n",
    "    def build_dnn_classifier(input_shape, num_classes):\n",
    "        inputs = tf.keras.layers.Input(shape=input_shape)\n",
    "\n",
    "        # Pooling Layer\n",
    "        # Collapses the time dimension (150) to create a single feature vector.\n",
    "        x = tf.keras.layers.GlobalAveragePooling1D()(inputs)\n",
    "\n",
    "        # a simple DNN Classifier Head a simple DNN\n",
    "        x = tf.keras.layers.Dense(256, activation='relu')(x)\n",
    "        x = tf.keras.layers.Dropout(0.5)(x)\n",
    "        x = tf.keras.layers.Dense(128, activation='relu')(x)\n",
    "        x = tf.keras.layers.Dropout(0.5)(x)\n",
    "        outputs = tf.keras.layers.Dense(num_classes, activation='sigmoid')(x)\n",
    "        \n",
    "        model = tf.keras.Model(inputs=inputs, outputs=outputs)\n",
    "        \n",
    "        optimizer = tf.keras.optimizers.Adam(learning_rate=LEARNING_RATE, clipnorm=1.0)\n",
    "        \n",
    "        model.compile(\n",
    "            optimizer=optimizer,\n",
    "            loss='binary_crossentropy',\n",
    "            metrics=[\n",
    "                'accuracy',\n",
    "                tf.keras.metrics.Precision(name='precision'),\n",
    "                tf.keras.metrics.Recall(name='recall'),\n",
    "                tf.keras.metrics.AUC(name='auc', multi_label=True)\n",
    "            ]\n",
    "        )\n",
    "        return model\n",
    "\n",
    "    model = build_dnn_classifier(input_shape=(MAX_SEQ_LEN, EMBEDDING_DIM), num_classes=NUM_CLASSES)\n",
    "\n",
    "model.summary()\n",
    "\n",
    "checkpoint = tf.keras.callbacks.ModelCheckpoint(BEST_MODEL_PATH, monitor='val_auc', mode='max', save_best_only=True, verbose=1)\n",
    "early_stopping = tf.keras.callbacks.EarlyStopping(monitor='val_auc', mode='max', patience=10, restore_best_weights=True)\n"
   ]
  },
  {
   "cell_type": "code",
   "execution_count": 21,
   "metadata": {
    "execution": {
     "iopub.execute_input": "2025-07-21T06:08:11.413873Z",
     "iopub.status.busy": "2025-07-21T06:08:11.413545Z",
     "iopub.status.idle": "2025-07-21T06:40:32.079623Z",
     "shell.execute_reply": "2025-07-21T06:40:32.074269Z",
     "shell.execute_reply.started": "2025-07-21T06:08:11.413848Z"
    },
    "trusted": true
   },
   "outputs": [
    {
     "name": "stdout",
     "output_type": "stream",
     "text": [
      "\n",
      "--- Starting Training on TPU... ---\n",
      "Epoch 1/50\n"
     ]
    },
    {
     "name": "stderr",
     "output_type": "stream",
     "text": [
      "I0000 00:00:1753078133.379642      10 encapsulate_tpu_computations_pass.cc:266] Subgraph fingerprint:16448548073978146903\n",
      "I0000 00:00:1753078133.843110     919 tpu_compilation_cache_interface.cc:442] TPU host compilation cache miss: cache_key(1612448149005037348), session_name()\n",
      "I0000 00:00:1753078136.582809     919 tpu_compile_op_common.cc:245] Compilation of 1612448149005037348 with session name  took 2.739638267s and succeeded\n",
      "I0000 00:00:1753078136.599440     919 tpu_compilation_cache_interface.cc:476] TPU host compilation cache: compilation complete for cache_key(1612448149005037348), session_name(), subgraph_key(std::string(property.function_name) = \"cluster_one_step_on_data_16448548073978146903\", property.function_library_fingerprint = 11454845086052198960, property.mlir_module_fingerprint = 0, property.num_replicas = 8, topology.chip_bounds().x = 2, topology.chip_bounds().y = 2, topology.chip_bounds().z = 1, topology.wrap().x = false, topology.wrap().y = false, topology.wrap().z = false, std::string(property.shapes_prefix) = \"16,150,768,;16,6,;\", property.guaranteed_constants_size = 0, embedding_partitions_fingerprint = \"1688352644216761960\")\n",
      "I0000 00:00:1753078136.599475     919 tpu_compilation_cache_interface.cc:542] After adding entry for key 1612448149005037348 with session_name  cache is 5 entries (209626001 bytes),  marked for eviction 0 entries (0 bytes).\n"
     ]
    },
    {
     "name": "stdout",
     "output_type": "stream",
     "text": [
      "\u001b[1m239/241\u001b[0m \u001b[32m━━━━━━━━━━━━━━━━━━━\u001b[0m\u001b[37m━\u001b[0m \u001b[1m0s\u001b[0m 32ms/step - accuracy: 0.2165 - auc: 0.5250 - loss: 0.6234 - precision: 0.3505 - recall: 0.1794"
     ]
    },
    {
     "name": "stderr",
     "output_type": "stream",
     "text": [
      "I0000 00:00:1753078144.158466     943 tpu_compilation_cache_interface.cc:442] TPU host compilation cache miss: cache_key(17688446374238493314), session_name()\n",
      "I0000 00:00:1753078146.914616     943 tpu_compile_op_common.cc:245] Compilation of 17688446374238493314 with session name  took 2.756113284s and succeeded\n",
      "I0000 00:00:1753078146.931524     943 tpu_compilation_cache_interface.cc:476] TPU host compilation cache: compilation complete for cache_key(17688446374238493314), session_name(), subgraph_key(std::string(property.function_name) = \"cluster_one_step_on_data_16448548073978146903\", property.function_library_fingerprint = 11454845086052198960, property.mlir_module_fingerprint = 0, property.num_replicas = 8, topology.chip_bounds().x = 2, topology.chip_bounds().y = 2, topology.chip_bounds().z = 1, topology.wrap().x = false, topology.wrap().y = false, topology.wrap().z = false, std::string(property.shapes_prefix) = \"8,150,768,;8,6,;\", property.guaranteed_constants_size = 0, embedding_partitions_fingerprint = \"1688352644216761960\")\n",
      "I0000 00:00:1753078146.931554     943 tpu_compilation_cache_interface.cc:542] After adding entry for key 17688446374238493314 with session_name  cache is 6 entries (225011906 bytes),  marked for eviction 0 entries (0 bytes).\n"
     ]
    },
    {
     "name": "stdout",
     "output_type": "stream",
     "text": [
      "\u001b[1m241/241\u001b[0m \u001b[32m━━━━━━━━━━━━━━━━━━━━\u001b[0m\u001b[37m\u001b[0m \u001b[1m0s\u001b[0m 43ms/step - accuracy: 0.2166 - auc: 0.5251 - loss: 0.6232 - precision: 0.3506 - recall: 0.1787"
     ]
    },
    {
     "name": "stderr",
     "output_type": "stream",
     "text": [
      "I0000 00:00:1753078163.536841      10 encapsulate_tpu_computations_pass.cc:266] Subgraph fingerprint:16179538635803368761\n",
      "I0000 00:00:1753078163.884308     959 tpu_compilation_cache_interface.cc:442] TPU host compilation cache miss: cache_key(10810554079476528199), session_name()\n",
      "I0000 00:00:1753078164.649702     959 tpu_compile_op_common.cc:245] Compilation of 10810554079476528199 with session name  took 765.311127ms and succeeded\n",
      "I0000 00:00:1753078164.652571     959 tpu_compilation_cache_interface.cc:476] TPU host compilation cache: compilation complete for cache_key(10810554079476528199), session_name(), subgraph_key(std::string(property.function_name) = \"cluster_one_step_on_data_16179538635803368761\", property.function_library_fingerprint = 6608404248933159840, property.mlir_module_fingerprint = 0, property.num_replicas = 8, topology.chip_bounds().x = 2, topology.chip_bounds().y = 2, topology.chip_bounds().z = 1, topology.wrap().x = false, topology.wrap().y = false, topology.wrap().z = false, std::string(property.shapes_prefix) = \"16,150,768,;16,6,;\", property.guaranteed_constants_size = 0, embedding_partitions_fingerprint = \"1688352644216761960\")\n",
      "I0000 00:00:1753078164.652601     959 tpu_compilation_cache_interface.cc:542] After adding entry for key 10810554079476528199 with session_name  cache is 7 entries (228596147 bytes),  marked for eviction 0 entries (0 bytes).\n",
      "I0000 00:00:1753078164.781553     940 tpu_compilation_cache_interface.cc:442] TPU host compilation cache miss: cache_key(2697203313356644749), session_name()\n",
      "I0000 00:00:1753078165.570078     940 tpu_compile_op_common.cc:245] Compilation of 2697203313356644749 with session name  took 788.462591ms and succeeded\n",
      "I0000 00:00:1753078165.573681     940 tpu_compilation_cache_interface.cc:476] TPU host compilation cache: compilation complete for cache_key(2697203313356644749), session_name(), subgraph_key(std::string(property.function_name) = \"cluster_one_step_on_data_16179538635803368761\", property.function_library_fingerprint = 6608404248933159840, property.mlir_module_fingerprint = 0, property.num_replicas = 8, topology.chip_bounds().x = 2, topology.chip_bounds().y = 2, topology.chip_bounds().z = 1, topology.wrap().x = false, topology.wrap().y = false, topology.wrap().z = false, std::string(property.shapes_prefix) = \"12,150,768,;12,6,;\", property.guaranteed_constants_size = 0, embedding_partitions_fingerprint = \"1688352644216761960\")\n",
      "I0000 00:00:1753078165.573721     940 tpu_compilation_cache_interface.cc:542] After adding entry for key 2697203313356644749 with session_name  cache is 8 entries (232135260 bytes),  marked for eviction 0 entries (0 bytes).\n"
     ]
    },
    {
     "name": "stdout",
     "output_type": "stream",
     "text": [
      "\n",
      "Epoch 1: val_auc improved from -inf to 0.59949, saving model to output_dnn_training_tpu/best_dnn_model_tpu.keras\n",
      "\u001b[1m241/241\u001b[0m \u001b[32m━━━━━━━━━━━━━━━━━━━━\u001b[0m\u001b[37m\u001b[0m \u001b[1m48s\u001b[0m 125ms/step - accuracy: 0.2166 - auc: 0.5252 - loss: 0.6232 - precision: 0.3506 - recall: 0.1783 - val_accuracy: 0.2902 - val_auc: 0.5995 - val_loss: 0.5981 - val_precision: 1.0000 - val_recall: 0.0037\n",
      "Epoch 2/50\n",
      "\u001b[1m241/241\u001b[0m \u001b[32m━━━━━━━━━━━━━━━━━━━━\u001b[0m\u001b[37m\u001b[0m \u001b[1m0s\u001b[0m 32ms/step - accuracy: 0.2456 - auc: 0.5762 - loss: 0.5887 - precision: 0.3959 - recall: 0.0488\n",
      "Epoch 2: val_auc improved from 0.59949 to 0.63920, saving model to output_dnn_training_tpu/best_dnn_model_tpu.keras\n",
      "\u001b[1m241/241\u001b[0m \u001b[32m━━━━━━━━━━━━━━━━━━━━\u001b[0m\u001b[37m\u001b[0m \u001b[1m38s\u001b[0m 101ms/step - accuracy: 0.2457 - auc: 0.5763 - loss: 0.5887 - precision: 0.3962 - recall: 0.0489 - val_accuracy: 0.2875 - val_auc: 0.6392 - val_loss: 0.5902 - val_precision: 0.5781 - val_recall: 0.0551\n",
      "Epoch 3/50\n",
      "\u001b[1m241/241\u001b[0m \u001b[32m━━━━━━━━━━━━━━━━━━━━\u001b[0m\u001b[37m\u001b[0m \u001b[1m0s\u001b[0m 32ms/step - accuracy: 0.2730 - auc: 0.6211 - loss: 0.5701 - precision: 0.4784 - recall: 0.0986\n",
      "Epoch 3: val_auc improved from 0.63920 to 0.65409, saving model to output_dnn_training_tpu/best_dnn_model_tpu.keras\n",
      "\u001b[1m241/241\u001b[0m \u001b[32m━━━━━━━━━━━━━━━━━━━━\u001b[0m\u001b[37m\u001b[0m \u001b[1m38s\u001b[0m 101ms/step - accuracy: 0.2730 - auc: 0.6212 - loss: 0.5701 - precision: 0.4785 - recall: 0.0986 - val_accuracy: 0.2902 - val_auc: 0.6541 - val_loss: 0.5824 - val_precision: 0.6615 - val_recall: 0.1267\n",
      "Epoch 4/50\n",
      "\u001b[1m239/241\u001b[0m \u001b[32m━━━━━━━━━━━━━━━━━━━\u001b[0m\u001b[37m━\u001b[0m \u001b[1m0s\u001b[0m 32ms/step - accuracy: 0.2782 - auc: 0.6311 - loss: 0.5719 - precision: 0.5066 - recall: 0.1171\n",
      "Epoch 4: val_auc improved from 0.65409 to 0.66286, saving model to output_dnn_training_tpu/best_dnn_model_tpu.keras\n",
      "\u001b[1m241/241\u001b[0m \u001b[32m━━━━━━━━━━━━━━━━━━━━\u001b[0m\u001b[37m\u001b[0m \u001b[1m38s\u001b[0m 102ms/step - accuracy: 0.2782 - auc: 0.6313 - loss: 0.5718 - precision: 0.5068 - recall: 0.1172 - val_accuracy: 0.2752 - val_auc: 0.6629 - val_loss: 0.5769 - val_precision: 0.6449 - val_recall: 0.1841\n",
      "Epoch 5/50\n",
      "\u001b[1m241/241\u001b[0m \u001b[32m━━━━━━━━━━━━━━━━━━━━\u001b[0m\u001b[37m\u001b[0m \u001b[1m0s\u001b[0m 32ms/step - accuracy: 0.2837 - auc: 0.6494 - loss: 0.5590 - precision: 0.5054 - recall: 0.1391\n",
      "Epoch 5: val_auc improved from 0.66286 to 0.66864, saving model to output_dnn_training_tpu/best_dnn_model_tpu.keras\n",
      "\u001b[1m241/241\u001b[0m \u001b[32m━━━━━━━━━━━━━━━━━━━━\u001b[0m\u001b[37m\u001b[0m \u001b[1m38s\u001b[0m 100ms/step - accuracy: 0.2837 - auc: 0.6494 - loss: 0.5590 - precision: 0.5055 - recall: 0.1391 - val_accuracy: 0.2507 - val_auc: 0.6686 - val_loss: 0.5756 - val_precision: 0.5969 - val_recall: 0.2295\n",
      "Epoch 6/50\n",
      "\u001b[1m239/241\u001b[0m \u001b[32m━━━━━━━━━━━━━━━━━━━\u001b[0m\u001b[37m━\u001b[0m \u001b[1m0s\u001b[0m 32ms/step - accuracy: 0.2940 - auc: 0.6631 - loss: 0.5554 - precision: 0.5250 - recall: 0.1470\n",
      "Epoch 6: val_auc improved from 0.66864 to 0.67351, saving model to output_dnn_training_tpu/best_dnn_model_tpu.keras\n",
      "\u001b[1m241/241\u001b[0m \u001b[32m━━━━━━━━━━━━━━━━━━━━\u001b[0m\u001b[37m\u001b[0m \u001b[1m38s\u001b[0m 100ms/step - accuracy: 0.2939 - auc: 0.6632 - loss: 0.5555 - precision: 0.5253 - recall: 0.1470 - val_accuracy: 0.2507 - val_auc: 0.6735 - val_loss: 0.5744 - val_precision: 0.5981 - val_recall: 0.2362\n",
      "Epoch 7/50\n",
      "\u001b[1m241/241\u001b[0m \u001b[32m━━━━━━━━━━━━━━━━━━━━\u001b[0m\u001b[37m\u001b[0m \u001b[1m0s\u001b[0m 32ms/step - accuracy: 0.2756 - auc: 0.6645 - loss: 0.5514 - precision: 0.5359 - recall: 0.1621\n",
      "Epoch 7: val_auc improved from 0.67351 to 0.67809, saving model to output_dnn_training_tpu/best_dnn_model_tpu.keras\n",
      "\u001b[1m241/241\u001b[0m \u001b[32m━━━━━━━━━━━━━━━━━━━━\u001b[0m\u001b[37m\u001b[0m \u001b[1m38s\u001b[0m 101ms/step - accuracy: 0.2756 - auc: 0.6645 - loss: 0.5514 - precision: 0.5360 - recall: 0.1621 - val_accuracy: 0.2507 - val_auc: 0.6781 - val_loss: 0.5691 - val_precision: 0.6105 - val_recall: 0.2429\n",
      "Epoch 8/50\n",
      "\u001b[1m239/241\u001b[0m \u001b[32m━━━━━━━━━━━━━━━━━━━\u001b[0m\u001b[37m━\u001b[0m \u001b[1m0s\u001b[0m 32ms/step - accuracy: 0.3026 - auc: 0.6717 - loss: 0.5426 - precision: 0.5514 - recall: 0.1596\n",
      "Epoch 8: val_auc improved from 0.67809 to 0.68227, saving model to output_dnn_training_tpu/best_dnn_model_tpu.keras\n",
      "\u001b[1m241/241\u001b[0m \u001b[32m━━━━━━━━━━━━━━━━━━━━\u001b[0m\u001b[37m\u001b[0m \u001b[1m38s\u001b[0m 101ms/step - accuracy: 0.3025 - auc: 0.6718 - loss: 0.5427 - precision: 0.5516 - recall: 0.1597 - val_accuracy: 0.2548 - val_auc: 0.6823 - val_loss: 0.5696 - val_precision: 0.6066 - val_recall: 0.2586\n",
      "Epoch 9/50\n",
      "\u001b[1m240/241\u001b[0m \u001b[32m━━━━━━━━━━━━━━━━━━━\u001b[0m\u001b[37m━\u001b[0m \u001b[1m0s\u001b[0m 32ms/step - accuracy: 0.3005 - auc: 0.6771 - loss: 0.5481 - precision: 0.5468 - recall: 0.1717\n",
      "Epoch 9: val_auc improved from 0.68227 to 0.68417, saving model to output_dnn_training_tpu/best_dnn_model_tpu.keras\n",
      "\u001b[1m241/241\u001b[0m \u001b[32m━━━━━━━━━━━━━━━━━━━━\u001b[0m\u001b[37m\u001b[0m \u001b[1m38s\u001b[0m 101ms/step - accuracy: 0.3004 - auc: 0.6771 - loss: 0.5481 - precision: 0.5470 - recall: 0.1718 - val_accuracy: 0.2439 - val_auc: 0.6842 - val_loss: 0.5678 - val_precision: 0.5968 - val_recall: 0.2481\n",
      "Epoch 10/50\n",
      "\u001b[1m241/241\u001b[0m \u001b[32m━━━━━━━━━━━━━━━━━━━━\u001b[0m\u001b[37m\u001b[0m \u001b[1m0s\u001b[0m 32ms/step - accuracy: 0.2775 - auc: 0.6772 - loss: 0.5485 - precision: 0.5484 - recall: 0.1655\n",
      "Epoch 10: val_auc improved from 0.68417 to 0.68650, saving model to output_dnn_training_tpu/best_dnn_model_tpu.keras\n",
      "\u001b[1m241/241\u001b[0m \u001b[32m━━━━━━━━━━━━━━━━━━━━\u001b[0m\u001b[37m\u001b[0m \u001b[1m39s\u001b[0m 104ms/step - accuracy: 0.2775 - auc: 0.6773 - loss: 0.5484 - precision: 0.5485 - recall: 0.1656 - val_accuracy: 0.2452 - val_auc: 0.6865 - val_loss: 0.5662 - val_precision: 0.5880 - val_recall: 0.2712\n",
      "Epoch 11/50\n",
      "\u001b[1m239/241\u001b[0m \u001b[32m━━━━━━━━━━━━━━━━━━━\u001b[0m\u001b[37m━\u001b[0m \u001b[1m0s\u001b[0m 33ms/step - accuracy: 0.3260 - auc: 0.6933 - loss: 0.5401 - precision: 0.5606 - recall: 0.1830\n",
      "Epoch 11: val_auc improved from 0.68650 to 0.69044, saving model to output_dnn_training_tpu/best_dnn_model_tpu.keras\n",
      "\u001b[1m241/241\u001b[0m \u001b[32m━━━━━━━━━━━━━━━━━━━━\u001b[0m\u001b[37m\u001b[0m \u001b[1m38s\u001b[0m 102ms/step - accuracy: 0.3256 - auc: 0.6933 - loss: 0.5401 - precision: 0.5608 - recall: 0.1832 - val_accuracy: 0.2602 - val_auc: 0.6904 - val_loss: 0.5611 - val_precision: 0.6064 - val_recall: 0.2675\n",
      "Epoch 12/50\n",
      "\u001b[1m241/241\u001b[0m \u001b[32m━━━━━━━━━━━━━━━━━━━━\u001b[0m\u001b[37m\u001b[0m \u001b[1m0s\u001b[0m 32ms/step - accuracy: 0.3223 - auc: 0.7005 - loss: 0.5367 - precision: 0.5714 - recall: 0.1849\n",
      "Epoch 12: val_auc improved from 0.69044 to 0.69233, saving model to output_dnn_training_tpu/best_dnn_model_tpu.keras\n",
      "\u001b[1m241/241\u001b[0m \u001b[32m━━━━━━━━━━━━━━━━━━━━\u001b[0m\u001b[37m\u001b[0m \u001b[1m38s\u001b[0m 102ms/step - accuracy: 0.3222 - auc: 0.7005 - loss: 0.5367 - precision: 0.5715 - recall: 0.1849 - val_accuracy: 0.2411 - val_auc: 0.6923 - val_loss: 0.5597 - val_precision: 0.5969 - val_recall: 0.2615\n",
      "Epoch 13/50\n",
      "\u001b[1m239/241\u001b[0m \u001b[32m━━━━━━━━━━━━━━━━━━━\u001b[0m\u001b[37m━\u001b[0m \u001b[1m0s\u001b[0m 32ms/step - accuracy: 0.2965 - auc: 0.6984 - loss: 0.5402 - precision: 0.5940 - recall: 0.2035\n",
      "Epoch 13: val_auc improved from 0.69233 to 0.69580, saving model to output_dnn_training_tpu/best_dnn_model_tpu.keras\n",
      "\u001b[1m241/241\u001b[0m \u001b[32m━━━━━━━━━━━━━━━━━━━━\u001b[0m\u001b[37m\u001b[0m \u001b[1m38s\u001b[0m 101ms/step - accuracy: 0.2965 - auc: 0.6985 - loss: 0.5402 - precision: 0.5940 - recall: 0.2035 - val_accuracy: 0.2561 - val_auc: 0.6958 - val_loss: 0.5576 - val_precision: 0.5857 - val_recall: 0.3234\n",
      "Epoch 14/50\n",
      "\u001b[1m239/241\u001b[0m \u001b[32m━━━━━━━━━━━━━━━━━━━\u001b[0m\u001b[37m━\u001b[0m \u001b[1m0s\u001b[0m 32ms/step - accuracy: 0.3112 - auc: 0.7054 - loss: 0.5329 - precision: 0.5948 - recall: 0.2247\n",
      "Epoch 14: val_auc improved from 0.69580 to 0.69663, saving model to output_dnn_training_tpu/best_dnn_model_tpu.keras\n",
      "\u001b[1m241/241\u001b[0m \u001b[32m━━━━━━━━━━━━━━━━━━━━\u001b[0m\u001b[37m\u001b[0m \u001b[1m38s\u001b[0m 101ms/step - accuracy: 0.3112 - auc: 0.7054 - loss: 0.5330 - precision: 0.5949 - recall: 0.2246 - val_accuracy: 0.2643 - val_auc: 0.6966 - val_loss: 0.5554 - val_precision: 0.5865 - val_recall: 0.3234\n",
      "Epoch 15/50\n",
      "\u001b[1m241/241\u001b[0m \u001b[32m━━━━━━━━━━━━━━━━━━━━\u001b[0m\u001b[37m\u001b[0m \u001b[1m0s\u001b[0m 32ms/step - accuracy: 0.3205 - auc: 0.7090 - loss: 0.5306 - precision: 0.5739 - recall: 0.2303\n",
      "Epoch 15: val_auc improved from 0.69663 to 0.69849, saving model to output_dnn_training_tpu/best_dnn_model_tpu.keras\n",
      "\u001b[1m241/241\u001b[0m \u001b[32m━━━━━━━━━━━━━━━━━━━━\u001b[0m\u001b[37m\u001b[0m \u001b[1m38s\u001b[0m 101ms/step - accuracy: 0.3205 - auc: 0.7090 - loss: 0.5306 - precision: 0.5740 - recall: 0.2303 - val_accuracy: 0.2466 - val_auc: 0.6985 - val_loss: 0.5601 - val_precision: 0.5795 - val_recall: 0.2824\n",
      "Epoch 16/50\n",
      "\u001b[1m239/241\u001b[0m \u001b[32m━━━━━━━━━━━━━━━━━━━\u001b[0m\u001b[37m━\u001b[0m \u001b[1m0s\u001b[0m 32ms/step - accuracy: 0.3147 - auc: 0.7058 - loss: 0.5340 - precision: 0.5955 - recall: 0.2127\n",
      "Epoch 16: val_auc improved from 0.69849 to 0.69989, saving model to output_dnn_training_tpu/best_dnn_model_tpu.keras\n",
      "\u001b[1m241/241\u001b[0m \u001b[32m━━━━━━━━━━━━━━━━━━━━\u001b[0m\u001b[37m\u001b[0m \u001b[1m38s\u001b[0m 104ms/step - accuracy: 0.3147 - auc: 0.7059 - loss: 0.5340 - precision: 0.5955 - recall: 0.2128 - val_accuracy: 0.2534 - val_auc: 0.6999 - val_loss: 0.5536 - val_precision: 0.5787 - val_recall: 0.3286\n",
      "Epoch 17/50\n",
      "\u001b[1m239/241\u001b[0m \u001b[32m━━━━━━━━━━━━━━━━━━━\u001b[0m\u001b[37m━\u001b[0m \u001b[1m0s\u001b[0m 33ms/step - accuracy: 0.3228 - auc: 0.6988 - loss: 0.5361 - precision: 0.5885 - recall: 0.2231\n",
      "Epoch 17: val_auc improved from 0.69989 to 0.70111, saving model to output_dnn_training_tpu/best_dnn_model_tpu.keras\n",
      "\u001b[1m241/241\u001b[0m \u001b[32m━━━━━━━━━━━━━━━━━━━━\u001b[0m\u001b[37m\u001b[0m \u001b[1m38s\u001b[0m 101ms/step - accuracy: 0.3227 - auc: 0.6990 - loss: 0.5360 - precision: 0.5887 - recall: 0.2232 - val_accuracy: 0.2480 - val_auc: 0.7011 - val_loss: 0.5550 - val_precision: 0.5657 - val_recall: 0.3495\n",
      "Epoch 18/50\n",
      "\u001b[1m239/241\u001b[0m \u001b[32m━━━━━━━━━━━━━━━━━━━\u001b[0m\u001b[37m━\u001b[0m \u001b[1m0s\u001b[0m 32ms/step - accuracy: 0.3199 - auc: 0.7033 - loss: 0.5319 - precision: 0.5655 - recall: 0.2068\n",
      "Epoch 18: val_auc improved from 0.70111 to 0.70190, saving model to output_dnn_training_tpu/best_dnn_model_tpu.keras\n",
      "\u001b[1m241/241\u001b[0m \u001b[32m━━━━━━━━━━━━━━━━━━━━\u001b[0m\u001b[37m\u001b[0m \u001b[1m38s\u001b[0m 101ms/step - accuracy: 0.3198 - auc: 0.7035 - loss: 0.5318 - precision: 0.5659 - recall: 0.2071 - val_accuracy: 0.2602 - val_auc: 0.7019 - val_loss: 0.5522 - val_precision: 0.5908 - val_recall: 0.2884\n",
      "Epoch 19/50\n",
      "\u001b[1m239/241\u001b[0m \u001b[32m━━━━━━━━━━━━━━━━━━━\u001b[0m\u001b[37m━\u001b[0m \u001b[1m0s\u001b[0m 32ms/step - accuracy: 0.3516 - auc: 0.7163 - loss: 0.5290 - precision: 0.6026 - recall: 0.2356\n",
      "Epoch 19: val_auc improved from 0.70190 to 0.70526, saving model to output_dnn_training_tpu/best_dnn_model_tpu.keras\n",
      "\u001b[1m241/241\u001b[0m \u001b[32m━━━━━━━━━━━━━━━━━━━━\u001b[0m\u001b[37m\u001b[0m \u001b[1m38s\u001b[0m 100ms/step - accuracy: 0.3512 - auc: 0.7163 - loss: 0.5290 - precision: 0.6026 - recall: 0.2357 - val_accuracy: 0.2589 - val_auc: 0.7053 - val_loss: 0.5478 - val_precision: 0.5884 - val_recall: 0.3472\n",
      "Epoch 20/50\n",
      "\u001b[1m241/241\u001b[0m \u001b[32m━━━━━━━━━━━━━━━━━━━━\u001b[0m\u001b[37m\u001b[0m \u001b[1m0s\u001b[0m 32ms/step - accuracy: 0.3318 - auc: 0.7041 - loss: 0.5316 - precision: 0.5939 - recall: 0.2219\n",
      "Epoch 20: val_auc did not improve from 0.70526\n",
      "\u001b[1m241/241\u001b[0m \u001b[32m━━━━━━━━━━━━━━━━━━━━\u001b[0m\u001b[37m\u001b[0m \u001b[1m38s\u001b[0m 100ms/step - accuracy: 0.3317 - auc: 0.7041 - loss: 0.5316 - precision: 0.5939 - recall: 0.2219 - val_accuracy: 0.2548 - val_auc: 0.7035 - val_loss: 0.5492 - val_precision: 0.5986 - val_recall: 0.3077\n",
      "Epoch 21/50\n",
      "\u001b[1m239/241\u001b[0m \u001b[32m━━━━━━━━━━━━━━━━━━━\u001b[0m\u001b[37m━\u001b[0m \u001b[1m0s\u001b[0m 32ms/step - accuracy: 0.3261 - auc: 0.7128 - loss: 0.5274 - precision: 0.5913 - recall: 0.2464\n",
      "Epoch 21: val_auc improved from 0.70526 to 0.70604, saving model to output_dnn_training_tpu/best_dnn_model_tpu.keras\n",
      "\u001b[1m241/241\u001b[0m \u001b[32m━━━━━━━━━━━━━━━━━━━━\u001b[0m\u001b[37m\u001b[0m \u001b[1m38s\u001b[0m 102ms/step - accuracy: 0.3260 - auc: 0.7129 - loss: 0.5274 - precision: 0.5914 - recall: 0.2463 - val_accuracy: 0.2589 - val_auc: 0.7060 - val_loss: 0.5470 - val_precision: 0.5859 - val_recall: 0.3532\n",
      "Epoch 22/50\n",
      "\u001b[1m241/241\u001b[0m \u001b[32m━━━━━━━━━━━━━━━━━━━━\u001b[0m\u001b[37m\u001b[0m \u001b[1m0s\u001b[0m 32ms/step - accuracy: 0.3370 - auc: 0.7162 - loss: 0.5285 - precision: 0.6329 - recall: 0.2662\n",
      "Epoch 22: val_auc improved from 0.70604 to 0.70804, saving model to output_dnn_training_tpu/best_dnn_model_tpu.keras\n",
      "\u001b[1m241/241\u001b[0m \u001b[32m━━━━━━━━━━━━━━━━━━━━\u001b[0m\u001b[37m\u001b[0m \u001b[1m39s\u001b[0m 105ms/step - accuracy: 0.3369 - auc: 0.7162 - loss: 0.5285 - precision: 0.6328 - recall: 0.2661 - val_accuracy: 0.2575 - val_auc: 0.7080 - val_loss: 0.5470 - val_precision: 0.5992 - val_recall: 0.3331\n",
      "Epoch 23/50\n",
      "\u001b[1m241/241\u001b[0m \u001b[32m━━━━━━━━━━━━━━━━━━━━\u001b[0m\u001b[37m\u001b[0m \u001b[1m0s\u001b[0m 32ms/step - accuracy: 0.3505 - auc: 0.7163 - loss: 0.5233 - precision: 0.5967 - recall: 0.2442\n",
      "Epoch 23: val_auc did not improve from 0.70804\n",
      "\u001b[1m241/241\u001b[0m \u001b[32m━━━━━━━━━━━━━━━━━━━━\u001b[0m\u001b[37m\u001b[0m \u001b[1m38s\u001b[0m 101ms/step - accuracy: 0.3503 - auc: 0.7163 - loss: 0.5233 - precision: 0.5967 - recall: 0.2442 - val_accuracy: 0.2480 - val_auc: 0.7042 - val_loss: 0.5567 - val_precision: 0.5588 - val_recall: 0.2586\n",
      "Epoch 24/50\n",
      "\u001b[1m239/241\u001b[0m \u001b[32m━━━━━━━━━━━━━━━━━━━\u001b[0m\u001b[37m━\u001b[0m \u001b[1m0s\u001b[0m 32ms/step - accuracy: 0.3524 - auc: 0.7197 - loss: 0.5234 - precision: 0.5988 - recall: 0.2459\n",
      "Epoch 24: val_auc did not improve from 0.70804\n",
      "\u001b[1m241/241\u001b[0m \u001b[32m━━━━━━━━━━━━━━━━━━━━\u001b[0m\u001b[37m\u001b[0m \u001b[1m38s\u001b[0m 100ms/step - accuracy: 0.3521 - auc: 0.7197 - loss: 0.5234 - precision: 0.5989 - recall: 0.2460 - val_accuracy: 0.2589 - val_auc: 0.7068 - val_loss: 0.5492 - val_precision: 0.5889 - val_recall: 0.2839\n",
      "Epoch 25/50\n",
      "\u001b[1m239/241\u001b[0m \u001b[32m━━━━━━━━━━━━━━━━━━━\u001b[0m\u001b[37m━\u001b[0m \u001b[1m0s\u001b[0m 32ms/step - accuracy: 0.3330 - auc: 0.7181 - loss: 0.5265 - precision: 0.5896 - recall: 0.2501\n",
      "Epoch 25: val_auc did not improve from 0.70804\n",
      "\u001b[1m241/241\u001b[0m \u001b[32m━━━━━━━━━━━━━━━━━━━━\u001b[0m\u001b[37m\u001b[0m \u001b[1m38s\u001b[0m 100ms/step - accuracy: 0.3328 - auc: 0.7182 - loss: 0.5265 - precision: 0.5898 - recall: 0.2502 - val_accuracy: 0.2629 - val_auc: 0.7074 - val_loss: 0.5482 - val_precision: 0.5686 - val_recall: 0.3674\n",
      "Epoch 26/50\n",
      "\u001b[1m239/241\u001b[0m \u001b[32m━━━━━━━━━━━━━━━━━━━\u001b[0m\u001b[37m━\u001b[0m \u001b[1m0s\u001b[0m 32ms/step - accuracy: 0.3522 - auc: 0.7333 - loss: 0.5197 - precision: 0.6306 - recall: 0.2620\n",
      "Epoch 26: val_auc did not improve from 0.70804\n",
      "\u001b[1m241/241\u001b[0m \u001b[32m━━━━━━━━━━━━━━━━━━━━\u001b[0m\u001b[37m\u001b[0m \u001b[1m38s\u001b[0m 101ms/step - accuracy: 0.3520 - auc: 0.7333 - loss: 0.5197 - precision: 0.6305 - recall: 0.2620 - val_accuracy: 0.2589 - val_auc: 0.7072 - val_loss: 0.5468 - val_precision: 0.5919 - val_recall: 0.2928\n",
      "Epoch 27/50\n",
      "\u001b[1m239/241\u001b[0m \u001b[32m━━━━━━━━━━━━━━━━━━━\u001b[0m\u001b[37m━\u001b[0m \u001b[1m0s\u001b[0m 33ms/step - accuracy: 0.3389 - auc: 0.7144 - loss: 0.5188 - precision: 0.5756 - recall: 0.2314\n",
      "Epoch 27: val_auc did not improve from 0.70804\n",
      "\u001b[1m241/241\u001b[0m \u001b[32m━━━━━━━━━━━━━━━━━━━━\u001b[0m\u001b[37m\u001b[0m \u001b[1m38s\u001b[0m 102ms/step - accuracy: 0.3388 - auc: 0.7146 - loss: 0.5188 - precision: 0.5759 - recall: 0.2318 - val_accuracy: 0.2493 - val_auc: 0.7080 - val_loss: 0.5452 - val_precision: 0.5893 - val_recall: 0.3122\n",
      "Epoch 28/50\n",
      "\u001b[1m239/241\u001b[0m \u001b[32m━━━━━━━━━━━━━━━━━━━\u001b[0m\u001b[37m━\u001b[0m \u001b[1m0s\u001b[0m 32ms/step - accuracy: 0.3413 - auc: 0.7246 - loss: 0.5272 - precision: 0.5985 - recall: 0.2454\n",
      "Epoch 28: val_auc did not improve from 0.70804\n",
      "\u001b[1m241/241\u001b[0m \u001b[32m━━━━━━━━━━━━━━━━━━━━\u001b[0m\u001b[37m\u001b[0m \u001b[1m38s\u001b[0m 100ms/step - accuracy: 0.3412 - auc: 0.7247 - loss: 0.5272 - precision: 0.5987 - recall: 0.2457 - val_accuracy: 0.2629 - val_auc: 0.7080 - val_loss: 0.5428 - val_precision: 0.6051 - val_recall: 0.3368\n",
      "Epoch 29/50\n",
      "\u001b[1m239/241\u001b[0m \u001b[32m━━━━━━━━━━━━━━━━━━━\u001b[0m\u001b[37m━\u001b[0m \u001b[1m0s\u001b[0m 33ms/step - accuracy: 0.3297 - auc: 0.7098 - loss: 0.5276 - precision: 0.5595 - recall: 0.2415\n",
      "Epoch 29: val_auc improved from 0.70804 to 0.70830, saving model to output_dnn_training_tpu/best_dnn_model_tpu.keras\n",
      "\u001b[1m241/241\u001b[0m \u001b[32m━━━━━━━━━━━━━━━━━━━━\u001b[0m\u001b[37m\u001b[0m \u001b[1m38s\u001b[0m 102ms/step - accuracy: 0.3296 - auc: 0.7100 - loss: 0.5276 - precision: 0.5601 - recall: 0.2419 - val_accuracy: 0.2507 - val_auc: 0.7083 - val_loss: 0.5472 - val_precision: 0.5828 - val_recall: 0.3435\n",
      "Epoch 30/50\n",
      "\u001b[1m239/241\u001b[0m \u001b[32m━━━━━━━━━━━━━━━━━━━\u001b[0m\u001b[37m━\u001b[0m \u001b[1m0s\u001b[0m 32ms/step - accuracy: 0.3432 - auc: 0.7271 - loss: 0.5169 - precision: 0.5745 - recall: 0.2635\n",
      "Epoch 30: val_auc improved from 0.70830 to 0.70987, saving model to output_dnn_training_tpu/best_dnn_model_tpu.keras\n",
      "\u001b[1m241/241\u001b[0m \u001b[32m━━━━━━━━━━━━━━━━━━━━\u001b[0m\u001b[37m\u001b[0m \u001b[1m38s\u001b[0m 101ms/step - accuracy: 0.3431 - auc: 0.7271 - loss: 0.5169 - precision: 0.5748 - recall: 0.2636 - val_accuracy: 0.2670 - val_auc: 0.7099 - val_loss: 0.5449 - val_precision: 0.5917 - val_recall: 0.3294\n",
      "Epoch 31/50\n",
      "\u001b[1m241/241\u001b[0m \u001b[32m━━━━━━━━━━━━━━━━━━━━\u001b[0m\u001b[37m\u001b[0m \u001b[1m0s\u001b[0m 32ms/step - accuracy: 0.3126 - auc: 0.7151 - loss: 0.5299 - precision: 0.5845 - recall: 0.2543\n",
      "Epoch 31: val_auc improved from 0.70987 to 0.71235, saving model to output_dnn_training_tpu/best_dnn_model_tpu.keras\n",
      "\u001b[1m241/241\u001b[0m \u001b[32m━━━━━━━━━━━━━━━━━━━━\u001b[0m\u001b[37m\u001b[0m \u001b[1m38s\u001b[0m 102ms/step - accuracy: 0.3127 - auc: 0.7152 - loss: 0.5298 - precision: 0.5847 - recall: 0.2544 - val_accuracy: 0.2520 - val_auc: 0.7123 - val_loss: 0.5441 - val_precision: 0.5855 - val_recall: 0.3368\n",
      "Epoch 32/50\n",
      "\u001b[1m240/241\u001b[0m \u001b[32m━━━━━━━━━━━━━━━━━━━\u001b[0m\u001b[37m━\u001b[0m \u001b[1m0s\u001b[0m 32ms/step - accuracy: 0.3401 - auc: 0.7273 - loss: 0.5162 - precision: 0.5921 - recall: 0.2711\n",
      "Epoch 32: val_auc improved from 0.71235 to 0.71259, saving model to output_dnn_training_tpu/best_dnn_model_tpu.keras\n",
      "\u001b[1m241/241\u001b[0m \u001b[32m━━━━━━━━━━━━━━━━━━━━\u001b[0m\u001b[37m\u001b[0m \u001b[1m38s\u001b[0m 101ms/step - accuracy: 0.3401 - auc: 0.7273 - loss: 0.5162 - precision: 0.5923 - recall: 0.2712 - val_accuracy: 0.2766 - val_auc: 0.7126 - val_loss: 0.5404 - val_precision: 0.5930 - val_recall: 0.3659\n",
      "Epoch 33/50\n",
      "\u001b[1m239/241\u001b[0m \u001b[32m━━━━━━━━━━━━━━━━━━━\u001b[0m\u001b[37m━\u001b[0m \u001b[1m0s\u001b[0m 32ms/step - accuracy: 0.3452 - auc: 0.7313 - loss: 0.5150 - precision: 0.6071 - recall: 0.2680\n",
      "Epoch 33: val_auc did not improve from 0.71259\n",
      "\u001b[1m241/241\u001b[0m \u001b[32m━━━━━━━━━━━━━━━━━━━━\u001b[0m\u001b[37m\u001b[0m \u001b[1m39s\u001b[0m 105ms/step - accuracy: 0.3450 - auc: 0.7314 - loss: 0.5150 - precision: 0.6072 - recall: 0.2681 - val_accuracy: 0.2561 - val_auc: 0.7099 - val_loss: 0.5469 - val_precision: 0.5924 - val_recall: 0.2891\n",
      "Epoch 34/50\n",
      "\u001b[1m239/241\u001b[0m \u001b[32m━━━━━━━━━━━━━━━━━━━\u001b[0m\u001b[37m━\u001b[0m \u001b[1m0s\u001b[0m 32ms/step - accuracy: 0.3570 - auc: 0.7196 - loss: 0.5250 - precision: 0.6048 - recall: 0.2545\n",
      "Epoch 34: val_auc did not improve from 0.71259\n",
      "\u001b[1m241/241\u001b[0m \u001b[32m━━━━━━━━━━━━━━━━━━━━\u001b[0m\u001b[37m\u001b[0m \u001b[1m38s\u001b[0m 100ms/step - accuracy: 0.3567 - auc: 0.7197 - loss: 0.5250 - precision: 0.6049 - recall: 0.2548 - val_accuracy: 0.2670 - val_auc: 0.7124 - val_loss: 0.5411 - val_precision: 0.5960 - val_recall: 0.3353\n",
      "Epoch 35/50\n",
      "\u001b[1m239/241\u001b[0m \u001b[32m━━━━━━━━━━━━━━━━━━━\u001b[0m\u001b[37m━\u001b[0m \u001b[1m0s\u001b[0m 33ms/step - accuracy: 0.3586 - auc: 0.7352 - loss: 0.5140 - precision: 0.6106 - recall: 0.2750\n",
      "Epoch 35: val_auc did not improve from 0.71259\n",
      "\u001b[1m241/241\u001b[0m \u001b[32m━━━━━━━━━━━━━━━━━━━━\u001b[0m\u001b[37m\u001b[0m \u001b[1m38s\u001b[0m 101ms/step - accuracy: 0.3584 - auc: 0.7353 - loss: 0.5140 - precision: 0.6107 - recall: 0.2752 - val_accuracy: 0.2711 - val_auc: 0.7120 - val_loss: 0.5384 - val_precision: 0.5992 - val_recall: 0.3308\n",
      "Epoch 36/50\n",
      "\u001b[1m241/241\u001b[0m \u001b[32m━━━━━━━━━━━━━━━━━━━━\u001b[0m\u001b[37m\u001b[0m \u001b[1m0s\u001b[0m 32ms/step - accuracy: 0.3444 - auc: 0.7233 - loss: 0.5235 - precision: 0.5918 - recall: 0.2502\n",
      "Epoch 36: val_auc did not improve from 0.71259\n",
      "\u001b[1m241/241\u001b[0m \u001b[32m━━━━━━━━━━━━━━━━━━━━\u001b[0m\u001b[37m\u001b[0m \u001b[1m38s\u001b[0m 101ms/step - accuracy: 0.3444 - auc: 0.7234 - loss: 0.5235 - precision: 0.5919 - recall: 0.2504 - val_accuracy: 0.2439 - val_auc: 0.7124 - val_loss: 0.5418 - val_precision: 0.5928 - val_recall: 0.3331\n",
      "Epoch 37/50\n",
      "\u001b[1m241/241\u001b[0m \u001b[32m━━━━━━━━━━━━━━━━━━━━\u001b[0m\u001b[37m\u001b[0m \u001b[1m0s\u001b[0m 32ms/step - accuracy: 0.3442 - auc: 0.7253 - loss: 0.5210 - precision: 0.6111 - recall: 0.2650\n",
      "Epoch 37: val_auc did not improve from 0.71259\n",
      "\u001b[1m241/241\u001b[0m \u001b[32m━━━━━━━━━━━━━━━━━━━━\u001b[0m\u001b[37m\u001b[0m \u001b[1m38s\u001b[0m 101ms/step - accuracy: 0.3441 - auc: 0.7253 - loss: 0.5210 - precision: 0.6111 - recall: 0.2651 - val_accuracy: 0.2425 - val_auc: 0.7112 - val_loss: 0.5474 - val_precision: 0.5767 - val_recall: 0.3279\n",
      "Epoch 38/50\n",
      "\u001b[1m239/241\u001b[0m \u001b[32m━━━━━━━━━━━━━━━━━━━\u001b[0m\u001b[37m━\u001b[0m \u001b[1m0s\u001b[0m 32ms/step - accuracy: 0.3690 - auc: 0.7387 - loss: 0.5134 - precision: 0.6076 - recall: 0.2748\n",
      "Epoch 38: val_auc did not improve from 0.71259\n",
      "\u001b[1m241/241\u001b[0m \u001b[32m━━━━━━━━━━━━━━━━━━━━\u001b[0m\u001b[37m\u001b[0m \u001b[1m38s\u001b[0m 101ms/step - accuracy: 0.3687 - auc: 0.7387 - loss: 0.5135 - precision: 0.6078 - recall: 0.2749 - val_accuracy: 0.2561 - val_auc: 0.7121 - val_loss: 0.5413 - val_precision: 0.5860 - val_recall: 0.3048\n",
      "Epoch 39/50\n",
      "\u001b[1m239/241\u001b[0m \u001b[32m━━━━━━━━━━━━━━━━━━━\u001b[0m\u001b[37m━\u001b[0m \u001b[1m0s\u001b[0m 32ms/step - accuracy: 0.3537 - auc: 0.7333 - loss: 0.5085 - precision: 0.6165 - recall: 0.2646\n",
      "Epoch 39: val_auc improved from 0.71259 to 0.71366, saving model to output_dnn_training_tpu/best_dnn_model_tpu.keras\n",
      "\u001b[1m241/241\u001b[0m \u001b[32m━━━━━━━━━━━━━━━━━━━━\u001b[0m\u001b[37m\u001b[0m \u001b[1m39s\u001b[0m 101ms/step - accuracy: 0.3536 - auc: 0.7334 - loss: 0.5085 - precision: 0.6166 - recall: 0.2649 - val_accuracy: 0.2779 - val_auc: 0.7137 - val_loss: 0.5390 - val_precision: 0.6081 - val_recall: 0.3122\n",
      "Epoch 40/50\n",
      "\u001b[1m241/241\u001b[0m \u001b[32m━━━━━━━━━━━━━━━━━━━━\u001b[0m\u001b[37m\u001b[0m \u001b[1m0s\u001b[0m 32ms/step - accuracy: 0.3446 - auc: 0.7284 - loss: 0.5215 - precision: 0.6138 - recall: 0.2677\n",
      "Epoch 40: val_auc did not improve from 0.71366\n",
      "\u001b[1m241/241\u001b[0m \u001b[32m━━━━━━━━━━━━━━━━━━━━\u001b[0m\u001b[37m\u001b[0m \u001b[1m38s\u001b[0m 101ms/step - accuracy: 0.3446 - auc: 0.7284 - loss: 0.5215 - precision: 0.6138 - recall: 0.2678 - val_accuracy: 0.2711 - val_auc: 0.7117 - val_loss: 0.5409 - val_precision: 0.6090 - val_recall: 0.3040\n",
      "Epoch 41/50\n",
      "\u001b[1m239/241\u001b[0m \u001b[32m━━━━━━━━━━━━━━━━━━━\u001b[0m\u001b[37m━\u001b[0m \u001b[1m0s\u001b[0m 33ms/step - accuracy: 0.3286 - auc: 0.7183 - loss: 0.5262 - precision: 0.5906 - recall: 0.2693\n",
      "Epoch 41: val_auc did not improve from 0.71366\n",
      "\u001b[1m241/241\u001b[0m \u001b[32m━━━━━━━━━━━━━━━━━━━━\u001b[0m\u001b[37m\u001b[0m \u001b[1m38s\u001b[0m 102ms/step - accuracy: 0.3287 - auc: 0.7185 - loss: 0.5261 - precision: 0.5910 - recall: 0.2696 - val_accuracy: 0.2602 - val_auc: 0.7119 - val_loss: 0.5433 - val_precision: 0.5925 - val_recall: 0.3055\n",
      "Epoch 42/50\n",
      "\u001b[1m241/241\u001b[0m \u001b[32m━━━━━━━━━━━━━━━━━━━━\u001b[0m\u001b[37m\u001b[0m \u001b[1m0s\u001b[0m 32ms/step - accuracy: 0.3527 - auc: 0.7450 - loss: 0.5089 - precision: 0.6309 - recall: 0.2846\n",
      "Epoch 42: val_auc improved from 0.71366 to 0.71435, saving model to output_dnn_training_tpu/best_dnn_model_tpu.keras\n",
      "\u001b[1m241/241\u001b[0m \u001b[32m━━━━━━━━━━━━━━━━━━━━\u001b[0m\u001b[37m\u001b[0m \u001b[1m38s\u001b[0m 102ms/step - accuracy: 0.3527 - auc: 0.7450 - loss: 0.5089 - precision: 0.6308 - recall: 0.2847 - val_accuracy: 0.2534 - val_auc: 0.7143 - val_loss: 0.5381 - val_precision: 0.5822 - val_recall: 0.3614\n",
      "Epoch 43/50\n",
      "\u001b[1m239/241\u001b[0m \u001b[32m━━━━━━━━━━━━━━━━━━━\u001b[0m\u001b[37m━\u001b[0m \u001b[1m0s\u001b[0m 33ms/step - accuracy: 0.3372 - auc: 0.7355 - loss: 0.5149 - precision: 0.6140 - recall: 0.2771\n",
      "Epoch 43: val_auc did not improve from 0.71435\n",
      "\u001b[1m241/241\u001b[0m \u001b[32m━━━━━━━━━━━━━━━━━━━━\u001b[0m\u001b[37m\u001b[0m \u001b[1m38s\u001b[0m 101ms/step - accuracy: 0.3372 - auc: 0.7356 - loss: 0.5149 - precision: 0.6142 - recall: 0.2773 - val_accuracy: 0.2643 - val_auc: 0.7137 - val_loss: 0.5369 - val_precision: 0.5966 - val_recall: 0.3152\n",
      "Epoch 44/50\n",
      "\u001b[1m239/241\u001b[0m \u001b[32m━━━━━━━━━━━━━━━━━━━\u001b[0m\u001b[37m━\u001b[0m \u001b[1m0s\u001b[0m 33ms/step - accuracy: 0.3514 - auc: 0.7305 - loss: 0.5145 - precision: 0.6163 - recall: 0.2751\n",
      "Epoch 44: val_auc did not improve from 0.71435\n",
      "\u001b[1m241/241\u001b[0m \u001b[32m━━━━━━━━━━━━━━━━━━━━\u001b[0m\u001b[37m\u001b[0m \u001b[1m39s\u001b[0m 105ms/step - accuracy: 0.3512 - auc: 0.7307 - loss: 0.5144 - precision: 0.6165 - recall: 0.2754 - val_accuracy: 0.2629 - val_auc: 0.7121 - val_loss: 0.5396 - val_precision: 0.6003 - val_recall: 0.3033\n",
      "Epoch 45/50\n",
      "\u001b[1m241/241\u001b[0m \u001b[32m━━━━━━━━━━━━━━━━━━━━\u001b[0m\u001b[37m\u001b[0m \u001b[1m0s\u001b[0m 33ms/step - accuracy: 0.3535 - auc: 0.7435 - loss: 0.5063 - precision: 0.6200 - recall: 0.2886\n",
      "Epoch 45: val_auc did not improve from 0.71435\n",
      "\u001b[1m241/241\u001b[0m \u001b[32m━━━━━━━━━━━━━━━━━━━━\u001b[0m\u001b[37m\u001b[0m \u001b[1m38s\u001b[0m 102ms/step - accuracy: 0.3534 - auc: 0.7435 - loss: 0.5063 - precision: 0.6200 - recall: 0.2887 - val_accuracy: 0.2466 - val_auc: 0.7138 - val_loss: 0.5412 - val_precision: 0.5894 - val_recall: 0.3316\n",
      "Epoch 46/50\n",
      "\u001b[1m241/241\u001b[0m \u001b[32m━━━━━━━━━━━━━━━━━━━━\u001b[0m\u001b[37m\u001b[0m \u001b[1m0s\u001b[0m 32ms/step - accuracy: 0.3657 - auc: 0.7444 - loss: 0.5100 - precision: 0.6300 - recall: 0.2859\n",
      "Epoch 46: val_auc improved from 0.71435 to 0.71536, saving model to output_dnn_training_tpu/best_dnn_model_tpu.keras\n",
      "\u001b[1m241/241\u001b[0m \u001b[32m━━━━━━━━━━━━━━━━━━━━\u001b[0m\u001b[37m\u001b[0m \u001b[1m38s\u001b[0m 102ms/step - accuracy: 0.3656 - auc: 0.7444 - loss: 0.5100 - precision: 0.6300 - recall: 0.2860 - val_accuracy: 0.2861 - val_auc: 0.7154 - val_loss: 0.5363 - val_precision: 0.6190 - val_recall: 0.3353\n",
      "Epoch 47/50\n",
      "\u001b[1m241/241\u001b[0m \u001b[32m━━━━━━━━━━━━━━━━━━━━\u001b[0m\u001b[37m\u001b[0m \u001b[1m0s\u001b[0m 32ms/step - accuracy: 0.3549 - auc: 0.7460 - loss: 0.5110 - precision: 0.6219 - recall: 0.2921\n",
      "Epoch 47: val_auc did not improve from 0.71536\n",
      "\u001b[1m241/241\u001b[0m \u001b[32m━━━━━━━━━━━━━━━━━━━━\u001b[0m\u001b[37m\u001b[0m \u001b[1m38s\u001b[0m 101ms/step - accuracy: 0.3548 - auc: 0.7460 - loss: 0.5110 - precision: 0.6219 - recall: 0.2921 - val_accuracy: 0.2452 - val_auc: 0.7130 - val_loss: 0.5421 - val_precision: 0.5765 - val_recall: 0.3286\n",
      "Epoch 48/50\n",
      "\u001b[1m239/241\u001b[0m \u001b[32m━━━━━━━━━━━━━━━━━━━\u001b[0m\u001b[37m━\u001b[0m \u001b[1m0s\u001b[0m 33ms/step - accuracy: 0.3604 - auc: 0.7322 - loss: 0.5157 - precision: 0.6103 - recall: 0.2815\n",
      "Epoch 48: val_auc did not improve from 0.71536\n",
      "\u001b[1m241/241\u001b[0m \u001b[32m━━━━━━━━━━━━━━━━━━━━\u001b[0m\u001b[37m\u001b[0m \u001b[1m38s\u001b[0m 101ms/step - accuracy: 0.3602 - auc: 0.7323 - loss: 0.5157 - precision: 0.6105 - recall: 0.2817 - val_accuracy: 0.2548 - val_auc: 0.7151 - val_loss: 0.5378 - val_precision: 0.5918 - val_recall: 0.3338\n",
      "Epoch 49/50\n",
      "\u001b[1m241/241\u001b[0m \u001b[32m━━━━━━━━━━━━━━━━━━━━\u001b[0m\u001b[37m\u001b[0m \u001b[1m0s\u001b[0m 32ms/step - accuracy: 0.3306 - auc: 0.7402 - loss: 0.5150 - precision: 0.6347 - recall: 0.2839\n",
      "Epoch 49: val_auc improved from 0.71536 to 0.71570, saving model to output_dnn_training_tpu/best_dnn_model_tpu.keras\n",
      "\u001b[1m241/241\u001b[0m \u001b[32m━━━━━━━━━━━━━━━━━━━━\u001b[0m\u001b[37m\u001b[0m \u001b[1m38s\u001b[0m 101ms/step - accuracy: 0.3306 - auc: 0.7402 - loss: 0.5150 - precision: 0.6347 - recall: 0.2840 - val_accuracy: 0.2466 - val_auc: 0.7157 - val_loss: 0.5385 - val_precision: 0.5895 - val_recall: 0.3264\n",
      "Epoch 50/50\n",
      "\u001b[1m239/241\u001b[0m \u001b[32m━━━━━━━━━━━━━━━━━━━\u001b[0m\u001b[37m━\u001b[0m \u001b[1m0s\u001b[0m 32ms/step - accuracy: 0.3507 - auc: 0.7412 - loss: 0.5142 - precision: 0.6416 - recall: 0.2913\n",
      "Epoch 50: val_auc did not improve from 0.71570\n",
      "\u001b[1m241/241\u001b[0m \u001b[32m━━━━━━━━━━━━━━━━━━━━\u001b[0m\u001b[37m\u001b[0m \u001b[1m39s\u001b[0m 105ms/step - accuracy: 0.3506 - auc: 0.7413 - loss: 0.5142 - precision: 0.6415 - recall: 0.2914 - val_accuracy: 0.2766 - val_auc: 0.7141 - val_loss: 0.5405 - val_precision: 0.6062 - val_recall: 0.3189\n"
     ]
    }
   ],
   "source": [
    "print(\"\\n--- Starting Training on TPU... ---\")\n",
    "history = model.fit(\n",
    "    train_dataset,\n",
    "    epochs=EPOCHS,\n",
    "    validation_data=val_dataset,\n",
    "    callbacks=[checkpoint, early_stopping]\n",
    ")"
   ]
  },
  {
   "cell_type": "code",
   "execution_count": null,
   "metadata": {
    "execution": {
     "iopub.execute_input": "2025-07-21T06:40:32.085691Z",
     "iopub.status.busy": "2025-07-21T06:40:32.085386Z",
     "iopub.status.idle": "2025-07-21T06:40:50.944726Z",
     "shell.execute_reply": "2025-07-21T06:40:50.939534Z",
     "shell.execute_reply.started": "2025-07-21T06:40:32.085663Z"
    },
    "trusted": true
   },
   "outputs": [
    {
     "name": "stdout",
     "output_type": "stream",
     "text": [
      "\n",
      "--- Evaluating Model on the Test Set ---\n"
     ]
    },
    {
     "name": "stderr",
     "output_type": "stream",
     "text": [
      "I0000 00:00:1753080040.141885      10 encapsulate_tpu_computations_pass.cc:266] Subgraph fingerprint:12599209691991127309\n",
      "WARNING: All log messages before absl::InitializeLog() is called are written to STDERR\n",
      "E0000 00:00:1753080040.148376      10 meta_optimizer.cc:966] model_pruner failed: INVALID_ARGUMENT: Graph does not contain terminal node functional_3_1/dense_12_1/BiasAdd/ReadVariableOp.\n",
      "I0000 00:00:1753080040.179645     954 tpu_compilation_cache_interface.cc:442] TPU host compilation cache miss: cache_key(1224222280778986089), session_name()\n",
      "I0000 00:00:1753080040.261794     954 tpu_compile_op_common.cc:245] Compilation of 1224222280778986089 with session name  took 82.068062ms and succeeded\n",
      "I0000 00:00:1753080040.262496     954 tpu_compilation_cache_interface.cc:476] TPU host compilation cache: compilation complete for cache_key(1224222280778986089), session_name(), subgraph_key(std::string(property.function_name) = \"cluster_one_step_on_data_distributed_12599209691991127309\", property.function_library_fingerprint = 15070552132351563143, property.mlir_module_fingerprint = 0, property.num_replicas = 8, topology.chip_bounds().x = 2, topology.chip_bounds().y = 2, topology.chip_bounds().z = 1, topology.wrap().x = false, topology.wrap().y = false, topology.wrap().z = false, std::string(property.shapes_prefix) = \"\", property.guaranteed_constants_size = 0, embedding_partitions_fingerprint = \"1688352644216761960\")\n",
      "I0000 00:00:1753080040.262526     954 tpu_compilation_cache_interface.cc:542] After adding entry for key 1224222280778986089 with session_name  cache is 9 entries (232436114 bytes),  marked for eviction 0 entries (0 bytes).\n"
     ]
    },
    {
     "name": "stdout",
     "output_type": "stream",
     "text": [
      "\u001b[1m67/68\u001b[0m \u001b[32m━━━━━━━━━━━━━━━━━━━\u001b[0m\u001b[37m━\u001b[0m \u001b[1m0s\u001b[0m 77ms/step"
     ]
    },
    {
     "name": "stderr",
     "output_type": "stream",
     "text": [
      "I0000 00:00:1753080045.768663      10 encapsulate_tpu_computations_pass.cc:266] Subgraph fingerprint:11839107494264399934\n",
      "I0000 00:00:1753080045.940373     951 tpu_compilation_cache_interface.cc:442] TPU host compilation cache miss: cache_key(17241457314736913021), session_name()\n",
      "I0000 00:00:1753080046.041835     951 tpu_compile_op_common.cc:245] Compilation of 17241457314736913021 with session name  took 101.408618ms and succeeded\n",
      "I0000 00:00:1753080046.042322     951 tpu_compilation_cache_interface.cc:476] TPU host compilation cache: compilation complete for cache_key(17241457314736913021), session_name(), subgraph_key(std::string(property.function_name) = \"cluster_one_step_on_data_distributed_11839107494264399934\", property.function_library_fingerprint = 4871330483379442236, property.mlir_module_fingerprint = 0, property.num_replicas = 8, topology.chip_bounds().x = 2, topology.chip_bounds().y = 2, topology.chip_bounds().z = 1, topology.wrap().x = false, topology.wrap().y = false, topology.wrap().z = false, std::string(property.shapes_prefix) = \"6,150,768,;6,6,;\", property.guaranteed_constants_size = 0, embedding_partitions_fingerprint = \"1688352644216761960\")\n",
      "I0000 00:00:1753080046.042344     951 tpu_compilation_cache_interface.cc:542] After adding entry for key 17241457314736913021 with session_name  cache is 10 entries (232827277 bytes),  marked for eviction 0 entries (0 bytes).\n"
     ]
    },
    {
     "name": "stdout",
     "output_type": "stream",
     "text": [
      "\u001b[1m68/68\u001b[0m \u001b[32m━━━━━━━━━━━━━━━━━━━━\u001b[0m\u001b[37m\u001b[0m \u001b[1m14s\u001b[0m 149ms/step\n",
      "\n",
      "--- Classification Report (Multi-Label) ---\n",
      "              precision    recall  f1-score   support\n",
      "\n",
      "Prolongation       0.75      0.14      0.24      2613\n",
      "       Block       0.63      0.22      0.33      3501\n",
      "    SoundRep       0.63      0.20      0.30      1891\n",
      "     WordRep       0.48      0.35      0.40      1742\n",
      "Interjection       0.78      0.53      0.63      3344\n",
      "   NoStutter       0.54      0.40      0.46      1674\n",
      "\n",
      "   micro avg       0.64      0.31      0.42     14765\n",
      "   macro avg       0.64      0.31      0.39     14765\n",
      "weighted avg       0.66      0.31      0.40     14765\n",
      " samples avg       0.38      0.31      0.32     14765\n",
      "\n",
      "\n",
      "--- Generating plots for model training history... ---\n"
     ]
    },
    {
     "data": {
      "image/png": "[encoded data removed]",
      "text/plain": [
       "<Figure size 1800x700 with 2 Axes>"
      ]
     },
     "metadata": {},
     "output_type": "display_data"
    },
    {
     "name": "stdout",
     "output_type": "stream",
     "text": [
      "\n",
      "--- Pipeline complete. All outputs saved in 'output_dnn_training_tpu' directory. ---\n"
     ]
    }
   ],
   "source": [
    "print(\"\\n--- Evaluating Model on the Test Set ---\")\n",
    "y_pred_probs = model.predict(test_dataset)\n",
    "y_pred = (y_pred_probs > THRESHOLD).astype(int)\n",
    "\n",
    "num_predictions = len(y_pred)\n",
    "report = classification_report(y_test[:num_predictions], y_pred, target_names=LABEL_COLS, zero_division=0)\n",
    "print(\"\\n--- Classification Report (Multi-Label) ---\")\n",
    "print(report)\n",
    "with open(OUTPUT_DIR / \"classification_report.txt\", \"w\") as f:\n",
    "    f.write(report)\n",
    "\n",
    "# --- Plotting History ---\n",
    "print(\"\\n--- Generating plots for model training history... ---\")\n",
    "history_dict = history.history\n",
    "fig, (ax1, ax2) = plt.subplots(1, 2, figsize=(18, 7))\n",
    "fig.suptitle('Conformer Classifier Training History (TPU)', fontsize=16)\n",
    "ax1.plot(history_dict['loss'], 'o-', label='Train Loss')\n",
    "ax1.plot(history_dict['val_loss'], 'o-', label='Validation Loss')\n",
    "ax1.set_title('Focal Loss'); ax1.set_xlabel('Epoch'); ax1.set_ylabel('Loss'); ax1.legend(); ax1.grid(True)\n",
    "ax2.plot(history_dict['val_auc'], 'o-', label='Validation AUC')\n",
    "ax2.set_title('Validation AUC'); ax2.set_xlabel('Epoch'); ax2.set_ylabel('AUC'); ax2.legend(); ax2.grid(True)\n",
    "plt.savefig(OUTPUT_DIR / \"training_history_conformer_tpu.png\")\n",
    "plt.show()\n",
    "\n",
    "print(f\"\\n--- Pipeline complete. All outputs saved in '{OUTPUT_DIR}' directory. ---\")"
   ]
  },
  {
   "cell_type": "code",
   "execution_count": null,
   "metadata": {
    "trusted": true
   },
   "outputs": [],
   "source": []
  }
 ],
 "metadata": {
  "kaggle": {
   "accelerator": "tpu1vmV38",
   "dataSources": [
    {
     "datasetId": 2285103,
     "sourceId": 3839191,
     "sourceType": "datasetVersion"
    }
   ],
   "dockerImageVersionId": 31090,
   "isGpuEnabled": false,
   "isInternetEnabled": true,
   "language": "python",
   "sourceType": "notebook"
  },
  "kernelspec": {
   "display_name": "Python 3",
   "language": "python",
   "name": "python3"
  },
  "language_info": {
   "codemirror_mode": {
    "name": "ipython",
    "version": 3
   },
   "file_extension": ".py",
   "mimetype": "text/x-python",
   "name": "python",
   "nbconvert_exporter": "python",
   "pygments_lexer": "ipython3",
   "version": "3.10.18"
  }
 },
 "nbformat": 4,
 "nbformat_minor": 4
}
